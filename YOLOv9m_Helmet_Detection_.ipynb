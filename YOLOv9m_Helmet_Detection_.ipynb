{
  "nbformat": 4,
  "nbformat_minor": 0,
  "metadata": {
    "colab": {
      "provenance": [],
      "gpuType": "T4",
      "mount_file_id": "1VZuZtY47eM8E634X2qTH1nayv648kxrB",
      "authorship_tag": "ABX9TyN4HcqnQERQ9DBJuuncVmHL",
      "include_colab_link": true
    },
    "kernelspec": {
      "name": "python3",
      "display_name": "Python 3"
    },
    "language_info": {
      "name": "python"
    },
    "accelerator": "GPU"
  },
  "cells": [
    {
      "cell_type": "markdown",
      "metadata": {
        "id": "view-in-github",
        "colab_type": "text"
      },
      "source": [
        "<a href=\"https://colab.research.google.com/github/Ali-Kh0/Helmet_Detection/blob/main/YOLOv9m_Helmet_Detection_.ipynb\" target=\"_parent\"><img src=\"https://colab.research.google.com/assets/colab-badge.svg\" alt=\"Open In Colab\"/></a>"
      ]
    },
    {
      "cell_type": "code",
      "source": [
        "!pip install ultralytics roboflow opencv-python matplotlib tqdm gdown"
      ],
      "metadata": {
        "colab": {
          "base_uri": "https://localhost:8080/"
        },
        "collapsed": true,
        "id": "mHhCDS03tBdA",
        "outputId": "51dc31ba-bcd9-45ef-8704-53951ebffb90"
      },
      "execution_count": 1,
      "outputs": [
        {
          "output_type": "stream",
          "name": "stdout",
          "text": [
            "Collecting ultralytics\n",
            "  Downloading ultralytics-8.3.74-py3-none-any.whl.metadata (35 kB)\n",
            "Collecting roboflow\n",
            "  Downloading roboflow-1.1.53-py3-none-any.whl.metadata (9.7 kB)\n",
            "Requirement already satisfied: opencv-python in /usr/local/lib/python3.11/dist-packages (4.11.0.86)\n",
            "Requirement already satisfied: matplotlib in /usr/local/lib/python3.11/dist-packages (3.10.0)\n",
            "Requirement already satisfied: tqdm in /usr/local/lib/python3.11/dist-packages (4.67.1)\n",
            "Requirement already satisfied: gdown in /usr/local/lib/python3.11/dist-packages (5.2.0)\n",
            "Requirement already satisfied: numpy<=2.1.1,>=1.23.0 in /usr/local/lib/python3.11/dist-packages (from ultralytics) (1.26.4)\n",
            "Requirement already satisfied: pillow>=7.1.2 in /usr/local/lib/python3.11/dist-packages (from ultralytics) (11.1.0)\n",
            "Requirement already satisfied: pyyaml>=5.3.1 in /usr/local/lib/python3.11/dist-packages (from ultralytics) (6.0.2)\n",
            "Requirement already satisfied: requests>=2.23.0 in /usr/local/lib/python3.11/dist-packages (from ultralytics) (2.32.3)\n",
            "Requirement already satisfied: scipy>=1.4.1 in /usr/local/lib/python3.11/dist-packages (from ultralytics) (1.13.1)\n",
            "Requirement already satisfied: torch>=1.8.0 in /usr/local/lib/python3.11/dist-packages (from ultralytics) (2.5.1+cu124)\n",
            "Requirement already satisfied: torchvision>=0.9.0 in /usr/local/lib/python3.11/dist-packages (from ultralytics) (0.20.1+cu124)\n",
            "Requirement already satisfied: psutil in /usr/local/lib/python3.11/dist-packages (from ultralytics) (5.9.5)\n",
            "Requirement already satisfied: py-cpuinfo in /usr/local/lib/python3.11/dist-packages (from ultralytics) (9.0.0)\n",
            "Requirement already satisfied: pandas>=1.1.4 in /usr/local/lib/python3.11/dist-packages (from ultralytics) (2.2.2)\n",
            "Requirement already satisfied: seaborn>=0.11.0 in /usr/local/lib/python3.11/dist-packages (from ultralytics) (0.13.2)\n",
            "Collecting ultralytics-thop>=2.0.0 (from ultralytics)\n",
            "  Downloading ultralytics_thop-2.0.14-py3-none-any.whl.metadata (9.4 kB)\n",
            "Requirement already satisfied: certifi in /usr/local/lib/python3.11/dist-packages (from roboflow) (2025.1.31)\n",
            "Collecting idna==3.7 (from roboflow)\n",
            "  Downloading idna-3.7-py3-none-any.whl.metadata (9.9 kB)\n",
            "Requirement already satisfied: cycler in /usr/local/lib/python3.11/dist-packages (from roboflow) (0.12.1)\n",
            "Requirement already satisfied: kiwisolver>=1.3.1 in /usr/local/lib/python3.11/dist-packages (from roboflow) (1.4.8)\n",
            "Collecting opencv-python-headless==4.10.0.84 (from roboflow)\n",
            "  Downloading opencv_python_headless-4.10.0.84-cp37-abi3-manylinux_2_17_x86_64.manylinux2014_x86_64.whl.metadata (20 kB)\n",
            "Requirement already satisfied: python-dateutil in /usr/local/lib/python3.11/dist-packages (from roboflow) (2.8.2)\n",
            "Collecting python-dotenv (from roboflow)\n",
            "  Downloading python_dotenv-1.0.1-py3-none-any.whl.metadata (23 kB)\n",
            "Requirement already satisfied: six in /usr/local/lib/python3.11/dist-packages (from roboflow) (1.17.0)\n",
            "Requirement already satisfied: urllib3>=1.26.6 in /usr/local/lib/python3.11/dist-packages (from roboflow) (2.3.0)\n",
            "Requirement already satisfied: requests-toolbelt in /usr/local/lib/python3.11/dist-packages (from roboflow) (1.0.0)\n",
            "Collecting filetype (from roboflow)\n",
            "  Downloading filetype-1.2.0-py2.py3-none-any.whl.metadata (6.5 kB)\n",
            "Requirement already satisfied: contourpy>=1.0.1 in /usr/local/lib/python3.11/dist-packages (from matplotlib) (1.3.1)\n",
            "Requirement already satisfied: fonttools>=4.22.0 in /usr/local/lib/python3.11/dist-packages (from matplotlib) (4.55.8)\n",
            "Requirement already satisfied: packaging>=20.0 in /usr/local/lib/python3.11/dist-packages (from matplotlib) (24.2)\n",
            "Requirement already satisfied: pyparsing>=2.3.1 in /usr/local/lib/python3.11/dist-packages (from matplotlib) (3.2.1)\n",
            "Requirement already satisfied: beautifulsoup4 in /usr/local/lib/python3.11/dist-packages (from gdown) (4.13.3)\n",
            "Requirement already satisfied: filelock in /usr/local/lib/python3.11/dist-packages (from gdown) (3.17.0)\n",
            "Requirement already satisfied: pytz>=2020.1 in /usr/local/lib/python3.11/dist-packages (from pandas>=1.1.4->ultralytics) (2025.1)\n",
            "Requirement already satisfied: tzdata>=2022.7 in /usr/local/lib/python3.11/dist-packages (from pandas>=1.1.4->ultralytics) (2025.1)\n",
            "Requirement already satisfied: charset-normalizer<4,>=2 in /usr/local/lib/python3.11/dist-packages (from requests>=2.23.0->ultralytics) (3.4.1)\n",
            "Requirement already satisfied: typing-extensions>=4.8.0 in /usr/local/lib/python3.11/dist-packages (from torch>=1.8.0->ultralytics) (4.12.2)\n",
            "Requirement already satisfied: networkx in /usr/local/lib/python3.11/dist-packages (from torch>=1.8.0->ultralytics) (3.4.2)\n",
            "Requirement already satisfied: jinja2 in /usr/local/lib/python3.11/dist-packages (from torch>=1.8.0->ultralytics) (3.1.5)\n",
            "Requirement already satisfied: fsspec in /usr/local/lib/python3.11/dist-packages (from torch>=1.8.0->ultralytics) (2024.10.0)\n",
            "Collecting nvidia-cuda-nvrtc-cu12==12.4.127 (from torch>=1.8.0->ultralytics)\n",
            "  Downloading nvidia_cuda_nvrtc_cu12-12.4.127-py3-none-manylinux2014_x86_64.whl.metadata (1.5 kB)\n",
            "Collecting nvidia-cuda-runtime-cu12==12.4.127 (from torch>=1.8.0->ultralytics)\n",
            "  Downloading nvidia_cuda_runtime_cu12-12.4.127-py3-none-manylinux2014_x86_64.whl.metadata (1.5 kB)\n",
            "Collecting nvidia-cuda-cupti-cu12==12.4.127 (from torch>=1.8.0->ultralytics)\n",
            "  Downloading nvidia_cuda_cupti_cu12-12.4.127-py3-none-manylinux2014_x86_64.whl.metadata (1.6 kB)\n",
            "Collecting nvidia-cudnn-cu12==9.1.0.70 (from torch>=1.8.0->ultralytics)\n",
            "  Downloading nvidia_cudnn_cu12-9.1.0.70-py3-none-manylinux2014_x86_64.whl.metadata (1.6 kB)\n",
            "Collecting nvidia-cublas-cu12==12.4.5.8 (from torch>=1.8.0->ultralytics)\n",
            "  Downloading nvidia_cublas_cu12-12.4.5.8-py3-none-manylinux2014_x86_64.whl.metadata (1.5 kB)\n",
            "Collecting nvidia-cufft-cu12==11.2.1.3 (from torch>=1.8.0->ultralytics)\n",
            "  Downloading nvidia_cufft_cu12-11.2.1.3-py3-none-manylinux2014_x86_64.whl.metadata (1.5 kB)\n",
            "Collecting nvidia-curand-cu12==10.3.5.147 (from torch>=1.8.0->ultralytics)\n",
            "  Downloading nvidia_curand_cu12-10.3.5.147-py3-none-manylinux2014_x86_64.whl.metadata (1.5 kB)\n",
            "Collecting nvidia-cusolver-cu12==11.6.1.9 (from torch>=1.8.0->ultralytics)\n",
            "  Downloading nvidia_cusolver_cu12-11.6.1.9-py3-none-manylinux2014_x86_64.whl.metadata (1.6 kB)\n",
            "Collecting nvidia-cusparse-cu12==12.3.1.170 (from torch>=1.8.0->ultralytics)\n",
            "  Downloading nvidia_cusparse_cu12-12.3.1.170-py3-none-manylinux2014_x86_64.whl.metadata (1.6 kB)\n",
            "Requirement already satisfied: nvidia-nccl-cu12==2.21.5 in /usr/local/lib/python3.11/dist-packages (from torch>=1.8.0->ultralytics) (2.21.5)\n",
            "Requirement already satisfied: nvidia-nvtx-cu12==12.4.127 in /usr/local/lib/python3.11/dist-packages (from torch>=1.8.0->ultralytics) (12.4.127)\n",
            "Collecting nvidia-nvjitlink-cu12==12.4.127 (from torch>=1.8.0->ultralytics)\n",
            "  Downloading nvidia_nvjitlink_cu12-12.4.127-py3-none-manylinux2014_x86_64.whl.metadata (1.5 kB)\n",
            "Requirement already satisfied: triton==3.1.0 in /usr/local/lib/python3.11/dist-packages (from torch>=1.8.0->ultralytics) (3.1.0)\n",
            "Requirement already satisfied: sympy==1.13.1 in /usr/local/lib/python3.11/dist-packages (from torch>=1.8.0->ultralytics) (1.13.1)\n",
            "Requirement already satisfied: mpmath<1.4,>=1.1.0 in /usr/local/lib/python3.11/dist-packages (from sympy==1.13.1->torch>=1.8.0->ultralytics) (1.3.0)\n",
            "Requirement already satisfied: soupsieve>1.2 in /usr/local/lib/python3.11/dist-packages (from beautifulsoup4->gdown) (2.6)\n",
            "Requirement already satisfied: PySocks!=1.5.7,>=1.5.6 in /usr/local/lib/python3.11/dist-packages (from requests[socks]->gdown) (1.7.1)\n",
            "Requirement already satisfied: MarkupSafe>=2.0 in /usr/local/lib/python3.11/dist-packages (from jinja2->torch>=1.8.0->ultralytics) (3.0.2)\n",
            "Downloading ultralytics-8.3.74-py3-none-any.whl (914 kB)\n",
            "\u001b[2K   \u001b[90m━━━━━━━━━━━━━━━━━━━━━━━━━━━━━━━━━━━━━━━━\u001b[0m \u001b[32m914.7/914.7 kB\u001b[0m \u001b[31m34.1 MB/s\u001b[0m eta \u001b[36m0:00:00\u001b[0m\n",
            "\u001b[?25hDownloading roboflow-1.1.53-py3-none-any.whl (82 kB)\n",
            "\u001b[2K   \u001b[90m━━━━━━━━━━━━━━━━━━━━━━━━━━━━━━━━━━━━━━━━\u001b[0m \u001b[32m83.0/83.0 kB\u001b[0m \u001b[31m8.9 MB/s\u001b[0m eta \u001b[36m0:00:00\u001b[0m\n",
            "\u001b[?25hDownloading idna-3.7-py3-none-any.whl (66 kB)\n",
            "\u001b[2K   \u001b[90m━━━━━━━━━━━━━━━━━━━━━━━━━━━━━━━━━━━━━━━━\u001b[0m \u001b[32m66.8/66.8 kB\u001b[0m \u001b[31m6.6 MB/s\u001b[0m eta \u001b[36m0:00:00\u001b[0m\n",
            "\u001b[?25hDownloading opencv_python_headless-4.10.0.84-cp37-abi3-manylinux_2_17_x86_64.manylinux2014_x86_64.whl (49.9 MB)\n",
            "\u001b[2K   \u001b[90m━━━━━━━━━━━━━━━━━━━━━━━━━━━━━━━━━━━━━━━━\u001b[0m \u001b[32m49.9/49.9 MB\u001b[0m \u001b[31m17.7 MB/s\u001b[0m eta \u001b[36m0:00:00\u001b[0m\n",
            "\u001b[?25hDownloading nvidia_cublas_cu12-12.4.5.8-py3-none-manylinux2014_x86_64.whl (363.4 MB)\n",
            "\u001b[2K   \u001b[90m━━━━━━━━━━━━━━━━━━━━━━━━━━━━━━━━━━━━━━━━\u001b[0m \u001b[32m363.4/363.4 MB\u001b[0m \u001b[31m3.9 MB/s\u001b[0m eta \u001b[36m0:00:00\u001b[0m\n",
            "\u001b[?25hDownloading nvidia_cuda_cupti_cu12-12.4.127-py3-none-manylinux2014_x86_64.whl (13.8 MB)\n",
            "\u001b[2K   \u001b[90m━━━━━━━━━━━━━━━━━━━━━━━━━━━━━━━━━━━━━━━━\u001b[0m \u001b[32m13.8/13.8 MB\u001b[0m \u001b[31m99.7 MB/s\u001b[0m eta \u001b[36m0:00:00\u001b[0m\n",
            "\u001b[?25hDownloading nvidia_cuda_nvrtc_cu12-12.4.127-py3-none-manylinux2014_x86_64.whl (24.6 MB)\n",
            "\u001b[2K   \u001b[90m━━━━━━━━━━━━━━━━━━━━━━━━━━━━━━━━━━━━━━━━\u001b[0m \u001b[32m24.6/24.6 MB\u001b[0m \u001b[31m76.4 MB/s\u001b[0m eta \u001b[36m0:00:00\u001b[0m\n",
            "\u001b[?25hDownloading nvidia_cuda_runtime_cu12-12.4.127-py3-none-manylinux2014_x86_64.whl (883 kB)\n",
            "\u001b[2K   \u001b[90m━━━━━━━━━━━━━━━━━━━━━━━━━━━━━━━━━━━━━━━━\u001b[0m \u001b[32m883.7/883.7 kB\u001b[0m \u001b[31m56.3 MB/s\u001b[0m eta \u001b[36m0:00:00\u001b[0m\n",
            "\u001b[?25hDownloading nvidia_cudnn_cu12-9.1.0.70-py3-none-manylinux2014_x86_64.whl (664.8 MB)\n",
            "\u001b[2K   \u001b[90m━━━━━━━━━━━━━━━━━━━━━━━━━━━━━━━━━━━━━━━━\u001b[0m \u001b[32m664.8/664.8 MB\u001b[0m \u001b[31m2.2 MB/s\u001b[0m eta \u001b[36m0:00:00\u001b[0m\n",
            "\u001b[?25hDownloading nvidia_cufft_cu12-11.2.1.3-py3-none-manylinux2014_x86_64.whl (211.5 MB)\n",
            "\u001b[2K   \u001b[90m━━━━━━━━━━━━━━━━━━━━━━━━━━━━━━━━━━━━━━━━\u001b[0m \u001b[32m211.5/211.5 MB\u001b[0m \u001b[31m5.6 MB/s\u001b[0m eta \u001b[36m0:00:00\u001b[0m\n",
            "\u001b[?25hDownloading nvidia_curand_cu12-10.3.5.147-py3-none-manylinux2014_x86_64.whl (56.3 MB)\n",
            "\u001b[2K   \u001b[90m━━━━━━━━━━━━━━━━━━━━━━━━━━━━━━━━━━━━━━━━\u001b[0m \u001b[32m56.3/56.3 MB\u001b[0m \u001b[31m12.6 MB/s\u001b[0m eta \u001b[36m0:00:00\u001b[0m\n",
            "\u001b[?25hDownloading nvidia_cusolver_cu12-11.6.1.9-py3-none-manylinux2014_x86_64.whl (127.9 MB)\n",
            "\u001b[2K   \u001b[90m━━━━━━━━━━━━━━━━━━━━━━━━━━━━━━━━━━━━━━━━\u001b[0m \u001b[32m127.9/127.9 MB\u001b[0m \u001b[31m7.1 MB/s\u001b[0m eta \u001b[36m0:00:00\u001b[0m\n",
            "\u001b[?25hDownloading nvidia_cusparse_cu12-12.3.1.170-py3-none-manylinux2014_x86_64.whl (207.5 MB)\n",
            "\u001b[2K   \u001b[90m━━━━━━━━━━━━━━━━━━━━━━━━━━━━━━━━━━━━━━━━\u001b[0m \u001b[32m207.5/207.5 MB\u001b[0m \u001b[31m7.0 MB/s\u001b[0m eta \u001b[36m0:00:00\u001b[0m\n",
            "\u001b[?25hDownloading nvidia_nvjitlink_cu12-12.4.127-py3-none-manylinux2014_x86_64.whl (21.1 MB)\n",
            "\u001b[2K   \u001b[90m━━━━━━━━━━━━━━━━━━━━━━━━━━━━━━━━━━━━━━━━\u001b[0m \u001b[32m21.1/21.1 MB\u001b[0m \u001b[31m73.1 MB/s\u001b[0m eta \u001b[36m0:00:00\u001b[0m\n",
            "\u001b[?25hDownloading ultralytics_thop-2.0.14-py3-none-any.whl (26 kB)\n",
            "Downloading filetype-1.2.0-py2.py3-none-any.whl (19 kB)\n",
            "Downloading python_dotenv-1.0.1-py3-none-any.whl (19 kB)\n",
            "Installing collected packages: filetype, python-dotenv, opencv-python-headless, nvidia-nvjitlink-cu12, nvidia-curand-cu12, nvidia-cufft-cu12, nvidia-cuda-runtime-cu12, nvidia-cuda-nvrtc-cu12, nvidia-cuda-cupti-cu12, nvidia-cublas-cu12, idna, nvidia-cusparse-cu12, nvidia-cudnn-cu12, nvidia-cusolver-cu12, roboflow, ultralytics-thop, ultralytics\n",
            "  Attempting uninstall: opencv-python-headless\n",
            "    Found existing installation: opencv-python-headless 4.11.0.86\n",
            "    Uninstalling opencv-python-headless-4.11.0.86:\n",
            "      Successfully uninstalled opencv-python-headless-4.11.0.86\n",
            "  Attempting uninstall: nvidia-nvjitlink-cu12\n",
            "    Found existing installation: nvidia-nvjitlink-cu12 12.5.82\n",
            "    Uninstalling nvidia-nvjitlink-cu12-12.5.82:\n",
            "      Successfully uninstalled nvidia-nvjitlink-cu12-12.5.82\n",
            "  Attempting uninstall: nvidia-curand-cu12\n",
            "    Found existing installation: nvidia-curand-cu12 10.3.6.82\n",
            "    Uninstalling nvidia-curand-cu12-10.3.6.82:\n",
            "      Successfully uninstalled nvidia-curand-cu12-10.3.6.82\n",
            "  Attempting uninstall: nvidia-cufft-cu12\n",
            "    Found existing installation: nvidia-cufft-cu12 11.2.3.61\n",
            "    Uninstalling nvidia-cufft-cu12-11.2.3.61:\n",
            "      Successfully uninstalled nvidia-cufft-cu12-11.2.3.61\n",
            "  Attempting uninstall: nvidia-cuda-runtime-cu12\n",
            "    Found existing installation: nvidia-cuda-runtime-cu12 12.5.82\n",
            "    Uninstalling nvidia-cuda-runtime-cu12-12.5.82:\n",
            "      Successfully uninstalled nvidia-cuda-runtime-cu12-12.5.82\n",
            "  Attempting uninstall: nvidia-cuda-nvrtc-cu12\n",
            "    Found existing installation: nvidia-cuda-nvrtc-cu12 12.5.82\n",
            "    Uninstalling nvidia-cuda-nvrtc-cu12-12.5.82:\n",
            "      Successfully uninstalled nvidia-cuda-nvrtc-cu12-12.5.82\n",
            "  Attempting uninstall: nvidia-cuda-cupti-cu12\n",
            "    Found existing installation: nvidia-cuda-cupti-cu12 12.5.82\n",
            "    Uninstalling nvidia-cuda-cupti-cu12-12.5.82:\n",
            "      Successfully uninstalled nvidia-cuda-cupti-cu12-12.5.82\n",
            "  Attempting uninstall: nvidia-cublas-cu12\n",
            "    Found existing installation: nvidia-cublas-cu12 12.5.3.2\n",
            "    Uninstalling nvidia-cublas-cu12-12.5.3.2:\n",
            "      Successfully uninstalled nvidia-cublas-cu12-12.5.3.2\n",
            "  Attempting uninstall: idna\n",
            "    Found existing installation: idna 3.10\n",
            "    Uninstalling idna-3.10:\n",
            "      Successfully uninstalled idna-3.10\n",
            "  Attempting uninstall: nvidia-cusparse-cu12\n",
            "    Found existing installation: nvidia-cusparse-cu12 12.5.1.3\n",
            "    Uninstalling nvidia-cusparse-cu12-12.5.1.3:\n",
            "      Successfully uninstalled nvidia-cusparse-cu12-12.5.1.3\n",
            "  Attempting uninstall: nvidia-cudnn-cu12\n",
            "    Found existing installation: nvidia-cudnn-cu12 9.3.0.75\n",
            "    Uninstalling nvidia-cudnn-cu12-9.3.0.75:\n",
            "      Successfully uninstalled nvidia-cudnn-cu12-9.3.0.75\n",
            "  Attempting uninstall: nvidia-cusolver-cu12\n",
            "    Found existing installation: nvidia-cusolver-cu12 11.6.3.83\n",
            "    Uninstalling nvidia-cusolver-cu12-11.6.3.83:\n",
            "      Successfully uninstalled nvidia-cusolver-cu12-11.6.3.83\n",
            "Successfully installed filetype-1.2.0 idna-3.7 nvidia-cublas-cu12-12.4.5.8 nvidia-cuda-cupti-cu12-12.4.127 nvidia-cuda-nvrtc-cu12-12.4.127 nvidia-cuda-runtime-cu12-12.4.127 nvidia-cudnn-cu12-9.1.0.70 nvidia-cufft-cu12-11.2.1.3 nvidia-curand-cu12-10.3.5.147 nvidia-cusolver-cu12-11.6.1.9 nvidia-cusparse-cu12-12.3.1.170 nvidia-nvjitlink-cu12-12.4.127 opencv-python-headless-4.10.0.84 python-dotenv-1.0.1 roboflow-1.1.53 ultralytics-8.3.74 ultralytics-thop-2.0.14\n"
          ]
        }
      ]
    },
    {
      "cell_type": "code",
      "execution_count": null,
      "metadata": {
        "colab": {
          "base_uri": "https://localhost:8080/"
        },
        "collapsed": true,
        "id": "IhpaQQLhdKWa",
        "outputId": "d214a07e-aafc-4156-b6a9-b49f84098090"
      },
      "outputs": [
        {
          "output_type": "stream",
          "name": "stdout",
          "text": [
            "Collecting ultralytics\n",
            "  Downloading ultralytics-8.3.74-py3-none-any.whl.metadata (35 kB)\n",
            "Collecting roboflow\n",
            "  Downloading roboflow-1.1.53-py3-none-any.whl.metadata (9.7 kB)\n",
            "Requirement already satisfied: opencv-python in /usr/local/lib/python3.11/dist-packages (4.11.0.86)\n",
            "Requirement already satisfied: matplotlib in /usr/local/lib/python3.11/dist-packages (3.10.0)\n",
            "Requirement already satisfied: tqdm in /usr/local/lib/python3.11/dist-packages (4.67.1)\n",
            "Requirement already satisfied: numpy<=2.1.1,>=1.23.0 in /usr/local/lib/python3.11/dist-packages (from ultralytics) (1.26.4)\n",
            "Requirement already satisfied: pillow>=7.1.2 in /usr/local/lib/python3.11/dist-packages (from ultralytics) (11.1.0)\n",
            "Requirement already satisfied: pyyaml>=5.3.1 in /usr/local/lib/python3.11/dist-packages (from ultralytics) (6.0.2)\n",
            "Requirement already satisfied: requests>=2.23.0 in /usr/local/lib/python3.11/dist-packages (from ultralytics) (2.32.3)\n",
            "Requirement already satisfied: scipy>=1.4.1 in /usr/local/lib/python3.11/dist-packages (from ultralytics) (1.13.1)\n",
            "Requirement already satisfied: torch>=1.8.0 in /usr/local/lib/python3.11/dist-packages (from ultralytics) (2.5.1+cu124)\n",
            "Requirement already satisfied: torchvision>=0.9.0 in /usr/local/lib/python3.11/dist-packages (from ultralytics) (0.20.1+cu124)\n",
            "Requirement already satisfied: psutil in /usr/local/lib/python3.11/dist-packages (from ultralytics) (5.9.5)\n",
            "Requirement already satisfied: py-cpuinfo in /usr/local/lib/python3.11/dist-packages (from ultralytics) (9.0.0)\n",
            "Requirement already satisfied: pandas>=1.1.4 in /usr/local/lib/python3.11/dist-packages (from ultralytics) (2.2.2)\n",
            "Requirement already satisfied: seaborn>=0.11.0 in /usr/local/lib/python3.11/dist-packages (from ultralytics) (0.13.2)\n",
            "Collecting ultralytics-thop>=2.0.0 (from ultralytics)\n",
            "  Downloading ultralytics_thop-2.0.14-py3-none-any.whl.metadata (9.4 kB)\n",
            "Requirement already satisfied: certifi in /usr/local/lib/python3.11/dist-packages (from roboflow) (2025.1.31)\n",
            "Collecting idna==3.7 (from roboflow)\n",
            "  Downloading idna-3.7-py3-none-any.whl.metadata (9.9 kB)\n",
            "Requirement already satisfied: cycler in /usr/local/lib/python3.11/dist-packages (from roboflow) (0.12.1)\n",
            "Requirement already satisfied: kiwisolver>=1.3.1 in /usr/local/lib/python3.11/dist-packages (from roboflow) (1.4.8)\n",
            "Collecting opencv-python-headless==4.10.0.84 (from roboflow)\n",
            "  Downloading opencv_python_headless-4.10.0.84-cp37-abi3-manylinux_2_17_x86_64.manylinux2014_x86_64.whl.metadata (20 kB)\n",
            "Requirement already satisfied: python-dateutil in /usr/local/lib/python3.11/dist-packages (from roboflow) (2.8.2)\n",
            "Collecting python-dotenv (from roboflow)\n",
            "  Downloading python_dotenv-1.0.1-py3-none-any.whl.metadata (23 kB)\n",
            "Requirement already satisfied: six in /usr/local/lib/python3.11/dist-packages (from roboflow) (1.17.0)\n",
            "Requirement already satisfied: urllib3>=1.26.6 in /usr/local/lib/python3.11/dist-packages (from roboflow) (2.3.0)\n",
            "Requirement already satisfied: requests-toolbelt in /usr/local/lib/python3.11/dist-packages (from roboflow) (1.0.0)\n",
            "Collecting filetype (from roboflow)\n",
            "  Downloading filetype-1.2.0-py2.py3-none-any.whl.metadata (6.5 kB)\n",
            "Requirement already satisfied: contourpy>=1.0.1 in /usr/local/lib/python3.11/dist-packages (from matplotlib) (1.3.1)\n",
            "Requirement already satisfied: fonttools>=4.22.0 in /usr/local/lib/python3.11/dist-packages (from matplotlib) (4.55.8)\n",
            "Requirement already satisfied: packaging>=20.0 in /usr/local/lib/python3.11/dist-packages (from matplotlib) (24.2)\n",
            "Requirement already satisfied: pyparsing>=2.3.1 in /usr/local/lib/python3.11/dist-packages (from matplotlib) (3.2.1)\n",
            "Requirement already satisfied: pytz>=2020.1 in /usr/local/lib/python3.11/dist-packages (from pandas>=1.1.4->ultralytics) (2025.1)\n",
            "Requirement already satisfied: tzdata>=2022.7 in /usr/local/lib/python3.11/dist-packages (from pandas>=1.1.4->ultralytics) (2025.1)\n",
            "Requirement already satisfied: charset-normalizer<4,>=2 in /usr/local/lib/python3.11/dist-packages (from requests>=2.23.0->ultralytics) (3.4.1)\n",
            "Requirement already satisfied: filelock in /usr/local/lib/python3.11/dist-packages (from torch>=1.8.0->ultralytics) (3.17.0)\n",
            "Requirement already satisfied: typing-extensions>=4.8.0 in /usr/local/lib/python3.11/dist-packages (from torch>=1.8.0->ultralytics) (4.12.2)\n",
            "Requirement already satisfied: networkx in /usr/local/lib/python3.11/dist-packages (from torch>=1.8.0->ultralytics) (3.4.2)\n",
            "Requirement already satisfied: jinja2 in /usr/local/lib/python3.11/dist-packages (from torch>=1.8.0->ultralytics) (3.1.5)\n",
            "Requirement already satisfied: fsspec in /usr/local/lib/python3.11/dist-packages (from torch>=1.8.0->ultralytics) (2024.10.0)\n",
            "Collecting nvidia-cuda-nvrtc-cu12==12.4.127 (from torch>=1.8.0->ultralytics)\n",
            "  Downloading nvidia_cuda_nvrtc_cu12-12.4.127-py3-none-manylinux2014_x86_64.whl.metadata (1.5 kB)\n",
            "Collecting nvidia-cuda-runtime-cu12==12.4.127 (from torch>=1.8.0->ultralytics)\n",
            "  Downloading nvidia_cuda_runtime_cu12-12.4.127-py3-none-manylinux2014_x86_64.whl.metadata (1.5 kB)\n",
            "Collecting nvidia-cuda-cupti-cu12==12.4.127 (from torch>=1.8.0->ultralytics)\n",
            "  Downloading nvidia_cuda_cupti_cu12-12.4.127-py3-none-manylinux2014_x86_64.whl.metadata (1.6 kB)\n",
            "Collecting nvidia-cudnn-cu12==9.1.0.70 (from torch>=1.8.0->ultralytics)\n",
            "  Downloading nvidia_cudnn_cu12-9.1.0.70-py3-none-manylinux2014_x86_64.whl.metadata (1.6 kB)\n",
            "Collecting nvidia-cublas-cu12==12.4.5.8 (from torch>=1.8.0->ultralytics)\n",
            "  Downloading nvidia_cublas_cu12-12.4.5.8-py3-none-manylinux2014_x86_64.whl.metadata (1.5 kB)\n",
            "Collecting nvidia-cufft-cu12==11.2.1.3 (from torch>=1.8.0->ultralytics)\n",
            "  Downloading nvidia_cufft_cu12-11.2.1.3-py3-none-manylinux2014_x86_64.whl.metadata (1.5 kB)\n",
            "Collecting nvidia-curand-cu12==10.3.5.147 (from torch>=1.8.0->ultralytics)\n",
            "  Downloading nvidia_curand_cu12-10.3.5.147-py3-none-manylinux2014_x86_64.whl.metadata (1.5 kB)\n",
            "Collecting nvidia-cusolver-cu12==11.6.1.9 (from torch>=1.8.0->ultralytics)\n",
            "  Downloading nvidia_cusolver_cu12-11.6.1.9-py3-none-manylinux2014_x86_64.whl.metadata (1.6 kB)\n",
            "Collecting nvidia-cusparse-cu12==12.3.1.170 (from torch>=1.8.0->ultralytics)\n",
            "  Downloading nvidia_cusparse_cu12-12.3.1.170-py3-none-manylinux2014_x86_64.whl.metadata (1.6 kB)\n",
            "Requirement already satisfied: nvidia-nccl-cu12==2.21.5 in /usr/local/lib/python3.11/dist-packages (from torch>=1.8.0->ultralytics) (2.21.5)\n",
            "Requirement already satisfied: nvidia-nvtx-cu12==12.4.127 in /usr/local/lib/python3.11/dist-packages (from torch>=1.8.0->ultralytics) (12.4.127)\n",
            "Collecting nvidia-nvjitlink-cu12==12.4.127 (from torch>=1.8.0->ultralytics)\n",
            "  Downloading nvidia_nvjitlink_cu12-12.4.127-py3-none-manylinux2014_x86_64.whl.metadata (1.5 kB)\n",
            "Requirement already satisfied: triton==3.1.0 in /usr/local/lib/python3.11/dist-packages (from torch>=1.8.0->ultralytics) (3.1.0)\n",
            "Requirement already satisfied: sympy==1.13.1 in /usr/local/lib/python3.11/dist-packages (from torch>=1.8.0->ultralytics) (1.13.1)\n",
            "Requirement already satisfied: mpmath<1.4,>=1.1.0 in /usr/local/lib/python3.11/dist-packages (from sympy==1.13.1->torch>=1.8.0->ultralytics) (1.3.0)\n",
            "Requirement already satisfied: MarkupSafe>=2.0 in /usr/local/lib/python3.11/dist-packages (from jinja2->torch>=1.8.0->ultralytics) (3.0.2)\n",
            "Downloading ultralytics-8.3.74-py3-none-any.whl (914 kB)\n",
            "\u001b[2K   \u001b[90m━━━━━━━━━━━━━━━━━━━━━━━━━━━━━━━━━━━━━━━━\u001b[0m \u001b[32m914.7/914.7 kB\u001b[0m \u001b[31m28.2 MB/s\u001b[0m eta \u001b[36m0:00:00\u001b[0m\n",
            "\u001b[?25hDownloading roboflow-1.1.53-py3-none-any.whl (82 kB)\n",
            "\u001b[2K   \u001b[90m━━━━━━━━━━━━━━━━━━━━━━━━━━━━━━━━━━━━━━━━\u001b[0m \u001b[32m83.0/83.0 kB\u001b[0m \u001b[31m5.3 MB/s\u001b[0m eta \u001b[36m0:00:00\u001b[0m\n",
            "\u001b[?25hDownloading idna-3.7-py3-none-any.whl (66 kB)\n",
            "\u001b[2K   \u001b[90m━━━━━━━━━━━━━━━━━━━━━━━━━━━━━━━━━━━━━━━━\u001b[0m \u001b[32m66.8/66.8 kB\u001b[0m \u001b[31m4.3 MB/s\u001b[0m eta \u001b[36m0:00:00\u001b[0m\n",
            "\u001b[?25hDownloading opencv_python_headless-4.10.0.84-cp37-abi3-manylinux_2_17_x86_64.manylinux2014_x86_64.whl (49.9 MB)\n",
            "\u001b[2K   \u001b[90m━━━━━━━━━━━━━━━━━━━━━━━━━━━━━━━━━━━━━━━━\u001b[0m \u001b[32m49.9/49.9 MB\u001b[0m \u001b[31m13.9 MB/s\u001b[0m eta \u001b[36m0:00:00\u001b[0m\n",
            "\u001b[?25hDownloading nvidia_cublas_cu12-12.4.5.8-py3-none-manylinux2014_x86_64.whl (363.4 MB)\n",
            "\u001b[2K   \u001b[90m━━━━━━━━━━━━━━━━━━━━━━━━━━━━━━━━━━━━━━━━\u001b[0m \u001b[32m363.4/363.4 MB\u001b[0m \u001b[31m4.1 MB/s\u001b[0m eta \u001b[36m0:00:00\u001b[0m\n",
            "\u001b[?25hDownloading nvidia_cuda_cupti_cu12-12.4.127-py3-none-manylinux2014_x86_64.whl (13.8 MB)\n",
            "\u001b[2K   \u001b[90m━━━━━━━━━━━━━━━━━━━━━━━━━━━━━━━━━━━━━━━━\u001b[0m \u001b[32m13.8/13.8 MB\u001b[0m \u001b[31m89.7 MB/s\u001b[0m eta \u001b[36m0:00:00\u001b[0m\n",
            "\u001b[?25hDownloading nvidia_cuda_nvrtc_cu12-12.4.127-py3-none-manylinux2014_x86_64.whl (24.6 MB)\n",
            "\u001b[2K   \u001b[90m━━━━━━━━━━━━━━━━━━━━━━━━━━━━━━━━━━━━━━━━\u001b[0m \u001b[32m24.6/24.6 MB\u001b[0m \u001b[31m39.7 MB/s\u001b[0m eta \u001b[36m0:00:00\u001b[0m\n",
            "\u001b[?25hDownloading nvidia_cuda_runtime_cu12-12.4.127-py3-none-manylinux2014_x86_64.whl (883 kB)\n",
            "\u001b[2K   \u001b[90m━━━━━━━━━━━━━━━━━━━━━━━━━━━━━━━━━━━━━━━━\u001b[0m \u001b[32m883.7/883.7 kB\u001b[0m \u001b[31m20.4 MB/s\u001b[0m eta \u001b[36m0:00:00\u001b[0m\n",
            "\u001b[?25hDownloading nvidia_cudnn_cu12-9.1.0.70-py3-none-manylinux2014_x86_64.whl (664.8 MB)\n",
            "\u001b[2K   \u001b[90m━━━━━━━━━━━━━━━━━━━━━━━━━━━━━━━━━━━━━━━━\u001b[0m \u001b[32m664.8/664.8 MB\u001b[0m \u001b[31m2.4 MB/s\u001b[0m eta \u001b[36m0:00:00\u001b[0m\n",
            "\u001b[?25hDownloading nvidia_cufft_cu12-11.2.1.3-py3-none-manylinux2014_x86_64.whl (211.5 MB)\n",
            "\u001b[2K   \u001b[90m━━━━━━━━━━━━━━━━━━━━━━━━━━━━━━━━━━━━━━━━\u001b[0m \u001b[32m211.5/211.5 MB\u001b[0m \u001b[31m5.2 MB/s\u001b[0m eta \u001b[36m0:00:00\u001b[0m\n",
            "\u001b[?25hDownloading nvidia_curand_cu12-10.3.5.147-py3-none-manylinux2014_x86_64.whl (56.3 MB)\n",
            "\u001b[2K   \u001b[90m━━━━━━━━━━━━━━━━━━━━━━━━━━━━━━━━━━━━━━━━\u001b[0m \u001b[32m56.3/56.3 MB\u001b[0m \u001b[31m10.3 MB/s\u001b[0m eta \u001b[36m0:00:00\u001b[0m\n",
            "\u001b[?25hDownloading nvidia_cusolver_cu12-11.6.1.9-py3-none-manylinux2014_x86_64.whl (127.9 MB)\n",
            "\u001b[2K   \u001b[90m━━━━━━━━━━━━━━━━━━━━━━━━━━━━━━━━━━━━━━━━\u001b[0m \u001b[32m127.9/127.9 MB\u001b[0m \u001b[31m6.8 MB/s\u001b[0m eta \u001b[36m0:00:00\u001b[0m\n",
            "\u001b[?25hDownloading nvidia_cusparse_cu12-12.3.1.170-py3-none-manylinux2014_x86_64.whl (207.5 MB)\n",
            "\u001b[2K   \u001b[90m━━━━━━━━━━━━━━━━━━━━━━━━━━━━━━━━━━━━━━━━\u001b[0m \u001b[32m207.5/207.5 MB\u001b[0m \u001b[31m6.4 MB/s\u001b[0m eta \u001b[36m0:00:00\u001b[0m\n",
            "\u001b[?25hDownloading nvidia_nvjitlink_cu12-12.4.127-py3-none-manylinux2014_x86_64.whl (21.1 MB)\n",
            "\u001b[2K   \u001b[90m━━━━━━━━━━━━━━━━━━━━━━━━━━━━━━━━━━━━━━━━\u001b[0m \u001b[32m21.1/21.1 MB\u001b[0m \u001b[31m52.4 MB/s\u001b[0m eta \u001b[36m0:00:00\u001b[0m\n",
            "\u001b[?25hDownloading ultralytics_thop-2.0.14-py3-none-any.whl (26 kB)\n",
            "Downloading filetype-1.2.0-py2.py3-none-any.whl (19 kB)\n",
            "Downloading python_dotenv-1.0.1-py3-none-any.whl (19 kB)\n",
            "Installing collected packages: filetype, python-dotenv, opencv-python-headless, nvidia-nvjitlink-cu12, nvidia-curand-cu12, nvidia-cufft-cu12, nvidia-cuda-runtime-cu12, nvidia-cuda-nvrtc-cu12, nvidia-cuda-cupti-cu12, nvidia-cublas-cu12, idna, nvidia-cusparse-cu12, nvidia-cudnn-cu12, nvidia-cusolver-cu12, roboflow, ultralytics-thop, ultralytics\n",
            "  Attempting uninstall: opencv-python-headless\n",
            "    Found existing installation: opencv-python-headless 4.11.0.86\n",
            "    Uninstalling opencv-python-headless-4.11.0.86:\n",
            "      Successfully uninstalled opencv-python-headless-4.11.0.86\n",
            "  Attempting uninstall: nvidia-nvjitlink-cu12\n",
            "    Found existing installation: nvidia-nvjitlink-cu12 12.5.82\n",
            "    Uninstalling nvidia-nvjitlink-cu12-12.5.82:\n",
            "      Successfully uninstalled nvidia-nvjitlink-cu12-12.5.82\n",
            "  Attempting uninstall: nvidia-curand-cu12\n",
            "    Found existing installation: nvidia-curand-cu12 10.3.6.82\n",
            "    Uninstalling nvidia-curand-cu12-10.3.6.82:\n",
            "      Successfully uninstalled nvidia-curand-cu12-10.3.6.82\n",
            "  Attempting uninstall: nvidia-cufft-cu12\n",
            "    Found existing installation: nvidia-cufft-cu12 11.2.3.61\n",
            "    Uninstalling nvidia-cufft-cu12-11.2.3.61:\n",
            "      Successfully uninstalled nvidia-cufft-cu12-11.2.3.61\n",
            "  Attempting uninstall: nvidia-cuda-runtime-cu12\n",
            "    Found existing installation: nvidia-cuda-runtime-cu12 12.5.82\n",
            "    Uninstalling nvidia-cuda-runtime-cu12-12.5.82:\n",
            "      Successfully uninstalled nvidia-cuda-runtime-cu12-12.5.82\n",
            "  Attempting uninstall: nvidia-cuda-nvrtc-cu12\n",
            "    Found existing installation: nvidia-cuda-nvrtc-cu12 12.5.82\n",
            "    Uninstalling nvidia-cuda-nvrtc-cu12-12.5.82:\n",
            "      Successfully uninstalled nvidia-cuda-nvrtc-cu12-12.5.82\n",
            "  Attempting uninstall: nvidia-cuda-cupti-cu12\n",
            "    Found existing installation: nvidia-cuda-cupti-cu12 12.5.82\n",
            "    Uninstalling nvidia-cuda-cupti-cu12-12.5.82:\n",
            "      Successfully uninstalled nvidia-cuda-cupti-cu12-12.5.82\n",
            "  Attempting uninstall: nvidia-cublas-cu12\n",
            "    Found existing installation: nvidia-cublas-cu12 12.5.3.2\n",
            "    Uninstalling nvidia-cublas-cu12-12.5.3.2:\n",
            "      Successfully uninstalled nvidia-cublas-cu12-12.5.3.2\n",
            "  Attempting uninstall: idna\n",
            "    Found existing installation: idna 3.10\n",
            "    Uninstalling idna-3.10:\n",
            "      Successfully uninstalled idna-3.10\n",
            "  Attempting uninstall: nvidia-cusparse-cu12\n",
            "    Found existing installation: nvidia-cusparse-cu12 12.5.1.3\n",
            "    Uninstalling nvidia-cusparse-cu12-12.5.1.3:\n",
            "      Successfully uninstalled nvidia-cusparse-cu12-12.5.1.3\n",
            "  Attempting uninstall: nvidia-cudnn-cu12\n",
            "    Found existing installation: nvidia-cudnn-cu12 9.3.0.75\n",
            "    Uninstalling nvidia-cudnn-cu12-9.3.0.75:\n",
            "      Successfully uninstalled nvidia-cudnn-cu12-9.3.0.75\n",
            "  Attempting uninstall: nvidia-cusolver-cu12\n",
            "    Found existing installation: nvidia-cusolver-cu12 11.6.3.83\n",
            "    Uninstalling nvidia-cusolver-cu12-11.6.3.83:\n",
            "      Successfully uninstalled nvidia-cusolver-cu12-11.6.3.83\n",
            "Successfully installed filetype-1.2.0 idna-3.7 nvidia-cublas-cu12-12.4.5.8 nvidia-cuda-cupti-cu12-12.4.127 nvidia-cuda-nvrtc-cu12-12.4.127 nvidia-cuda-runtime-cu12-12.4.127 nvidia-cudnn-cu12-9.1.0.70 nvidia-cufft-cu12-11.2.1.3 nvidia-curand-cu12-10.3.5.147 nvidia-cusolver-cu12-11.6.1.9 nvidia-cusparse-cu12-12.3.1.170 nvidia-nvjitlink-cu12-12.4.127 opencv-python-headless-4.10.0.84 python-dotenv-1.0.1 roboflow-1.1.53 ultralytics-8.3.74 ultralytics-thop-2.0.14\n",
            "loading Roboflow workspace...\n",
            "loading Roboflow project...\n"
          ]
        },
        {
          "output_type": "stream",
          "name": "stderr",
          "text": [
            "Downloading Dataset Version Zip in HelmetDetectionDataset-3 to yolov11:: 100%|██████████| 138818/138818 [00:05<00:00, 25706.42it/s]"
          ]
        },
        {
          "output_type": "stream",
          "name": "stdout",
          "text": [
            "\n"
          ]
        },
        {
          "output_type": "stream",
          "name": "stderr",
          "text": [
            "\n",
            "Extracting Dataset Version Zip to HelmetDetectionDataset-3 in yolov11:: 100%|██████████| 5318/5318 [00:01<00:00, 5222.37it/s]\n"
          ]
        }
      ],
      "source": [
        "# @title Downloading Helmet Detection Dataset\n",
        "\n",
        "from roboflow import Roboflow\n",
        "rf = Roboflow(api_key=\"hDys1Coz0MzEKc4wMRcJ\")\n",
        "project = rf.workspace(\"my-projects-ztgl4\").project(\"helmetdetectiondataset-k1zzh-u8d7i-sttcy-lfkai\")\n",
        "version = project.version(3)\n",
        "dataset = version.download(\"yolov11\")\n"
      ]
    },
    {
      "cell_type": "code",
      "source": [
        "# @title Training YOLOv9m on our dataset\n",
        "\n",
        "\n",
        "import os\n",
        "from ultralytics import YOLO\n",
        "from roboflow import Roboflow\n",
        "\n",
        "\n",
        "#Verify Data YAML\n",
        "data_yaml = \"/content/extracted_runs/content/drive/MyDrive/runs/data.yaml\"\n",
        "\n",
        "\n",
        "model = YOLO(\"yolov9m.pt\")\n",
        "\n",
        "\n",
        "model.train(data=data_yaml, epochs=50, imgsz=640, batch=16)\n",
        "\n",
        "\n",
        "model.val()\n",
        "\n",
        "\n",
        "results = model.predict(source=\"/content/HelmetDetectionDataset-3/test/images\", save=True)\n",
        "\n"
      ],
      "metadata": {
        "colab": {
          "base_uri": "https://localhost:8080/",
          "height": 1000
        },
        "id": "wXZe6t32foWI",
        "outputId": "4e777c53-b259-4344-ba16-0bae0e51bffa",
        "collapsed": true
      },
      "execution_count": null,
      "outputs": [
        {
          "output_type": "stream",
          "name": "stdout",
          "text": [
            "Requirement already satisfied: ultralytics in /usr/local/lib/python3.11/dist-packages (8.3.73)\n",
            "Requirement already satisfied: roboflow in /usr/local/lib/python3.11/dist-packages (1.1.53)\n",
            "Requirement already satisfied: opencv-python in /usr/local/lib/python3.11/dist-packages (4.11.0.86)\n",
            "Requirement already satisfied: matplotlib in /usr/local/lib/python3.11/dist-packages (3.10.0)\n",
            "Requirement already satisfied: tqdm in /usr/local/lib/python3.11/dist-packages (4.67.1)\n",
            "Requirement already satisfied: numpy<=2.1.1,>=1.23.0 in /usr/local/lib/python3.11/dist-packages (from ultralytics) (1.26.4)\n",
            "Requirement already satisfied: pillow>=7.1.2 in /usr/local/lib/python3.11/dist-packages (from ultralytics) (11.1.0)\n",
            "Requirement already satisfied: pyyaml>=5.3.1 in /usr/local/lib/python3.11/dist-packages (from ultralytics) (6.0.2)\n",
            "Requirement already satisfied: requests>=2.23.0 in /usr/local/lib/python3.11/dist-packages (from ultralytics) (2.32.3)\n",
            "Requirement already satisfied: scipy>=1.4.1 in /usr/local/lib/python3.11/dist-packages (from ultralytics) (1.13.1)\n",
            "Requirement already satisfied: torch>=1.8.0 in /usr/local/lib/python3.11/dist-packages (from ultralytics) (2.5.1+cu124)\n",
            "Requirement already satisfied: torchvision>=0.9.0 in /usr/local/lib/python3.11/dist-packages (from ultralytics) (0.20.1+cu124)\n",
            "Requirement already satisfied: psutil in /usr/local/lib/python3.11/dist-packages (from ultralytics) (5.9.5)\n",
            "Requirement already satisfied: py-cpuinfo in /usr/local/lib/python3.11/dist-packages (from ultralytics) (9.0.0)\n",
            "Requirement already satisfied: pandas>=1.1.4 in /usr/local/lib/python3.11/dist-packages (from ultralytics) (2.2.2)\n",
            "Requirement already satisfied: seaborn>=0.11.0 in /usr/local/lib/python3.11/dist-packages (from ultralytics) (0.13.2)\n",
            "Requirement already satisfied: ultralytics-thop>=2.0.0 in /usr/local/lib/python3.11/dist-packages (from ultralytics) (2.0.14)\n",
            "Requirement already satisfied: certifi in /usr/local/lib/python3.11/dist-packages (from roboflow) (2025.1.31)\n",
            "Requirement already satisfied: idna==3.7 in /usr/local/lib/python3.11/dist-packages (from roboflow) (3.7)\n",
            "Requirement already satisfied: cycler in /usr/local/lib/python3.11/dist-packages (from roboflow) (0.12.1)\n",
            "Requirement already satisfied: kiwisolver>=1.3.1 in /usr/local/lib/python3.11/dist-packages (from roboflow) (1.4.8)\n",
            "Requirement already satisfied: opencv-python-headless==4.10.0.84 in /usr/local/lib/python3.11/dist-packages (from roboflow) (4.10.0.84)\n",
            "Requirement already satisfied: python-dateutil in /usr/local/lib/python3.11/dist-packages (from roboflow) (2.8.2)\n",
            "Requirement already satisfied: python-dotenv in /usr/local/lib/python3.11/dist-packages (from roboflow) (1.0.1)\n",
            "Requirement already satisfied: six in /usr/local/lib/python3.11/dist-packages (from roboflow) (1.17.0)\n",
            "Requirement already satisfied: urllib3>=1.26.6 in /usr/local/lib/python3.11/dist-packages (from roboflow) (2.3.0)\n",
            "Requirement already satisfied: requests-toolbelt in /usr/local/lib/python3.11/dist-packages (from roboflow) (1.0.0)\n",
            "Requirement already satisfied: filetype in /usr/local/lib/python3.11/dist-packages (from roboflow) (1.2.0)\n",
            "Requirement already satisfied: contourpy>=1.0.1 in /usr/local/lib/python3.11/dist-packages (from matplotlib) (1.3.1)\n",
            "Requirement already satisfied: fonttools>=4.22.0 in /usr/local/lib/python3.11/dist-packages (from matplotlib) (4.55.8)\n",
            "Requirement already satisfied: packaging>=20.0 in /usr/local/lib/python3.11/dist-packages (from matplotlib) (24.2)\n",
            "Requirement already satisfied: pyparsing>=2.3.1 in /usr/local/lib/python3.11/dist-packages (from matplotlib) (3.2.1)\n",
            "Requirement already satisfied: pytz>=2020.1 in /usr/local/lib/python3.11/dist-packages (from pandas>=1.1.4->ultralytics) (2025.1)\n",
            "Requirement already satisfied: tzdata>=2022.7 in /usr/local/lib/python3.11/dist-packages (from pandas>=1.1.4->ultralytics) (2025.1)\n",
            "Requirement already satisfied: charset-normalizer<4,>=2 in /usr/local/lib/python3.11/dist-packages (from requests>=2.23.0->ultralytics) (3.4.1)\n",
            "Requirement already satisfied: filelock in /usr/local/lib/python3.11/dist-packages (from torch>=1.8.0->ultralytics) (3.17.0)\n",
            "Requirement already satisfied: typing-extensions>=4.8.0 in /usr/local/lib/python3.11/dist-packages (from torch>=1.8.0->ultralytics) (4.12.2)\n",
            "Requirement already satisfied: networkx in /usr/local/lib/python3.11/dist-packages (from torch>=1.8.0->ultralytics) (3.4.2)\n",
            "Requirement already satisfied: jinja2 in /usr/local/lib/python3.11/dist-packages (from torch>=1.8.0->ultralytics) (3.1.5)\n",
            "Requirement already satisfied: fsspec in /usr/local/lib/python3.11/dist-packages (from torch>=1.8.0->ultralytics) (2024.10.0)\n",
            "Requirement already satisfied: nvidia-cuda-nvrtc-cu12==12.4.127 in /usr/local/lib/python3.11/dist-packages (from torch>=1.8.0->ultralytics) (12.4.127)\n",
            "Requirement already satisfied: nvidia-cuda-runtime-cu12==12.4.127 in /usr/local/lib/python3.11/dist-packages (from torch>=1.8.0->ultralytics) (12.4.127)\n",
            "Requirement already satisfied: nvidia-cuda-cupti-cu12==12.4.127 in /usr/local/lib/python3.11/dist-packages (from torch>=1.8.0->ultralytics) (12.4.127)\n",
            "Requirement already satisfied: nvidia-cudnn-cu12==9.1.0.70 in /usr/local/lib/python3.11/dist-packages (from torch>=1.8.0->ultralytics) (9.1.0.70)\n",
            "Requirement already satisfied: nvidia-cublas-cu12==12.4.5.8 in /usr/local/lib/python3.11/dist-packages (from torch>=1.8.0->ultralytics) (12.4.5.8)\n",
            "Requirement already satisfied: nvidia-cufft-cu12==11.2.1.3 in /usr/local/lib/python3.11/dist-packages (from torch>=1.8.0->ultralytics) (11.2.1.3)\n",
            "Requirement already satisfied: nvidia-curand-cu12==10.3.5.147 in /usr/local/lib/python3.11/dist-packages (from torch>=1.8.0->ultralytics) (10.3.5.147)\n",
            "Requirement already satisfied: nvidia-cusolver-cu12==11.6.1.9 in /usr/local/lib/python3.11/dist-packages (from torch>=1.8.0->ultralytics) (11.6.1.9)\n",
            "Requirement already satisfied: nvidia-cusparse-cu12==12.3.1.170 in /usr/local/lib/python3.11/dist-packages (from torch>=1.8.0->ultralytics) (12.3.1.170)\n",
            "Requirement already satisfied: nvidia-nccl-cu12==2.21.5 in /usr/local/lib/python3.11/dist-packages (from torch>=1.8.0->ultralytics) (2.21.5)\n",
            "Requirement already satisfied: nvidia-nvtx-cu12==12.4.127 in /usr/local/lib/python3.11/dist-packages (from torch>=1.8.0->ultralytics) (12.4.127)\n",
            "Requirement already satisfied: nvidia-nvjitlink-cu12==12.4.127 in /usr/local/lib/python3.11/dist-packages (from torch>=1.8.0->ultralytics) (12.4.127)\n",
            "Requirement already satisfied: triton==3.1.0 in /usr/local/lib/python3.11/dist-packages (from torch>=1.8.0->ultralytics) (3.1.0)\n",
            "Requirement already satisfied: sympy==1.13.1 in /usr/local/lib/python3.11/dist-packages (from torch>=1.8.0->ultralytics) (1.13.1)\n",
            "Requirement already satisfied: mpmath<1.4,>=1.1.0 in /usr/local/lib/python3.11/dist-packages (from sympy==1.13.1->torch>=1.8.0->ultralytics) (1.3.0)\n",
            "Requirement already satisfied: MarkupSafe>=2.0 in /usr/local/lib/python3.11/dist-packages (from jinja2->torch>=1.8.0->ultralytics) (3.0.2)\n",
            "Downloading https://github.com/ultralytics/assets/releases/download/v8.3.0/yolov9m.pt to 'yolov9m.pt'...\n"
          ]
        },
        {
          "output_type": "stream",
          "name": "stderr",
          "text": [
            "100%|██████████| 39.1M/39.1M [00:00<00:00, 365MB/s]\n"
          ]
        },
        {
          "output_type": "stream",
          "name": "stdout",
          "text": [
            "Ultralytics 8.3.73 🚀 Python-3.11.11 torch-2.5.1+cu124 CUDA:0 (Tesla T4, 15095MiB)\n",
            "\u001b[34m\u001b[1mengine/trainer: \u001b[0mtask=detect, mode=train, model=yolov9m.pt, data=/content/HelmetDetectionDataset-3/data.yaml, epochs=50, time=None, patience=100, batch=16, imgsz=640, save=True, save_period=-1, cache=False, device=None, workers=8, project=None, name=train, exist_ok=False, pretrained=True, optimizer=auto, verbose=True, seed=0, deterministic=True, single_cls=False, rect=False, cos_lr=False, close_mosaic=10, resume=False, amp=True, fraction=1.0, profile=False, freeze=None, multi_scale=False, overlap_mask=True, mask_ratio=4, dropout=0.0, val=True, split=val, save_json=False, save_hybrid=False, conf=None, iou=0.7, max_det=300, half=False, dnn=False, plots=True, source=None, vid_stride=1, stream_buffer=False, visualize=False, augment=False, agnostic_nms=False, classes=None, retina_masks=False, embed=None, show=False, save_frames=False, save_txt=False, save_conf=False, save_crop=False, show_labels=True, show_conf=True, show_boxes=True, line_width=None, format=torchscript, keras=False, optimize=False, int8=False, dynamic=False, simplify=True, opset=None, workspace=None, nms=False, lr0=0.01, lrf=0.01, momentum=0.937, weight_decay=0.0005, warmup_epochs=3.0, warmup_momentum=0.8, warmup_bias_lr=0.1, box=7.5, cls=0.5, dfl=1.5, pose=12.0, kobj=1.0, nbs=64, hsv_h=0.015, hsv_s=0.7, hsv_v=0.4, degrees=0.0, translate=0.1, scale=0.5, shear=0.0, perspective=0.0, flipud=0.0, fliplr=0.5, bgr=0.0, mosaic=1.0, mixup=0.0, copy_paste=0.0, copy_paste_mode=flip, auto_augment=randaugment, erasing=0.4, crop_fraction=1.0, cfg=None, tracker=botsort.yaml, save_dir=runs/detect/train\n",
            "Downloading https://ultralytics.com/assets/Arial.ttf to '/root/.config/Ultralytics/Arial.ttf'...\n"
          ]
        },
        {
          "output_type": "stream",
          "name": "stderr",
          "text": [
            "100%|██████████| 755k/755k [00:00<00:00, 112MB/s]\n"
          ]
        },
        {
          "output_type": "stream",
          "name": "stdout",
          "text": [
            "Overriding model.yaml nc=80 with nc=3\n",
            "\n",
            "                   from  n    params  module                                       arguments                     \n",
            "  0                  -1  1       928  ultralytics.nn.modules.conv.Conv             [3, 32, 3, 2]                 \n",
            "  1                  -1  1     18560  ultralytics.nn.modules.conv.Conv             [32, 64, 3, 2]                \n",
            "  2                  -1  1    171648  ultralytics.nn.modules.block.RepNCSPELAN4    [64, 128, 128, 64, 1]         \n",
            "  3                  -1  1    276960  ultralytics.nn.modules.block.AConv           [128, 240]                    \n",
            "  4                  -1  1    629520  ultralytics.nn.modules.block.RepNCSPELAN4    [240, 240, 240, 120, 1]       \n",
            "  5                  -1  1    778320  ultralytics.nn.modules.block.AConv           [240, 360]                    \n",
            "  6                  -1  1   1414080  ultralytics.nn.modules.block.RepNCSPELAN4    [360, 360, 360, 180, 1]       \n",
            "  7                  -1  1   1556160  ultralytics.nn.modules.block.AConv           [360, 480]                    \n",
            "  8                  -1  1   2511840  ultralytics.nn.modules.block.RepNCSPELAN4    [480, 480, 480, 240, 1]       \n",
            "  9                  -1  1    577440  ultralytics.nn.modules.block.SPPELAN         [480, 480, 240]               \n",
            " 10                  -1  1         0  torch.nn.modules.upsampling.Upsample         [None, 2, 'nearest']          \n",
            " 11             [-1, 6]  1         0  ultralytics.nn.modules.conv.Concat           [1]                           \n",
            " 12                  -1  1   1586880  ultralytics.nn.modules.block.RepNCSPELAN4    [840, 360, 360, 180, 1]       \n",
            " 13                  -1  1         0  torch.nn.modules.upsampling.Upsample         [None, 2, 'nearest']          \n",
            " 14             [-1, 4]  1         0  ultralytics.nn.modules.conv.Concat           [1]                           \n",
            " 15                  -1  1    715920  ultralytics.nn.modules.block.RepNCSPELAN4    [600, 240, 240, 120, 1]       \n",
            " 16                  -1  1    397808  ultralytics.nn.modules.block.AConv           [240, 184]                    \n",
            " 17            [-1, 12]  1         0  ultralytics.nn.modules.conv.Concat           [1]                           \n",
            " 18                  -1  1   1480320  ultralytics.nn.modules.block.RepNCSPELAN4    [544, 360, 360, 180, 1]       \n",
            " 19                  -1  1    778080  ultralytics.nn.modules.block.AConv           [360, 240]                    \n",
            " 20             [-1, 9]  1         0  ultralytics.nn.modules.conv.Concat           [1]                           \n",
            " 21                  -1  1   2627040  ultralytics.nn.modules.block.RepNCSPELAN4    [720, 480, 480, 240, 1]       \n",
            " 22        [15, 18, 21]  1   4638985  ultralytics.nn.modules.head.Detect           [3, [240, 360, 480]]          \n",
            "YOLOv9m summary: 603 layers, 20,160,489 parameters, 20,160,473 gradients, 77.6 GFLOPs\n",
            "\n",
            "Transferred 901/907 items from pretrained weights\n",
            "\u001b[34m\u001b[1mTensorBoard: \u001b[0mStart with 'tensorboard --logdir runs/detect/train', view at http://localhost:6006/\n",
            "Freezing layer 'model.22.dfl.conv.weight'\n",
            "\u001b[34m\u001b[1mAMP: \u001b[0mrunning Automatic Mixed Precision (AMP) checks...\n",
            "Downloading https://github.com/ultralytics/assets/releases/download/v8.3.0/yolo11n.pt to 'yolo11n.pt'...\n"
          ]
        },
        {
          "output_type": "stream",
          "name": "stderr",
          "text": [
            "100%|██████████| 5.35M/5.35M [00:00<00:00, 314MB/s]\n"
          ]
        },
        {
          "output_type": "stream",
          "name": "stdout",
          "text": [
            "\u001b[34m\u001b[1mAMP: \u001b[0mchecks passed ✅\n"
          ]
        },
        {
          "output_type": "stream",
          "name": "stderr",
          "text": [
            "\u001b[34m\u001b[1mtrain: \u001b[0mScanning /content/HelmetDetectionDataset-3/train/labels... 2355 images, 267 backgrounds, 0 corrupt: 100%|██████████| 2355/2355 [00:03<00:00, 688.55it/s]\n"
          ]
        },
        {
          "output_type": "stream",
          "name": "stdout",
          "text": [
            "\u001b[34m\u001b[1mtrain: \u001b[0mNew cache created: /content/HelmetDetectionDataset-3/train/labels.cache\n",
            "WARNING ⚠️ Box and segment counts should be equal, but got len(segments) = 30, len(boxes) = 6977. To resolve this only boxes will be used and all segments will be removed. To avoid this please supply either a detect or segment dataset, not a detect-segment mixed dataset.\n",
            "\u001b[34m\u001b[1malbumentations: \u001b[0mBlur(p=0.01, blur_limit=(3, 7)), MedianBlur(p=0.01, blur_limit=(3, 7)), ToGray(p=0.01, num_output_channels=3, method='weighted_average'), CLAHE(p=0.01, clip_limit=(1.0, 4.0), tile_grid_size=(8, 8))\n"
          ]
        },
        {
          "output_type": "stream",
          "name": "stderr",
          "text": [
            "\u001b[34m\u001b[1mval: \u001b[0mScanning /content/HelmetDetectionDataset-3/valid/labels... 214 images, 28 backgrounds, 0 corrupt: 100%|██████████| 214/214 [00:00<00:00, 496.75it/s]"
          ]
        },
        {
          "output_type": "stream",
          "name": "stdout",
          "text": [
            "\u001b[34m\u001b[1mval: \u001b[0mNew cache created: /content/HelmetDetectionDataset-3/valid/labels.cache\n",
            "WARNING ⚠️ Box and segment counts should be equal, but got len(segments) = 4, len(boxes) = 497. To resolve this only boxes will be used and all segments will be removed. To avoid this please supply either a detect or segment dataset, not a detect-segment mixed dataset.\n"
          ]
        },
        {
          "output_type": "stream",
          "name": "stderr",
          "text": [
            "\n"
          ]
        },
        {
          "output_type": "stream",
          "name": "stdout",
          "text": [
            "Plotting labels to runs/detect/train/labels.jpg... \n",
            "\u001b[34m\u001b[1moptimizer:\u001b[0m 'optimizer=auto' found, ignoring 'lr0=0.01' and 'momentum=0.937' and determining best 'optimizer', 'lr0' and 'momentum' automatically... \n",
            "\u001b[34m\u001b[1moptimizer:\u001b[0m AdamW(lr=0.001429, momentum=0.9) with parameter groups 149 weight(decay=0.0), 156 weight(decay=0.0005), 155 bias(decay=0.0)\n",
            "\u001b[34m\u001b[1mTensorBoard: \u001b[0mmodel graph visualization added ✅\n",
            "Image sizes 640 train, 640 val\n",
            "Using 2 dataloader workers\n",
            "Logging results to \u001b[1mruns/detect/train\u001b[0m\n",
            "Starting training for 50 epochs...\n",
            "\n",
            "      Epoch    GPU_mem   box_loss   cls_loss   dfl_loss  Instances       Size\n"
          ]
        },
        {
          "output_type": "stream",
          "name": "stderr",
          "text": [
            "       1/50      8.67G      1.394      1.936      1.576         18        640: 100%|██████████| 148/148 [01:47<00:00,  1.38it/s]\n",
            "                 Class     Images  Instances      Box(P          R      mAP50  mAP50-95): 100%|██████████| 7/7 [00:05<00:00,  1.36it/s]"
          ]
        },
        {
          "output_type": "stream",
          "name": "stdout",
          "text": [
            "                   all        214        497      0.221       0.57      0.193     0.0812\n"
          ]
        },
        {
          "output_type": "stream",
          "name": "stderr",
          "text": [
            "\n"
          ]
        },
        {
          "output_type": "stream",
          "name": "stdout",
          "text": [
            "\n",
            "      Epoch    GPU_mem   box_loss   cls_loss   dfl_loss  Instances       Size\n"
          ]
        },
        {
          "output_type": "stream",
          "name": "stderr",
          "text": [
            "       2/50      8.45G      1.597      1.873      1.718         13        640: 100%|██████████| 148/148 [01:46<00:00,  1.39it/s]\n",
            "                 Class     Images  Instances      Box(P          R      mAP50  mAP50-95): 100%|██████████| 7/7 [00:03<00:00,  1.81it/s]"
          ]
        },
        {
          "output_type": "stream",
          "name": "stdout",
          "text": [
            "                   all        214        497      0.496      0.293      0.225      0.106\n"
          ]
        },
        {
          "output_type": "stream",
          "name": "stderr",
          "text": [
            "\n"
          ]
        },
        {
          "output_type": "stream",
          "name": "stdout",
          "text": [
            "\n",
            "      Epoch    GPU_mem   box_loss   cls_loss   dfl_loss  Instances       Size\n"
          ]
        },
        {
          "output_type": "stream",
          "name": "stderr",
          "text": [
            "       3/50      8.43G      1.614      1.901      1.717         16        640: 100%|██████████| 148/148 [01:45<00:00,  1.40it/s]\n",
            "                 Class     Images  Instances      Box(P          R      mAP50  mAP50-95): 100%|██████████| 7/7 [00:03<00:00,  1.85it/s]"
          ]
        },
        {
          "output_type": "stream",
          "name": "stdout",
          "text": [
            "                   all        214        497      0.569      0.364      0.367      0.194\n"
          ]
        },
        {
          "output_type": "stream",
          "name": "stderr",
          "text": [
            "\n"
          ]
        },
        {
          "output_type": "stream",
          "name": "stdout",
          "text": [
            "\n",
            "      Epoch    GPU_mem   box_loss   cls_loss   dfl_loss  Instances       Size\n"
          ]
        },
        {
          "output_type": "stream",
          "name": "stderr",
          "text": [
            "       4/50      8.41G      1.568      1.785      1.675         26        640: 100%|██████████| 148/148 [01:45<00:00,  1.41it/s]\n",
            "                 Class     Images  Instances      Box(P          R      mAP50  mAP50-95): 100%|██████████| 7/7 [00:03<00:00,  1.82it/s]"
          ]
        },
        {
          "output_type": "stream",
          "name": "stdout",
          "text": [
            "                   all        214        497      0.437       0.41      0.251      0.119\n"
          ]
        },
        {
          "output_type": "stream",
          "name": "stderr",
          "text": [
            "\n"
          ]
        },
        {
          "output_type": "stream",
          "name": "stdout",
          "text": [
            "\n",
            "      Epoch    GPU_mem   box_loss   cls_loss   dfl_loss  Instances       Size\n"
          ]
        },
        {
          "output_type": "stream",
          "name": "stderr",
          "text": [
            "       5/50      8.41G      1.493      1.591      1.608         36        640: 100%|██████████| 148/148 [01:45<00:00,  1.40it/s]\n",
            "                 Class     Images  Instances      Box(P          R      mAP50  mAP50-95): 100%|██████████| 7/7 [00:03<00:00,  1.82it/s]"
          ]
        },
        {
          "output_type": "stream",
          "name": "stdout",
          "text": [
            "                   all        214        497      0.543      0.459      0.457      0.279\n"
          ]
        },
        {
          "output_type": "stream",
          "name": "stderr",
          "text": [
            "\n"
          ]
        },
        {
          "output_type": "stream",
          "name": "stdout",
          "text": [
            "\n",
            "      Epoch    GPU_mem   box_loss   cls_loss   dfl_loss  Instances       Size\n"
          ]
        },
        {
          "output_type": "stream",
          "name": "stderr",
          "text": [
            "       6/50      8.39G      1.454        1.5      1.573         12        640: 100%|██████████| 148/148 [01:46<00:00,  1.40it/s]\n",
            "                 Class     Images  Instances      Box(P          R      mAP50  mAP50-95): 100%|██████████| 7/7 [00:03<00:00,  1.82it/s]"
          ]
        },
        {
          "output_type": "stream",
          "name": "stdout",
          "text": [
            "                   all        214        497      0.517      0.511      0.474      0.268\n"
          ]
        },
        {
          "output_type": "stream",
          "name": "stderr",
          "text": [
            "\n"
          ]
        },
        {
          "output_type": "stream",
          "name": "stdout",
          "text": [
            "\n",
            "      Epoch    GPU_mem   box_loss   cls_loss   dfl_loss  Instances       Size\n"
          ]
        },
        {
          "output_type": "stream",
          "name": "stderr",
          "text": [
            "       7/50      8.45G      1.401      1.413      1.554         11        640: 100%|██████████| 148/148 [01:46<00:00,  1.39it/s]\n",
            "                 Class     Images  Instances      Box(P          R      mAP50  mAP50-95): 100%|██████████| 7/7 [00:03<00:00,  1.84it/s]"
          ]
        },
        {
          "output_type": "stream",
          "name": "stdout",
          "text": [
            "                   all        214        497      0.607      0.546       0.52      0.296\n"
          ]
        },
        {
          "output_type": "stream",
          "name": "stderr",
          "text": [
            "\n"
          ]
        },
        {
          "output_type": "stream",
          "name": "stdout",
          "text": [
            "\n",
            "      Epoch    GPU_mem   box_loss   cls_loss   dfl_loss  Instances       Size\n"
          ]
        },
        {
          "output_type": "stream",
          "name": "stderr",
          "text": [
            "       8/50      8.41G      1.368      1.318      1.515         18        640: 100%|██████████| 148/148 [01:45<00:00,  1.40it/s]\n",
            "                 Class     Images  Instances      Box(P          R      mAP50  mAP50-95): 100%|██████████| 7/7 [00:03<00:00,  1.84it/s]"
          ]
        },
        {
          "output_type": "stream",
          "name": "stdout",
          "text": [
            "                   all        214        497      0.699      0.459      0.521      0.335\n"
          ]
        },
        {
          "output_type": "stream",
          "name": "stderr",
          "text": [
            "\n"
          ]
        },
        {
          "output_type": "stream",
          "name": "stdout",
          "text": [
            "\n",
            "      Epoch    GPU_mem   box_loss   cls_loss   dfl_loss  Instances       Size\n"
          ]
        },
        {
          "output_type": "stream",
          "name": "stderr",
          "text": [
            "       9/50      8.38G      1.336      1.254      1.499         24        640: 100%|██████████| 148/148 [01:43<00:00,  1.42it/s]\n",
            "                 Class     Images  Instances      Box(P          R      mAP50  mAP50-95): 100%|██████████| 7/7 [00:04<00:00,  1.72it/s]"
          ]
        },
        {
          "output_type": "stream",
          "name": "stdout",
          "text": [
            "                   all        214        497      0.726      0.497       0.59      0.386\n"
          ]
        },
        {
          "output_type": "stream",
          "name": "stderr",
          "text": [
            "\n"
          ]
        },
        {
          "output_type": "stream",
          "name": "stdout",
          "text": [
            "\n",
            "      Epoch    GPU_mem   box_loss   cls_loss   dfl_loss  Instances       Size\n"
          ]
        },
        {
          "output_type": "stream",
          "name": "stderr",
          "text": [
            "      10/50      8.41G        1.3      1.232       1.47          9        640: 100%|██████████| 148/148 [01:45<00:00,  1.40it/s]\n",
            "                 Class     Images  Instances      Box(P          R      mAP50  mAP50-95): 100%|██████████| 7/7 [00:04<00:00,  1.69it/s]"
          ]
        },
        {
          "output_type": "stream",
          "name": "stdout",
          "text": [
            "                   all        214        497      0.757       0.47      0.584      0.367\n"
          ]
        },
        {
          "output_type": "stream",
          "name": "stderr",
          "text": [
            "\n"
          ]
        },
        {
          "output_type": "stream",
          "name": "stdout",
          "text": [
            "\n",
            "      Epoch    GPU_mem   box_loss   cls_loss   dfl_loss  Instances       Size\n"
          ]
        },
        {
          "output_type": "stream",
          "name": "stderr",
          "text": [
            "      11/50       8.4G      1.271      1.154      1.447         20        640: 100%|██████████| 148/148 [01:45<00:00,  1.40it/s]\n",
            "                 Class     Images  Instances      Box(P          R      mAP50  mAP50-95): 100%|██████████| 7/7 [00:04<00:00,  1.68it/s]"
          ]
        },
        {
          "output_type": "stream",
          "name": "stdout",
          "text": [
            "                   all        214        497      0.775      0.538      0.633      0.411\n"
          ]
        },
        {
          "output_type": "stream",
          "name": "stderr",
          "text": [
            "\n"
          ]
        },
        {
          "output_type": "stream",
          "name": "stdout",
          "text": [
            "\n",
            "      Epoch    GPU_mem   box_loss   cls_loss   dfl_loss  Instances       Size\n"
          ]
        },
        {
          "output_type": "stream",
          "name": "stderr",
          "text": [
            "      12/50      8.46G      1.257      1.138      1.434          6        640: 100%|██████████| 148/148 [01:45<00:00,  1.40it/s]\n",
            "                 Class     Images  Instances      Box(P          R      mAP50  mAP50-95): 100%|██████████| 7/7 [00:04<00:00,  1.74it/s]"
          ]
        },
        {
          "output_type": "stream",
          "name": "stdout",
          "text": [
            "                   all        214        497      0.693      0.506      0.593      0.371\n"
          ]
        },
        {
          "output_type": "stream",
          "name": "stderr",
          "text": [
            "\n"
          ]
        },
        {
          "output_type": "stream",
          "name": "stdout",
          "text": [
            "\n",
            "      Epoch    GPU_mem   box_loss   cls_loss   dfl_loss  Instances       Size\n"
          ]
        },
        {
          "output_type": "stream",
          "name": "stderr",
          "text": [
            "      13/50      8.46G      1.245      1.091      1.417         14        640: 100%|██████████| 148/148 [01:46<00:00,  1.39it/s]\n",
            "                 Class     Images  Instances      Box(P          R      mAP50  mAP50-95): 100%|██████████| 7/7 [00:04<00:00,  1.71it/s]"
          ]
        },
        {
          "output_type": "stream",
          "name": "stdout",
          "text": [
            "                   all        214        497      0.736      0.519      0.628      0.431\n"
          ]
        },
        {
          "output_type": "stream",
          "name": "stderr",
          "text": [
            "\n"
          ]
        },
        {
          "output_type": "stream",
          "name": "stdout",
          "text": [
            "\n",
            "      Epoch    GPU_mem   box_loss   cls_loss   dfl_loss  Instances       Size\n"
          ]
        },
        {
          "output_type": "stream",
          "name": "stderr",
          "text": [
            "      14/50      8.42G      1.206      1.066      1.401         13        640: 100%|██████████| 148/148 [01:45<00:00,  1.40it/s]\n",
            "                 Class     Images  Instances      Box(P          R      mAP50  mAP50-95): 100%|██████████| 7/7 [00:03<00:00,  1.82it/s]"
          ]
        },
        {
          "output_type": "stream",
          "name": "stdout",
          "text": [
            "                   all        214        497      0.718      0.534      0.599      0.408\n"
          ]
        },
        {
          "output_type": "stream",
          "name": "stderr",
          "text": [
            "\n"
          ]
        },
        {
          "output_type": "stream",
          "name": "stdout",
          "text": [
            "\n",
            "      Epoch    GPU_mem   box_loss   cls_loss   dfl_loss  Instances       Size\n"
          ]
        },
        {
          "output_type": "stream",
          "name": "stderr",
          "text": [
            "      15/50       8.5G      1.208      1.019      1.385         12        640: 100%|██████████| 148/148 [01:45<00:00,  1.41it/s]\n",
            "                 Class     Images  Instances      Box(P          R      mAP50  mAP50-95): 100%|██████████| 7/7 [00:03<00:00,  1.86it/s]"
          ]
        },
        {
          "output_type": "stream",
          "name": "stdout",
          "text": [
            "                   all        214        497      0.777      0.576      0.668       0.47\n"
          ]
        },
        {
          "output_type": "stream",
          "name": "stderr",
          "text": [
            "\n"
          ]
        },
        {
          "output_type": "stream",
          "name": "stdout",
          "text": [
            "\n",
            "      Epoch    GPU_mem   box_loss   cls_loss   dfl_loss  Instances       Size\n"
          ]
        },
        {
          "output_type": "stream",
          "name": "stderr",
          "text": [
            "      16/50      8.41G       1.21      1.025      1.381         59        640: 100%|██████████| 148/148 [01:46<00:00,  1.39it/s]\n",
            "                 Class     Images  Instances      Box(P          R      mAP50  mAP50-95): 100%|██████████| 7/7 [00:04<00:00,  1.69it/s]"
          ]
        },
        {
          "output_type": "stream",
          "name": "stdout",
          "text": [
            "                   all        214        497      0.827      0.536      0.677      0.474\n"
          ]
        },
        {
          "output_type": "stream",
          "name": "stderr",
          "text": [
            "\n"
          ]
        },
        {
          "output_type": "stream",
          "name": "stdout",
          "text": [
            "\n",
            "      Epoch    GPU_mem   box_loss   cls_loss   dfl_loss  Instances       Size\n"
          ]
        },
        {
          "output_type": "stream",
          "name": "stderr",
          "text": [
            "      17/50      8.38G       1.15     0.9583      1.352          8        640: 100%|██████████| 148/148 [01:46<00:00,  1.38it/s]\n",
            "                 Class     Images  Instances      Box(P          R      mAP50  mAP50-95): 100%|██████████| 7/7 [00:03<00:00,  1.80it/s]"
          ]
        },
        {
          "output_type": "stream",
          "name": "stdout",
          "text": [
            "                   all        214        497      0.635      0.661      0.675      0.465\n"
          ]
        },
        {
          "output_type": "stream",
          "name": "stderr",
          "text": [
            "\n"
          ]
        },
        {
          "output_type": "stream",
          "name": "stdout",
          "text": [
            "\n",
            "      Epoch    GPU_mem   box_loss   cls_loss   dfl_loss  Instances       Size\n"
          ]
        },
        {
          "output_type": "stream",
          "name": "stderr",
          "text": [
            "      18/50      8.41G      1.142     0.9497      1.341         28        640: 100%|██████████| 148/148 [01:45<00:00,  1.40it/s]\n",
            "                 Class     Images  Instances      Box(P          R      mAP50  mAP50-95): 100%|██████████| 7/7 [00:04<00:00,  1.61it/s]"
          ]
        },
        {
          "output_type": "stream",
          "name": "stdout",
          "text": [
            "                   all        214        497      0.778      0.589      0.695      0.482\n"
          ]
        },
        {
          "output_type": "stream",
          "name": "stderr",
          "text": [
            "\n"
          ]
        },
        {
          "output_type": "stream",
          "name": "stdout",
          "text": [
            "\n",
            "      Epoch    GPU_mem   box_loss   cls_loss   dfl_loss  Instances       Size\n"
          ]
        },
        {
          "output_type": "stream",
          "name": "stderr",
          "text": [
            "      19/50      8.39G      1.143     0.9262      1.346         11        640: 100%|██████████| 148/148 [01:44<00:00,  1.41it/s]\n",
            "                 Class     Images  Instances      Box(P          R      mAP50  mAP50-95): 100%|██████████| 7/7 [00:03<00:00,  1.84it/s]"
          ]
        },
        {
          "output_type": "stream",
          "name": "stdout",
          "text": [
            "                   all        214        497       0.73      0.575      0.651      0.445\n"
          ]
        },
        {
          "output_type": "stream",
          "name": "stderr",
          "text": [
            "\n"
          ]
        },
        {
          "output_type": "stream",
          "name": "stdout",
          "text": [
            "\n",
            "      Epoch    GPU_mem   box_loss   cls_loss   dfl_loss  Instances       Size\n"
          ]
        },
        {
          "output_type": "stream",
          "name": "stderr",
          "text": [
            "      20/50      8.37G      1.098     0.8951      1.325         11        640: 100%|██████████| 148/148 [01:46<00:00,  1.39it/s]\n",
            "                 Class     Images  Instances      Box(P          R      mAP50  mAP50-95): 100%|██████████| 7/7 [00:03<00:00,  1.79it/s]"
          ]
        },
        {
          "output_type": "stream",
          "name": "stdout",
          "text": [
            "                   all        214        497      0.701       0.61      0.667      0.457\n"
          ]
        },
        {
          "output_type": "stream",
          "name": "stderr",
          "text": [
            "\n"
          ]
        },
        {
          "output_type": "stream",
          "name": "stdout",
          "text": [
            "\n",
            "      Epoch    GPU_mem   box_loss   cls_loss   dfl_loss  Instances       Size\n"
          ]
        },
        {
          "output_type": "stream",
          "name": "stderr",
          "text": [
            "      21/50      8.39G      1.108     0.8833      1.315         16        640: 100%|██████████| 148/148 [01:45<00:00,  1.40it/s]\n",
            "                 Class     Images  Instances      Box(P          R      mAP50  mAP50-95): 100%|██████████| 7/7 [00:04<00:00,  1.64it/s]"
          ]
        },
        {
          "output_type": "stream",
          "name": "stdout",
          "text": [
            "                   all        214        497      0.768      0.587      0.687      0.482\n"
          ]
        },
        {
          "output_type": "stream",
          "name": "stderr",
          "text": [
            "\n"
          ]
        },
        {
          "output_type": "stream",
          "name": "stdout",
          "text": [
            "\n",
            "      Epoch    GPU_mem   box_loss   cls_loss   dfl_loss  Instances       Size\n"
          ]
        },
        {
          "output_type": "stream",
          "name": "stderr",
          "text": [
            "      22/50      8.38G      1.097     0.8482      1.305          8        640: 100%|██████████| 148/148 [01:44<00:00,  1.42it/s]\n",
            "                 Class     Images  Instances      Box(P          R      mAP50  mAP50-95): 100%|██████████| 7/7 [00:04<00:00,  1.62it/s]"
          ]
        },
        {
          "output_type": "stream",
          "name": "stdout",
          "text": [
            "                   all        214        497      0.768      0.555      0.681      0.486\n"
          ]
        },
        {
          "output_type": "stream",
          "name": "stderr",
          "text": [
            "\n"
          ]
        },
        {
          "output_type": "stream",
          "name": "stdout",
          "text": [
            "\n",
            "      Epoch    GPU_mem   box_loss   cls_loss   dfl_loss  Instances       Size\n"
          ]
        },
        {
          "output_type": "stream",
          "name": "stderr",
          "text": [
            "      23/50      8.38G      1.075     0.8384        1.3         18        640: 100%|██████████| 148/148 [01:43<00:00,  1.42it/s]\n",
            "                 Class     Images  Instances      Box(P          R      mAP50  mAP50-95): 100%|██████████| 7/7 [00:03<00:00,  1.80it/s]"
          ]
        },
        {
          "output_type": "stream",
          "name": "stdout",
          "text": [
            "                   all        214        497      0.805      0.582      0.697      0.496\n"
          ]
        },
        {
          "output_type": "stream",
          "name": "stderr",
          "text": [
            "\n"
          ]
        },
        {
          "output_type": "stream",
          "name": "stdout",
          "text": [
            "\n",
            "      Epoch    GPU_mem   box_loss   cls_loss   dfl_loss  Instances       Size\n"
          ]
        },
        {
          "output_type": "stream",
          "name": "stderr",
          "text": [
            "      24/50      8.41G      1.053      0.802      1.286          4        640: 100%|██████████| 148/148 [01:45<00:00,  1.41it/s]\n",
            "                 Class     Images  Instances      Box(P          R      mAP50  mAP50-95): 100%|██████████| 7/7 [00:03<00:00,  1.81it/s]"
          ]
        },
        {
          "output_type": "stream",
          "name": "stdout",
          "text": [
            "                   all        214        497      0.762      0.585      0.697      0.486\n"
          ]
        },
        {
          "output_type": "stream",
          "name": "stderr",
          "text": [
            "\n"
          ]
        },
        {
          "output_type": "stream",
          "name": "stdout",
          "text": [
            "\n",
            "      Epoch    GPU_mem   box_loss   cls_loss   dfl_loss  Instances       Size\n"
          ]
        },
        {
          "output_type": "stream",
          "name": "stderr",
          "text": [
            "      25/50       8.5G      1.036     0.7863      1.281         16        640: 100%|██████████| 148/148 [01:45<00:00,  1.41it/s]\n",
            "                 Class     Images  Instances      Box(P          R      mAP50  mAP50-95): 100%|██████████| 7/7 [00:03<00:00,  1.85it/s]"
          ]
        },
        {
          "output_type": "stream",
          "name": "stdout",
          "text": [
            "                   all        214        497      0.806       0.58      0.685      0.493\n"
          ]
        },
        {
          "output_type": "stream",
          "name": "stderr",
          "text": [
            "\n"
          ]
        },
        {
          "output_type": "stream",
          "name": "stdout",
          "text": [
            "\n",
            "      Epoch    GPU_mem   box_loss   cls_loss   dfl_loss  Instances       Size\n"
          ]
        },
        {
          "output_type": "stream",
          "name": "stderr",
          "text": [
            "      26/50      8.45G      1.035     0.7857      1.281          9        640: 100%|██████████| 148/148 [01:44<00:00,  1.41it/s]\n",
            "                 Class     Images  Instances      Box(P          R      mAP50  mAP50-95): 100%|██████████| 7/7 [00:03<00:00,  1.82it/s]"
          ]
        },
        {
          "output_type": "stream",
          "name": "stdout",
          "text": [
            "                   all        214        497      0.767      0.608        0.7      0.502\n"
          ]
        },
        {
          "output_type": "stream",
          "name": "stderr",
          "text": [
            "\n"
          ]
        },
        {
          "output_type": "stream",
          "name": "stdout",
          "text": [
            "\n",
            "      Epoch    GPU_mem   box_loss   cls_loss   dfl_loss  Instances       Size\n"
          ]
        },
        {
          "output_type": "stream",
          "name": "stderr",
          "text": [
            "      27/50      8.46G      1.015     0.7557      1.254         28        640: 100%|██████████| 148/148 [01:45<00:00,  1.41it/s]\n",
            "                 Class     Images  Instances      Box(P          R      mAP50  mAP50-95): 100%|██████████| 7/7 [00:04<00:00,  1.68it/s]"
          ]
        },
        {
          "output_type": "stream",
          "name": "stdout",
          "text": [
            "                   all        214        497      0.828      0.554        0.7      0.503\n"
          ]
        },
        {
          "output_type": "stream",
          "name": "stderr",
          "text": [
            "\n"
          ]
        },
        {
          "output_type": "stream",
          "name": "stdout",
          "text": [
            "\n",
            "      Epoch    GPU_mem   box_loss   cls_loss   dfl_loss  Instances       Size\n"
          ]
        },
        {
          "output_type": "stream",
          "name": "stderr",
          "text": [
            "      28/50       8.4G     0.9866     0.7503      1.245         13        640: 100%|██████████| 148/148 [01:44<00:00,  1.41it/s]\n",
            "                 Class     Images  Instances      Box(P          R      mAP50  mAP50-95): 100%|██████████| 7/7 [00:03<00:00,  1.87it/s]"
          ]
        },
        {
          "output_type": "stream",
          "name": "stdout",
          "text": [
            "                   all        214        497      0.828      0.565      0.691      0.499\n"
          ]
        },
        {
          "output_type": "stream",
          "name": "stderr",
          "text": [
            "\n"
          ]
        },
        {
          "output_type": "stream",
          "name": "stdout",
          "text": [
            "\n",
            "      Epoch    GPU_mem   box_loss   cls_loss   dfl_loss  Instances       Size\n"
          ]
        },
        {
          "output_type": "stream",
          "name": "stderr",
          "text": [
            "      29/50       8.4G     0.9804     0.7353      1.235         17        640: 100%|██████████| 148/148 [01:44<00:00,  1.41it/s]\n",
            "                 Class     Images  Instances      Box(P          R      mAP50  mAP50-95): 100%|██████████| 7/7 [00:03<00:00,  1.87it/s]"
          ]
        },
        {
          "output_type": "stream",
          "name": "stdout",
          "text": [
            "                   all        214        497      0.737      0.661      0.709       0.49\n"
          ]
        },
        {
          "output_type": "stream",
          "name": "stderr",
          "text": [
            "\n"
          ]
        },
        {
          "output_type": "stream",
          "name": "stdout",
          "text": [
            "\n",
            "      Epoch    GPU_mem   box_loss   cls_loss   dfl_loss  Instances       Size\n"
          ]
        },
        {
          "output_type": "stream",
          "name": "stderr",
          "text": [
            "      30/50      8.39G     0.9871     0.7309      1.236         10        640: 100%|██████████| 148/148 [01:45<00:00,  1.40it/s]\n",
            "                 Class     Images  Instances      Box(P          R      mAP50  mAP50-95): 100%|██████████| 7/7 [00:04<00:00,  1.69it/s]"
          ]
        },
        {
          "output_type": "stream",
          "name": "stdout",
          "text": [
            "                   all        214        497      0.839      0.568      0.698      0.497\n"
          ]
        },
        {
          "output_type": "stream",
          "name": "stderr",
          "text": [
            "\n"
          ]
        },
        {
          "output_type": "stream",
          "name": "stdout",
          "text": [
            "\n",
            "      Epoch    GPU_mem   box_loss   cls_loss   dfl_loss  Instances       Size\n"
          ]
        },
        {
          "output_type": "stream",
          "name": "stderr",
          "text": [
            "      31/50      8.49G     0.9402     0.6967      1.217         17        640: 100%|██████████| 148/148 [01:44<00:00,  1.42it/s]\n",
            "                 Class     Images  Instances      Box(P          R      mAP50  mAP50-95): 100%|██████████| 7/7 [00:03<00:00,  1.86it/s]"
          ]
        },
        {
          "output_type": "stream",
          "name": "stdout",
          "text": [
            "                   all        214        497      0.797       0.61      0.713      0.509\n"
          ]
        },
        {
          "output_type": "stream",
          "name": "stderr",
          "text": [
            "\n"
          ]
        },
        {
          "output_type": "stream",
          "name": "stdout",
          "text": [
            "\n",
            "      Epoch    GPU_mem   box_loss   cls_loss   dfl_loss  Instances       Size\n"
          ]
        },
        {
          "output_type": "stream",
          "name": "stderr",
          "text": [
            "      32/50      8.45G     0.9493     0.6961      1.219          8        640: 100%|██████████| 148/148 [01:44<00:00,  1.41it/s]\n",
            "                 Class     Images  Instances      Box(P          R      mAP50  mAP50-95): 100%|██████████| 7/7 [00:03<00:00,  1.84it/s]"
          ]
        },
        {
          "output_type": "stream",
          "name": "stdout",
          "text": [
            "                   all        214        497      0.802      0.558        0.7      0.499\n"
          ]
        },
        {
          "output_type": "stream",
          "name": "stderr",
          "text": [
            "\n"
          ]
        },
        {
          "output_type": "stream",
          "name": "stdout",
          "text": [
            "\n",
            "      Epoch    GPU_mem   box_loss   cls_loss   dfl_loss  Instances       Size\n"
          ]
        },
        {
          "output_type": "stream",
          "name": "stderr",
          "text": [
            "      33/50      8.42G     0.9285     0.6698      1.212         23        640: 100%|██████████| 148/148 [01:44<00:00,  1.41it/s]\n",
            "                 Class     Images  Instances      Box(P          R      mAP50  mAP50-95): 100%|██████████| 7/7 [00:03<00:00,  1.85it/s]"
          ]
        },
        {
          "output_type": "stream",
          "name": "stdout",
          "text": [
            "                   all        214        497      0.844      0.543      0.705      0.517\n"
          ]
        },
        {
          "output_type": "stream",
          "name": "stderr",
          "text": [
            "\n"
          ]
        },
        {
          "output_type": "stream",
          "name": "stdout",
          "text": [
            "\n",
            "      Epoch    GPU_mem   box_loss   cls_loss   dfl_loss  Instances       Size\n"
          ]
        },
        {
          "output_type": "stream",
          "name": "stderr",
          "text": [
            "      34/50      8.38G     0.9253     0.6759      1.196         16        640: 100%|██████████| 148/148 [01:44<00:00,  1.42it/s]\n",
            "                 Class     Images  Instances      Box(P          R      mAP50  mAP50-95): 100%|██████████| 7/7 [00:04<00:00,  1.75it/s]"
          ]
        },
        {
          "output_type": "stream",
          "name": "stdout",
          "text": [
            "                   all        214        497      0.788      0.582       0.71      0.509\n"
          ]
        },
        {
          "output_type": "stream",
          "name": "stderr",
          "text": [
            "\n"
          ]
        },
        {
          "output_type": "stream",
          "name": "stdout",
          "text": [
            "\n",
            "      Epoch    GPU_mem   box_loss   cls_loss   dfl_loss  Instances       Size\n"
          ]
        },
        {
          "output_type": "stream",
          "name": "stderr",
          "text": [
            "      35/50       8.4G     0.9009     0.6543      1.196         13        640: 100%|██████████| 148/148 [01:45<00:00,  1.41it/s]\n",
            "                 Class     Images  Instances      Box(P          R      mAP50  mAP50-95): 100%|██████████| 7/7 [00:04<00:00,  1.68it/s]"
          ]
        },
        {
          "output_type": "stream",
          "name": "stdout",
          "text": [
            "                   all        214        497      0.844      0.567      0.699      0.499\n"
          ]
        },
        {
          "output_type": "stream",
          "name": "stderr",
          "text": [
            "\n"
          ]
        },
        {
          "output_type": "stream",
          "name": "stdout",
          "text": [
            "\n",
            "      Epoch    GPU_mem   box_loss   cls_loss   dfl_loss  Instances       Size\n"
          ]
        },
        {
          "output_type": "stream",
          "name": "stderr",
          "text": [
            "      36/50      8.43G     0.9015     0.6485      1.181         10        640: 100%|██████████| 148/148 [01:45<00:00,  1.41it/s]\n",
            "                 Class     Images  Instances      Box(P          R      mAP50  mAP50-95): 100%|██████████| 7/7 [00:04<00:00,  1.72it/s]"
          ]
        },
        {
          "output_type": "stream",
          "name": "stdout",
          "text": [
            "                   all        214        497      0.835      0.557      0.708      0.505\n"
          ]
        },
        {
          "output_type": "stream",
          "name": "stderr",
          "text": [
            "\n"
          ]
        },
        {
          "output_type": "stream",
          "name": "stdout",
          "text": [
            "\n",
            "      Epoch    GPU_mem   box_loss   cls_loss   dfl_loss  Instances       Size\n"
          ]
        },
        {
          "output_type": "stream",
          "name": "stderr",
          "text": [
            "      37/50      8.53G     0.8776      0.629      1.171         15        640: 100%|██████████| 148/148 [01:45<00:00,  1.41it/s]\n",
            "                 Class     Images  Instances      Box(P          R      mAP50  mAP50-95): 100%|██████████| 7/7 [00:04<00:00,  1.74it/s]"
          ]
        },
        {
          "output_type": "stream",
          "name": "stdout",
          "text": [
            "                   all        214        497      0.821       0.57      0.715      0.518\n"
          ]
        },
        {
          "output_type": "stream",
          "name": "stderr",
          "text": [
            "\n"
          ]
        },
        {
          "output_type": "stream",
          "name": "stdout",
          "text": [
            "\n",
            "      Epoch    GPU_mem   box_loss   cls_loss   dfl_loss  Instances       Size\n"
          ]
        },
        {
          "output_type": "stream",
          "name": "stderr",
          "text": [
            "      38/50      8.41G     0.8534     0.6121      1.169         13        640: 100%|██████████| 148/148 [01:44<00:00,  1.42it/s]\n",
            "                 Class     Images  Instances      Box(P          R      mAP50  mAP50-95): 100%|██████████| 7/7 [00:03<00:00,  1.85it/s]"
          ]
        },
        {
          "output_type": "stream",
          "name": "stdout",
          "text": [
            "                   all        214        497      0.814      0.601      0.731      0.521\n"
          ]
        },
        {
          "output_type": "stream",
          "name": "stderr",
          "text": [
            "\n"
          ]
        },
        {
          "output_type": "stream",
          "name": "stdout",
          "text": [
            "\n",
            "      Epoch    GPU_mem   box_loss   cls_loss   dfl_loss  Instances       Size\n"
          ]
        },
        {
          "output_type": "stream",
          "name": "stderr",
          "text": [
            "      39/50      8.47G     0.8511     0.5977      1.156         37        640: 100%|██████████| 148/148 [01:44<00:00,  1.41it/s]\n",
            "                 Class     Images  Instances      Box(P          R      mAP50  mAP50-95): 100%|██████████| 7/7 [00:03<00:00,  1.83it/s]"
          ]
        },
        {
          "output_type": "stream",
          "name": "stdout",
          "text": [
            "                   all        214        497      0.765      0.617      0.724      0.517\n"
          ]
        },
        {
          "output_type": "stream",
          "name": "stderr",
          "text": [
            "\n"
          ]
        },
        {
          "output_type": "stream",
          "name": "stdout",
          "text": [
            "\n",
            "      Epoch    GPU_mem   box_loss   cls_loss   dfl_loss  Instances       Size\n"
          ]
        },
        {
          "output_type": "stream",
          "name": "stderr",
          "text": [
            "      40/50      8.38G     0.8323      0.585      1.151         19        640: 100%|██████████| 148/148 [01:44<00:00,  1.41it/s]\n",
            "                 Class     Images  Instances      Box(P          R      mAP50  mAP50-95): 100%|██████████| 7/7 [00:03<00:00,  1.77it/s]"
          ]
        },
        {
          "output_type": "stream",
          "name": "stdout",
          "text": [
            "                   all        214        497      0.741      0.608      0.723      0.524\n"
          ]
        },
        {
          "output_type": "stream",
          "name": "stderr",
          "text": [
            "\n"
          ]
        },
        {
          "output_type": "stream",
          "name": "stdout",
          "text": [
            "Closing dataloader mosaic\n",
            "\u001b[34m\u001b[1malbumentations: \u001b[0mBlur(p=0.01, blur_limit=(3, 7)), MedianBlur(p=0.01, blur_limit=(3, 7)), ToGray(p=0.01, num_output_channels=3, method='weighted_average'), CLAHE(p=0.01, clip_limit=(1.0, 4.0), tile_grid_size=(8, 8))\n",
            "\n",
            "      Epoch    GPU_mem   box_loss   cls_loss   dfl_loss  Instances       Size\n"
          ]
        },
        {
          "output_type": "stream",
          "name": "stderr",
          "text": [
            "      41/50      8.47G       0.84     0.5487      1.125          5        640: 100%|██████████| 148/148 [01:44<00:00,  1.41it/s]\n",
            "                 Class     Images  Instances      Box(P          R      mAP50  mAP50-95): 100%|██████████| 7/7 [00:03<00:00,  1.84it/s]"
          ]
        },
        {
          "output_type": "stream",
          "name": "stdout",
          "text": [
            "                   all        214        497      0.635       0.66      0.712      0.522\n"
          ]
        },
        {
          "output_type": "stream",
          "name": "stderr",
          "text": [
            "\n"
          ]
        },
        {
          "output_type": "stream",
          "name": "stdout",
          "text": [
            "\n",
            "      Epoch    GPU_mem   box_loss   cls_loss   dfl_loss  Instances       Size\n"
          ]
        },
        {
          "output_type": "stream",
          "name": "stderr",
          "text": [
            "      42/50      8.38G     0.8066      0.512      1.108          3        640: 100%|██████████| 148/148 [01:44<00:00,  1.42it/s]\n",
            "                 Class     Images  Instances      Box(P          R      mAP50  mAP50-95): 100%|██████████| 7/7 [00:03<00:00,  1.85it/s]"
          ]
        },
        {
          "output_type": "stream",
          "name": "stdout",
          "text": [
            "                   all        214        497      0.811      0.569      0.703      0.521\n"
          ]
        },
        {
          "output_type": "stream",
          "name": "stderr",
          "text": [
            "\n"
          ]
        },
        {
          "output_type": "stream",
          "name": "stdout",
          "text": [
            "\n",
            "      Epoch    GPU_mem   box_loss   cls_loss   dfl_loss  Instances       Size\n"
          ]
        },
        {
          "output_type": "stream",
          "name": "stderr",
          "text": [
            "      43/50      8.39G     0.7955     0.4932      1.096         13        640: 100%|██████████| 148/148 [01:44<00:00,  1.42it/s]\n",
            "                 Class     Images  Instances      Box(P          R      mAP50  mAP50-95): 100%|██████████| 7/7 [00:04<00:00,  1.71it/s]"
          ]
        },
        {
          "output_type": "stream",
          "name": "stdout",
          "text": [
            "                   all        214        497      0.827      0.576      0.724      0.517\n"
          ]
        },
        {
          "output_type": "stream",
          "name": "stderr",
          "text": [
            "\n"
          ]
        },
        {
          "output_type": "stream",
          "name": "stdout",
          "text": [
            "\n",
            "      Epoch    GPU_mem   box_loss   cls_loss   dfl_loss  Instances       Size\n"
          ]
        },
        {
          "output_type": "stream",
          "name": "stderr",
          "text": [
            "      44/50      8.38G      0.773     0.4764      1.083         13        640: 100%|██████████| 148/148 [01:44<00:00,  1.41it/s]\n",
            "                 Class     Images  Instances      Box(P          R      mAP50  mAP50-95): 100%|██████████| 7/7 [00:03<00:00,  1.78it/s]"
          ]
        },
        {
          "output_type": "stream",
          "name": "stdout",
          "text": [
            "                   all        214        497      0.789      0.597      0.727      0.519\n"
          ]
        },
        {
          "output_type": "stream",
          "name": "stderr",
          "text": [
            "\n"
          ]
        },
        {
          "output_type": "stream",
          "name": "stdout",
          "text": [
            "\n",
            "      Epoch    GPU_mem   box_loss   cls_loss   dfl_loss  Instances       Size\n"
          ]
        },
        {
          "output_type": "stream",
          "name": "stderr",
          "text": [
            "      45/50       8.4G     0.7438     0.4529      1.069         13        640: 100%|██████████| 148/148 [01:44<00:00,  1.42it/s]\n",
            "                 Class     Images  Instances      Box(P          R      mAP50  mAP50-95): 100%|██████████| 7/7 [00:04<00:00,  1.69it/s]"
          ]
        },
        {
          "output_type": "stream",
          "name": "stdout",
          "text": [
            "                   all        214        497      0.796      0.556        0.7      0.508\n"
          ]
        },
        {
          "output_type": "stream",
          "name": "stderr",
          "text": [
            "\n"
          ]
        },
        {
          "output_type": "stream",
          "name": "stdout",
          "text": [
            "\n",
            "      Epoch    GPU_mem   box_loss   cls_loss   dfl_loss  Instances       Size\n"
          ]
        },
        {
          "output_type": "stream",
          "name": "stderr",
          "text": [
            "      46/50      8.41G     0.7431     0.4554      1.063         18        640: 100%|██████████| 148/148 [01:44<00:00,  1.42it/s]\n",
            "                 Class     Images  Instances      Box(P          R      mAP50  mAP50-95): 100%|██████████| 7/7 [00:04<00:00,  1.65it/s]"
          ]
        },
        {
          "output_type": "stream",
          "name": "stdout",
          "text": [
            "                   all        214        497       0.81      0.564      0.716      0.518\n"
          ]
        },
        {
          "output_type": "stream",
          "name": "stderr",
          "text": [
            "\n"
          ]
        },
        {
          "output_type": "stream",
          "name": "stdout",
          "text": [
            "\n",
            "      Epoch    GPU_mem   box_loss   cls_loss   dfl_loss  Instances       Size\n"
          ]
        },
        {
          "output_type": "stream",
          "name": "stderr",
          "text": [
            "      47/50      8.36G     0.7229     0.4382      1.053          4        640: 100%|██████████| 148/148 [01:43<00:00,  1.42it/s]\n",
            "                 Class     Images  Instances      Box(P          R      mAP50  mAP50-95): 100%|██████████| 7/7 [00:04<00:00,  1.57it/s]"
          ]
        },
        {
          "output_type": "stream",
          "name": "stdout",
          "text": [
            "                   all        214        497      0.811       0.58      0.724      0.528\n"
          ]
        },
        {
          "output_type": "stream",
          "name": "stderr",
          "text": [
            "\n"
          ]
        },
        {
          "output_type": "stream",
          "name": "stdout",
          "text": [
            "\n",
            "      Epoch    GPU_mem   box_loss   cls_loss   dfl_loss  Instances       Size\n"
          ]
        },
        {
          "output_type": "stream",
          "name": "stderr",
          "text": [
            "      48/50      8.39G     0.7015     0.4239      1.038          5        640: 100%|██████████| 148/148 [01:43<00:00,  1.42it/s]\n",
            "                 Class     Images  Instances      Box(P          R      mAP50  mAP50-95): 100%|██████████| 7/7 [00:03<00:00,  1.85it/s]"
          ]
        },
        {
          "output_type": "stream",
          "name": "stdout",
          "text": [
            "                   all        214        497      0.808      0.583      0.716      0.528\n"
          ]
        },
        {
          "output_type": "stream",
          "name": "stderr",
          "text": [
            "\n"
          ]
        },
        {
          "output_type": "stream",
          "name": "stdout",
          "text": [
            "\n",
            "      Epoch    GPU_mem   box_loss   cls_loss   dfl_loss  Instances       Size\n"
          ]
        },
        {
          "output_type": "stream",
          "name": "stderr",
          "text": [
            "      49/50       8.4G     0.6877     0.4119      1.036          3        640: 100%|██████████| 148/148 [01:44<00:00,  1.42it/s]\n",
            "                 Class     Images  Instances      Box(P          R      mAP50  mAP50-95): 100%|██████████| 7/7 [00:03<00:00,  1.85it/s]"
          ]
        },
        {
          "output_type": "stream",
          "name": "stdout",
          "text": [
            "                   all        214        497        0.7      0.625       0.71      0.521\n"
          ]
        },
        {
          "output_type": "stream",
          "name": "stderr",
          "text": [
            "\n"
          ]
        },
        {
          "output_type": "stream",
          "name": "stdout",
          "text": [
            "\n",
            "      Epoch    GPU_mem   box_loss   cls_loss   dfl_loss  Instances       Size\n"
          ]
        },
        {
          "output_type": "stream",
          "name": "stderr",
          "text": [
            "      50/50      8.39G     0.6794     0.4166      1.026          6        640: 100%|██████████| 148/148 [01:44<00:00,  1.42it/s]\n",
            "                 Class     Images  Instances      Box(P          R      mAP50  mAP50-95): 100%|██████████| 7/7 [00:03<00:00,  1.85it/s]"
          ]
        },
        {
          "output_type": "stream",
          "name": "stdout",
          "text": [
            "                   all        214        497      0.682      0.646      0.709       0.52\n"
          ]
        },
        {
          "output_type": "stream",
          "name": "stderr",
          "text": [
            "\n"
          ]
        },
        {
          "output_type": "stream",
          "name": "stdout",
          "text": [
            "\n",
            "50 epochs completed in 1.561 hours.\n",
            "Optimizer stripped from runs/detect/train/weights/last.pt, 40.8MB\n",
            "Optimizer stripped from runs/detect/train/weights/best.pt, 40.8MB\n",
            "\n",
            "Validating runs/detect/train/weights/best.pt...\n",
            "Ultralytics 8.3.73 🚀 Python-3.11.11 torch-2.5.1+cu124 CUDA:0 (Tesla T4, 15095MiB)\n",
            "YOLOv9m summary (fused): 374 layers, 20,015,161 parameters, 0 gradients, 76.5 GFLOPs\n"
          ]
        },
        {
          "output_type": "stream",
          "name": "stderr",
          "text": [
            "                 Class     Images  Instances      Box(P          R      mAP50  mAP50-95): 100%|██████████| 7/7 [00:06<00:00,  1.09it/s]\n"
          ]
        },
        {
          "output_type": "stream",
          "name": "stdout",
          "text": [
            "                   all        214        497      0.811       0.58      0.724      0.528\n",
            "                 rider         60         74      0.641      0.811      0.819       0.74\n",
            "           with helmet        148        291       0.95       0.52      0.727      0.464\n",
            "        without helmet         70        132      0.844      0.409      0.624       0.38\n",
            "Speed: 0.4ms preprocess, 13.4ms inference, 0.0ms loss, 4.3ms postprocess per image\n",
            "Results saved to \u001b[1mruns/detect/train\u001b[0m\n",
            "Ultralytics 8.3.73 🚀 Python-3.11.11 torch-2.5.1+cu124 CUDA:0 (Tesla T4, 15095MiB)\n",
            "YOLOv9m summary (fused): 374 layers, 20,015,161 parameters, 0 gradients, 76.5 GFLOPs\n"
          ]
        },
        {
          "output_type": "stream",
          "name": "stderr",
          "text": [
            "\u001b[34m\u001b[1mval: \u001b[0mScanning /content/HelmetDetectionDataset-3/valid/labels.cache... 214 images, 28 backgrounds, 0 corrupt: 100%|██████████| 214/214 [00:00<?, ?it/s]"
          ]
        },
        {
          "output_type": "stream",
          "name": "stdout",
          "text": [
            "WARNING ⚠️ Box and segment counts should be equal, but got len(segments) = 4, len(boxes) = 497. To resolve this only boxes will be used and all segments will be removed. To avoid this please supply either a detect or segment dataset, not a detect-segment mixed dataset.\n"
          ]
        },
        {
          "output_type": "stream",
          "name": "stderr",
          "text": [
            "\n",
            "                 Class     Images  Instances      Box(P          R      mAP50  mAP50-95): 100%|██████████| 14/14 [00:07<00:00,  1.77it/s]\n"
          ]
        },
        {
          "output_type": "stream",
          "name": "stdout",
          "text": [
            "                   all        214        497      0.811       0.58      0.724      0.529\n",
            "                 rider         60         74       0.64      0.811      0.819      0.744\n",
            "           with helmet        148        291       0.95      0.521      0.727      0.464\n",
            "        without helmet         70        132      0.844      0.409      0.624       0.38\n",
            "Speed: 0.5ms preprocess, 28.6ms inference, 0.0ms loss, 1.6ms postprocess per image\n",
            "Results saved to \u001b[1mruns/detect/train2\u001b[0m\n",
            "\n",
            "image 1/84 /content/HelmetDetectionDataset-3/test/images/43_jpg.rf.31e5f97339657877a38203871c1a685c.jpg: 640x640 1 rider, 16 with helmets, 43.9ms\n",
            "image 2/84 /content/HelmetDetectionDataset-3/test/images/4751194990015458395-482b6e293083dc4c8f94f5627aaf52fa-22051707_jpg.rf.39dcccc93a1daef7207afa46f82d05d4.jpg: 640x640 (no detections), 39.6ms\n",
            "image 3/84 /content/HelmetDetectionDataset-3/test/images/4751194990015458395-488368a7bb92cd64260afc2ba8ca76ab-22051708_jpg.rf.4802c068591ec512cd61bf2490ded6d4.jpg: 640x640 (no detections), 39.4ms\n",
            "image 4/84 /content/HelmetDetectionDataset-3/test/images/4751194990015458395-4e7321ffd53816b338bc2358a803e16e-22051708_jpg.rf.756e1a1b865642f02c4b13880637a64d.jpg: 640x640 (no detections), 39.4ms\n",
            "image 5/84 /content/HelmetDetectionDataset-3/test/images/4751194990015458395-97a20e7804e32ab0b68d6501b5bca502-22051708_jpg.rf.9aab12c54f2b2cd068cbfe91efc5e1c6.jpg: 640x640 (no detections), 38.3ms\n",
            "image 6/84 /content/HelmetDetectionDataset-3/test/images/4751194990015458395-f8ac871010d2f39612071d318b3c2d56-22051708_jpg.rf.b77ab20e2de8f2233a5edc714a017911.jpg: 640x640 (no detections), 23.9ms\n",
            "image 7/84 /content/HelmetDetectionDataset-3/test/images/4751219743046452701-03e70901aaac079373d3f7c0fcd48f27-22051709_jpg.rf.4b1c409ec184abf6b7529a92bcc516dd.jpg: 640x640 (no detections), 24.1ms\n",
            "image 8/84 /content/HelmetDetectionDataset-3/test/images/4751219743046452701-192f26ccaacd869b196329a63c61a4d5-22051709_jpg.rf.99fc59d5acd44ea956e87b2a97fdd021.jpg: 640x640 (no detections), 23.8ms\n",
            "image 9/84 /content/HelmetDetectionDataset-3/test/images/4751219743046452701-258c8970febb1f6059f4e86e7e49e28b-22051709_jpg.rf.a7493e0b8053f66d2cdc9cc7ed168b92.jpg: 640x640 (no detections), 28.4ms\n",
            "image 10/84 /content/HelmetDetectionDataset-3/test/images/4751219743046452701-39727b6a821027596166d452ecb9c7fe-22051709_jpg.rf.eb19986e440cc1658531177072e7c65c.jpg: 640x640 (no detections), 23.2ms\n",
            "image 11/84 /content/HelmetDetectionDataset-3/test/images/4751219743046452701-4ed260d6db91526cdd5a6e1396835f87-22051709_jpg.rf.2029c6f7c116308df1be4e56a0120455.jpg: 640x640 (no detections), 24.8ms\n",
            "image 12/84 /content/HelmetDetectionDataset-3/test/images/4751219743046452701-669aa53766eb9b0b117d1a1bd9be52d1-22051709_jpg.rf.66f436fad79092ba71719f6785e671ed.jpg: 640x640 (no detections), 24.8ms\n",
            "image 13/84 /content/HelmetDetectionDataset-3/test/images/4751219743046452701-697763dee4b0edc89fbcd1f664abb06d-22051709_jpg.rf.9372a113ab31c821ba2c5d52be3178aa.jpg: 640x640 (no detections), 20.7ms\n",
            "image 14/84 /content/HelmetDetectionDataset-3/test/images/4751219743046452701-8c26756a13cda33d675d42a690edb6e7-22051709_jpg.rf.4b9a49d6bd32e0d05e02cce8cfbd37ec.jpg: 640x640 (no detections), 22.3ms\n",
            "image 15/84 /content/HelmetDetectionDataset-3/test/images/4751219743046452701-9158696c76d0a956b23c032e948b080d-22051709_jpg.rf.d01e43ecb3615c937822b11d7a5032e1.jpg: 640x640 (no detections), 20.7ms\n",
            "image 16/84 /content/HelmetDetectionDataset-3/test/images/61f5f54884bab8c225da137a_8_png_jpg.rf.c90fe33b99a2efbaf8ab46582ff3d55c.jpg: 640x640 3 with helmets, 21.2ms\n",
            "image 17/84 /content/HelmetDetectionDataset-3/test/images/61f605a265f70244531d9fe3_7_png_jpg.rf.568ecdf0b6d4a2184c98ce268f30562f.jpg: 640x640 3 with helmets, 29.7ms\n",
            "image 18/84 /content/HelmetDetectionDataset-3/test/images/84E0B8A3E0B8B6E0B988E0B887E0B983E0B89A_-Index-E0B8AAE0B8B5E0B882E0B8B2E0B8A7_jpg.rf.3bf60993a47f2ad1df0fad519a2cf423.jpg: 640x640 3 with helmets, 19.7ms\n",
            "image 19/84 /content/HelmetDetectionDataset-3/test/images/BikesHelmets416_97_11zon_jpg.rf.8c4086299d180504ffe80bfa94782086.jpg: 640x640 1 rider, 2 with helmets, 30.5ms\n",
            "image 20/84 /content/HelmetDetectionDataset-3/test/images/E0B8ABE0B8A1E0B8A7E0B881E0B881E0B8B1E0B899E0B899E0B987E0B8ADE0B884wr155r-1_jpg.rf.859d26d0443ce5f013640479f6a57d39.jpg: 640x640 (no detections), 21.3ms\n",
            "image 21/84 /content/HelmetDetectionDataset-3/test/images/Indian-driver-wearing-helmet_112_jpg.rf.456f0410aed0794b405b654d843880a1.jpg: 640x640 1 rider, 1 with helmet, 20.3ms\n",
            "image 22/84 /content/HelmetDetectionDataset-3/test/images/Indian-driver-wearing-helmet_148_jpg.rf.3387659f52d726a06ee1e1064f6f4d29.jpg: 640x640 1 rider, 3 with helmets, 1 without helmet, 29.4ms\n",
            "image 23/84 /content/HelmetDetectionDataset-3/test/images/Indian-driver-wearing-helmet_62_jpg.rf.be3dd8d574619e761e8da4c8ba086cd6.jpg: 640x640 1 with helmet, 1 without helmet, 27.4ms\n",
            "image 24/84 /content/HelmetDetectionDataset-3/test/images/Indian-driver-wearing-helmet_79_jpg.rf.32881e7ffc6b278bf2c4e733f1254e21.jpg: 640x640 1 rider, 5 with helmets, 6 without helmets, 21.4ms\n",
            "image 25/84 /content/HelmetDetectionDataset-3/test/images/Screenshot-186-_png_jpg.rf.5f7559aef225c89f168bff1eefee853a.jpg: 640x640 1 rider, 1 without helmet, 24.4ms\n",
            "image 26/84 /content/HelmetDetectionDataset-3/test/images/Screenshot-189-_png_jpg.rf.79a0d0b26a0a247735f78cf7ca608db3.jpg: 640x640 3 riders, 2 without helmets, 24.3ms\n",
            "image 27/84 /content/HelmetDetectionDataset-3/test/images/Screenshot-198-_png_jpg.rf.de19f7df0c55b498fa081ea4ee125655.jpg: 640x640 1 without helmet, 22.7ms\n",
            "image 28/84 /content/HelmetDetectionDataset-3/test/images/Screenshot-219-_png_jpg.rf.459a63da641de20b15f8204468d29412.jpg: 640x640 1 rider, 1 with helmet, 26.4ms\n",
            "image 29/84 /content/HelmetDetectionDataset-3/test/images/Screenshot-220-_png_jpg.rf.41036c4c9fb3d0b06fbadb27aec4b31a.jpg: 640x640 (no detections), 23.3ms\n",
            "image 30/84 /content/HelmetDetectionDataset-3/test/images/Screenshot-233-_png_jpg.rf.4026d7645f94c77f2b1803b0eb70efa3.jpg: 640x640 1 with helmet, 32.9ms\n",
            "image 31/84 /content/HelmetDetectionDataset-3/test/images/Screenshot-238-_png_jpg.rf.75a3055a9f987f11484bf896723640ab.jpg: 640x640 1 rider, 2 with helmets, 2 without helmets, 20.0ms\n",
            "image 32/84 /content/HelmetDetectionDataset-3/test/images/Screenshot-241-_png_jpg.rf.27c9aae43dba14c25bc9b4484b7ab2ec.jpg: 640x640 2 riders, 2 with helmets, 22.5ms\n",
            "image 33/84 /content/HelmetDetectionDataset-3/test/images/Screenshot-246-_png_jpg.rf.b92df27c9ae01d26a73e37d87d8ee0c9.jpg: 640x640 2 riders, 1 with helmet, 2 without helmets, 24.9ms\n",
            "image 34/84 /content/HelmetDetectionDataset-3/test/images/Screenshot-253-_png_jpg.rf.e0ca5e425f222e45d8c93236dab9e25c.jpg: 640x640 1 rider, 1 with helmet, 2 without helmets, 30.4ms\n",
            "image 35/84 /content/HelmetDetectionDataset-3/test/images/Screenshot-257-_png_jpg.rf.f19683ecdc2b18b78a03449cbb2f6022.jpg: 640x640 1 with helmet, 2 without helmets, 23.5ms\n",
            "image 36/84 /content/HelmetDetectionDataset-3/test/images/Screenshot-259-_png_jpg.rf.d769b829b2aa3dcc8d46040948b8037e.jpg: 640x640 2 without helmets, 22.1ms\n",
            "image 37/84 /content/HelmetDetectionDataset-3/test/images/Screenshot-265-_png_jpg.rf.5202b4ae85a96a7a1d81bce45862a5cf.jpg: 640x640 2 without helmets, 20.6ms\n",
            "image 38/84 /content/HelmetDetectionDataset-3/test/images/Screenshot-287-_png_jpg.rf.f633d1070dc98553969e0379c37fa1d4.jpg: 640x640 1 with helmet, 5 without helmets, 20.5ms\n",
            "image 39/84 /content/HelmetDetectionDataset-3/test/images/Screenshot-300-_png_jpg.rf.081bc871ab6d8ea02887768cdc3748b5.jpg: 640x640 1 rider, 3 with helmets, 21.3ms\n",
            "image 40/84 /content/HelmetDetectionDataset-3/test/images/Screenshot-301-_png_jpg.rf.3422a9f14a2d1874bfd6e5832151fff7.jpg: 640x640 3 with helmets, 1 without helmet, 25.1ms\n",
            "image 41/84 /content/HelmetDetectionDataset-3/test/images/Screenshot-302-_png_jpg.rf.c0a647abc45d63907a5d794a18a5757d.jpg: 640x640 1 with helmet, 1 without helmet, 20.6ms\n",
            "image 42/84 /content/HelmetDetectionDataset-3/test/images/Screenshot-306-_png_jpg.rf.31733d946f16fb9622323c0a626a821d.jpg: 640x640 1 with helmet, 1 without helmet, 25.6ms\n",
            "image 43/84 /content/HelmetDetectionDataset-3/test/images/Screenshot-311-_png_jpg.rf.0814f9351be807bfbe121080df43abd1.jpg: 640x640 1 rider, 2 with helmets, 22.7ms\n",
            "image 44/84 /content/HelmetDetectionDataset-3/test/images/Screenshot-320-_png_jpg.rf.0c130eeeac4e385872241afc6dbff63b.jpg: 640x640 1 rider, 1 without helmet, 24.3ms\n",
            "image 45/84 /content/HelmetDetectionDataset-3/test/images/Screenshot-363-_png_jpg.rf.c471087154b20bc7bc8faf9231257acd.jpg: 640x640 10 with helmets, 5 without helmets, 23.7ms\n",
            "image 46/84 /content/HelmetDetectionDataset-3/test/images/Screenshot-364-_png_jpg.rf.029ae56e095afd43637c5664c611ba31.jpg: 640x640 6 riders, 8 with helmets, 3 without helmets, 24.8ms\n",
            "image 47/84 /content/HelmetDetectionDataset-3/test/images/Screenshot-367-_png_jpg.rf.6a796f29422c98123e14449c7ec75350.jpg: 640x640 3 riders, 2 with helmets, 1 without helmet, 25.2ms\n",
            "image 48/84 /content/HelmetDetectionDataset-3/test/images/Screenshot-374-_png_jpg.rf.a9776366660c0119a0c90c5da188ca7a.jpg: 640x640 3 riders, 2 with helmets, 25.2ms\n",
            "image 49/84 /content/HelmetDetectionDataset-3/test/images/Screenshot-381-_png_jpg.rf.7b97b0e0553afe65b414259cce6253ea.jpg: 640x640 3 riders, 5 with helmets, 21.8ms\n",
            "image 50/84 /content/HelmetDetectionDataset-3/test/images/Screenshot-384-_png_jpg.rf.cf5106acbd22be17fbee95519b27d519.jpg: 640x640 4 riders, 7 with helmets, 1 without helmet, 21.3ms\n",
            "image 51/84 /content/HelmetDetectionDataset-3/test/images/Screenshot-399-_png_jpg.rf.2c6429e3c8cb5a12ae1418bb71a1ec44.jpg: 640x640 4 with helmets, 4 without helmets, 21.9ms\n",
            "image 52/84 /content/HelmetDetectionDataset-3/test/images/Screenshot-411-_png_jpg.rf.dd74be5ebce0324a487fed415fc67d13.jpg: 640x640 1 without helmet, 23.6ms\n",
            "image 53/84 /content/HelmetDetectionDataset-3/test/images/Screenshot-416-_png_jpg.rf.512c2991fc7c830c8328143acd15ac89.jpg: 640x640 2 without helmets, 22.6ms\n",
            "image 54/84 /content/HelmetDetectionDataset-3/test/images/Screenshot-436-_png_jpg.rf.2441c2208f97b77a6ce38f137e0cb0ac.jpg: 640x640 1 rider, 2 without helmets, 23.0ms\n",
            "image 55/84 /content/HelmetDetectionDataset-3/test/images/Screenshot-456-_png_jpg.rf.7d9d3ccb4c57af9b9da2634a44e9c783.jpg: 640x640 1 rider, 2 with helmets, 20.5ms\n",
            "image 56/84 /content/HelmetDetectionDataset-3/test/images/Screenshot-485-_png_jpg.rf.3e756a1bb8bc4dd2db8c1ca56dbc1844.jpg: 640x640 1 rider, 1 with helmet, 2 without helmets, 22.6ms\n",
            "image 57/84 /content/HelmetDetectionDataset-3/test/images/Screenshot-489-_png_jpg.rf.a7f9838532c681fef0d7317c95400f9c.jpg: 640x640 2 riders, 1 without helmet, 23.3ms\n",
            "image 58/84 /content/HelmetDetectionDataset-3/test/images/Screenshot-491-_png_jpg.rf.63623f7a732ece956c14122f72bd1a91.jpg: 640x640 1 rider, 2 with helmets, 22.1ms\n",
            "image 59/84 /content/HelmetDetectionDataset-3/test/images/Screenshot-492-_png_jpg.rf.6e701141d38bd268ed6547f33d93af62.jpg: 640x640 2 riders, 2 with helmets, 21.2ms\n",
            "image 60/84 /content/HelmetDetectionDataset-3/test/images/Screenshot-493-_png_jpg.rf.bfbbaaeca4e8f94b75583cc4382e76df.jpg: 640x640 1 rider, 3 with helmets, 1 without helmet, 24.0ms\n",
            "image 61/84 /content/HelmetDetectionDataset-3/test/images/Screenshot-494-_png_jpg.rf.cba235ba5e75c329d538ffe34347fa33.jpg: 640x640 1 rider, 1 with helmet, 23.3ms\n",
            "image 62/84 /content/HelmetDetectionDataset-3/test/images/Screenshot-517-_png_jpg.rf.8a88aaa33e293468b305f34871e28e39.jpg: 640x640 4 with helmets, 1 without helmet, 22.1ms\n",
            "image 63/84 /content/HelmetDetectionDataset-3/test/images/Screenshot-525-_png_jpg.rf.b8f1992382bed5b62e436477abaad0c6.jpg: 640x640 3 riders, 7 with helmets, 9 without helmets, 21.7ms\n",
            "image 64/84 /content/HelmetDetectionDataset-3/test/images/Screenshot-539-_png_jpg.rf.df89ba2af2a9949700b5648637e8f920.jpg: 640x640 2 riders, 3 with helmets, 1 without helmet, 20.8ms\n",
            "image 65/84 /content/HelmetDetectionDataset-3/test/images/db74s9_jpg.rf.463902a7106d80339624284ab8890a06.jpg: 640x640 1 with helmet, 22.9ms\n",
            "image 66/84 /content/HelmetDetectionDataset-3/test/images/dla3tv_jpg.rf.f03cb52a431f77f8d6f700576738c104.jpg: 640x640 1 with helmet, 22.5ms\n",
            "image 67/84 /content/HelmetDetectionDataset-3/test/images/image11_jpeg_jpg.rf.55d0f16363aaf0a786ead6a0d696a6a3.jpg: 640x640 2 with helmets, 21.4ms\n",
            "image 68/84 /content/HelmetDetectionDataset-3/test/images/image24_jpeg_jpg.rf.89db2f75b473be4815e6918f30dbfb4d.jpg: 640x640 1 with helmet, 22.2ms\n",
            "image 69/84 /content/HelmetDetectionDataset-3/test/images/image3_jpeg_jpg.rf.e29329a4ec4866a0429d058aef8924a8.jpg: 640x640 1 with helmet, 24.0ms\n",
            "image 70/84 /content/HelmetDetectionDataset-3/test/images/images114_jpg.rf.0019addc86359b05426d7e48ac9af454.jpg: 640x640 14 with helmets, 22.8ms\n",
            "image 71/84 /content/HelmetDetectionDataset-3/test/images/images123_jpg.rf.d0824bb502389072e504b8cefd7f1d90.jpg: 640x640 1 with helmet, 21.0ms\n",
            "image 72/84 /content/HelmetDetectionDataset-3/test/images/images132_jpg.rf.2bacd1cfea084e6c848b0c1ca0d2f01a.jpg: 640x640 1 with helmet, 23.1ms\n",
            "image 73/84 /content/HelmetDetectionDataset-3/test/images/images154_jpg.rf.5129b8f24a0bcca88be8282e0bd8d106.jpg: 640x640 5 with helmets, 22.8ms\n",
            "image 74/84 /content/HelmetDetectionDataset-3/test/images/images192_jpg.rf.48225cda706a697c8a5d0d1e7d146dbe.jpg: 640x640 1 with helmet, 21.4ms\n",
            "image 75/84 /content/HelmetDetectionDataset-3/test/images/images195_jpg.rf.1737b574060ddcc6894823d5641c1f35.jpg: 640x640 1 with helmet, 23.4ms\n",
            "image 76/84 /content/HelmetDetectionDataset-3/test/images/images217_jpg.rf.c08b9daab620470147499c47057dac38.jpg: 640x640 1 with helmet, 22.6ms\n",
            "image 77/84 /content/HelmetDetectionDataset-3/test/images/images231_jpg.rf.6bf579bf66c53bfd25fff3a987e0908b.jpg: 640x640 1 with helmet, 21.0ms\n",
            "image 78/84 /content/HelmetDetectionDataset-3/test/images/images235_jpg.rf.bd5f60c0ff29a8d646920e732a191ee2.jpg: 640x640 2 with helmets, 20.9ms\n",
            "image 79/84 /content/HelmetDetectionDataset-3/test/images/images245_jpg.rf.d5c7778c9fbcd489ad27e47d868d1024.jpg: 640x640 1 with helmet, 23.4ms\n",
            "image 80/84 /content/HelmetDetectionDataset-3/test/images/images253_jpg.rf.5d47f5ad787fdeeadbdac4218681e47f.jpg: 640x640 3 with helmets, 23.4ms\n",
            "image 81/84 /content/HelmetDetectionDataset-3/test/images/images257_jpg.rf.25c59be24b7117b192e5f27f33486b8a.jpg: 640x640 3 with helmets, 22.1ms\n",
            "image 82/84 /content/HelmetDetectionDataset-3/test/images/images293_jpg.rf.090e5cc95ad79d6a9203d5b6b0161343.jpg: 640x640 1 with helmet, 21.3ms\n",
            "image 83/84 /content/HelmetDetectionDataset-3/test/images/images307_jpg.rf.95d90b645940ff20121f972ba1ac9f17.jpg: 640x640 2 with helmets, 26.7ms\n",
            "image 84/84 /content/HelmetDetectionDataset-3/test/images/images3_jpg.rf.9c010dc2f904957457402d12b6ab88dc.jpg: 640x640 1 with helmet, 23.5ms\n",
            "Speed: 3.6ms preprocess, 24.3ms inference, 1.6ms postprocess per image at shape (1, 3, 640, 640)\n",
            "Results saved to \u001b[1mruns/detect/train3\u001b[0m\n",
            "Ultralytics 8.3.73 🚀 Python-3.11.11 torch-2.5.1+cu124 CPU (Intel Xeon 2.00GHz)\n",
            "\n",
            "\u001b[34m\u001b[1mPyTorch:\u001b[0m starting from 'runs/detect/train/weights/best.pt' with input shape (1, 3, 640, 640) BCHW and output shape(s) (1, 7, 8400) (38.9 MB)\n",
            "\u001b[31m\u001b[1mrequirements:\u001b[0m Ultralytics requirements ['onnx>=1.12.0', 'onnxslim', 'onnxruntime-gpu'] not found, attempting AutoUpdate...\n",
            "Collecting onnx>=1.12.0\n",
            "  Downloading onnx-1.17.0-cp311-cp311-manylinux_2_17_x86_64.manylinux2014_x86_64.whl.metadata (16 kB)\n",
            "Collecting onnxslim\n",
            "  Downloading onnxslim-0.1.48-py3-none-any.whl.metadata (4.6 kB)\n",
            "Collecting onnxruntime-gpu\n",
            "  Downloading onnxruntime_gpu-1.20.1-cp311-cp311-manylinux_2_27_x86_64.manylinux_2_28_x86_64.whl.metadata (4.5 kB)\n",
            "Requirement already satisfied: numpy>=1.20 in /usr/local/lib/python3.11/dist-packages (from onnx>=1.12.0) (1.26.4)\n",
            "Requirement already satisfied: protobuf>=3.20.2 in /usr/local/lib/python3.11/dist-packages (from onnx>=1.12.0) (4.25.6)\n",
            "Requirement already satisfied: sympy in /usr/local/lib/python3.11/dist-packages (from onnxslim) (1.13.1)\n",
            "Requirement already satisfied: packaging in /usr/local/lib/python3.11/dist-packages (from onnxslim) (24.2)\n",
            "Collecting coloredlogs (from onnxruntime-gpu)\n",
            "  Downloading coloredlogs-15.0.1-py2.py3-none-any.whl.metadata (12 kB)\n",
            "Requirement already satisfied: flatbuffers in /usr/local/lib/python3.11/dist-packages (from onnxruntime-gpu) (25.1.24)\n",
            "Collecting humanfriendly>=9.1 (from coloredlogs->onnxruntime-gpu)\n",
            "  Downloading humanfriendly-10.0-py2.py3-none-any.whl.metadata (9.2 kB)\n",
            "Requirement already satisfied: mpmath<1.4,>=1.1.0 in /usr/local/lib/python3.11/dist-packages (from sympy->onnxslim) (1.3.0)\n",
            "Downloading onnx-1.17.0-cp311-cp311-manylinux_2_17_x86_64.manylinux2014_x86_64.whl (16.0 MB)\n",
            "   ━━━━━━━━━━━━━━━━━━━━━━━━━━━━━━━━━━━━━━━━ 16.0/16.0 MB 152.4 MB/s eta 0:00:00\n",
            "Downloading onnxslim-0.1.48-py3-none-any.whl (142 kB)\n",
            "   ━━━━━━━━━━━━━━━━━━━━━━━━━━━━━━━━━━━━━━━━ 142.9/142.9 kB 291.7 MB/s eta 0:00:00\n",
            "Downloading onnxruntime_gpu-1.20.1-cp311-cp311-manylinux_2_27_x86_64.manylinux_2_28_x86_64.whl (291.5 MB)\n",
            "   ━━━━━━━━━━━━━━━━━━━━━━━━━━━━━━━━━━━━━━━━ 291.5/291.5 MB 144.5 MB/s eta 0:00:00\n",
            "Downloading coloredlogs-15.0.1-py2.py3-none-any.whl (46 kB)\n",
            "   ━━━━━━━━━━━━━━━━━━━━━━━━━━━━━━━━━━━━━━━━ 46.0/46.0 kB 205.3 MB/s eta 0:00:00\n",
            "Downloading humanfriendly-10.0-py2.py3-none-any.whl (86 kB)\n",
            "   ━━━━━━━━━━━━━━━━━━━━━━━━━━━━━━━━━━━━━━━━ 86.8/86.8 kB 225.7 MB/s eta 0:00:00\n",
            "Installing collected packages: onnx, humanfriendly, onnxslim, coloredlogs, onnxruntime-gpu\n",
            "Successfully installed coloredlogs-15.0.1 humanfriendly-10.0 onnx-1.17.0 onnxruntime-gpu-1.20.1 onnxslim-0.1.48\n",
            "\n",
            "\u001b[31m\u001b[1mrequirements:\u001b[0m AutoUpdate success ✅ 28.5s, installed 3 packages: ['onnx>=1.12.0', 'onnxslim', 'onnxruntime-gpu']\n",
            "\u001b[31m\u001b[1mrequirements:\u001b[0m ⚠️ \u001b[1mRestart runtime or rerun command for updates to take effect\u001b[0m\n",
            "\n",
            "\n",
            "\u001b[34m\u001b[1mONNX:\u001b[0m starting export with onnx 1.17.0 opset 19...\n",
            "\u001b[34m\u001b[1mONNX:\u001b[0m slimming with onnxslim 0.1.48...\n",
            "\u001b[34m\u001b[1mONNX:\u001b[0m export success ✅ 33.2s, saved as 'runs/detect/train/weights/best.onnx' (76.6 MB)\n",
            "\n",
            "Export complete (37.1s)\n",
            "Results saved to \u001b[1m/content/runs/detect/train/weights\u001b[0m\n",
            "Predict:         yolo predict task=detect model=runs/detect/train/weights/best.onnx imgsz=640  \n",
            "Validate:        yolo val task=detect model=runs/detect/train/weights/best.onnx imgsz=640 data=/content/HelmetDetectionDataset-3/data.yaml  \n",
            "Visualize:       https://netron.app\n",
            "WARNING ⚠️ TensorRT requires GPU export, automatically assigning device=0\n",
            "Ultralytics 8.3.73 🚀 Python-3.11.11 torch-2.5.1+cu124 CUDA:0 (Tesla T4, 15095MiB)\n",
            "\n",
            "\u001b[34m\u001b[1mPyTorch:\u001b[0m starting from 'runs/detect/train/weights/best.pt' with input shape (1, 3, 640, 640) BCHW and output shape(s) (1, 7, 8400) (38.9 MB)\n",
            "\n",
            "\u001b[34m\u001b[1mONNX:\u001b[0m starting export with onnx 1.17.0 opset 19...\n",
            "\u001b[34m\u001b[1mONNX:\u001b[0m slimming with onnxslim 0.1.48...\n",
            "\u001b[34m\u001b[1mONNX:\u001b[0m export success ✅ 4.1s, saved as 'runs/detect/train/weights/best.onnx' (76.6 MB)\n",
            "\u001b[31m\u001b[1mrequirements:\u001b[0m Ultralytics requirement ['tensorrt>7.0.0,!=10.1.0'] not found, attempting AutoUpdate...\n",
            "Collecting tensorrt!=10.1.0,>7.0.0\n",
            "  Downloading tensorrt-10.8.0.43.tar.gz (35 kB)\n",
            "  Preparing metadata (setup.py): started\n",
            "  Preparing metadata (setup.py): finished with status 'done'\n",
            "Collecting tensorrt_cu12==10.8.0.43 (from tensorrt!=10.1.0,>7.0.0)\n",
            "  Downloading tensorrt_cu12-10.8.0.43.tar.gz (18 kB)\n",
            "  Preparing metadata (setup.py): started\n",
            "  Preparing metadata (setup.py): finished with status 'done'\n",
            "Building wheels for collected packages: tensorrt, tensorrt_cu12\n",
            "  Building wheel for tensorrt (setup.py): started\n",
            "  Building wheel for tensorrt (setup.py): finished with status 'done'\n",
            "  Created wheel for tensorrt: filename=tensorrt-10.8.0.43-py2.py3-none-any.whl size=42246 sha256=2658f018af05c9650a2ee7463557c0ef427293267aee74bc78d01af63e3dbc6f\n",
            "  Stored in directory: /tmp/pip-ephem-wheel-cache-3hra3l31/wheels/74/b9/22/cd396c2ef84d0f65b7ad3c218d00b8049e426d0fde196209bc\n",
            "  Building wheel for tensorrt_cu12 (setup.py): started\n",
            "  Building wheel for tensorrt_cu12 (setup.py): finished with status 'done'\n",
            "  Created wheel for tensorrt_cu12: filename=tensorrt_cu12-10.8.0.43-py2.py3-none-any.whl size=17595 sha256=48e7fdc102644dd5efd4ffc78e90fcf21d8bbf947f736a71e89440373bf3cd7f\n",
            "  Stored in directory: /tmp/pip-ephem-wheel-cache-3hra3l31/wheels/ef/cf/7c/93e4012a84c44ffa5cf2a6a7ea03b282a8a19e17755808a9fb\n",
            "Successfully built tensorrt tensorrt_cu12\n",
            "Installing collected packages: tensorrt_cu12, tensorrt\n",
            "Successfully installed tensorrt-10.8.0.43 tensorrt_cu12-10.8.0.43\n",
            "\n",
            "\u001b[31m\u001b[1mrequirements:\u001b[0m AutoUpdate success ✅ 226.0s, installed 1 package: ['tensorrt>7.0.0,!=10.1.0']\n",
            "\u001b[31m\u001b[1mrequirements:\u001b[0m ⚠️ \u001b[1mRestart runtime or rerun command for updates to take effect\u001b[0m\n",
            "\n",
            "\n",
            "\u001b[34m\u001b[1mTensorRT:\u001b[0m starting export with TensorRT 10.8.0.43...\n",
            "\u001b[34m\u001b[1mTensorRT:\u001b[0m input \"images\" with shape(1, 3, 640, 640) DataType.FLOAT\n",
            "\u001b[34m\u001b[1mTensorRT:\u001b[0m output \"output0\" with shape(1, 7, 8400) DataType.FLOAT\n",
            "\u001b[34m\u001b[1mTensorRT:\u001b[0m building FP32 engine as runs/detect/train/weights/best.engine\n",
            "\u001b[34m\u001b[1mTensorRT:\u001b[0m export success ✅ 356.3s, saved as 'runs/detect/train/weights/best.engine' (98.5 MB)\n",
            "\n",
            "Export complete (356.4s)\n",
            "Results saved to \u001b[1m/content/runs/detect/train/weights\u001b[0m\n",
            "Predict:         yolo predict task=detect model=runs/detect/train/weights/best.engine imgsz=640  \n",
            "Validate:        yolo val task=detect model=runs/detect/train/weights/best.engine imgsz=640 data=/content/HelmetDetectionDataset-3/data.yaml  \n",
            "Visualize:       https://netron.app\n"
          ]
        },
        {
          "output_type": "execute_result",
          "data": {
            "text/plain": [
              "'runs/detect/train/weights/best.engine'"
            ],
            "application/vnd.google.colaboratory.intrinsic+json": {
              "type": "string"
            }
          },
          "metadata": {},
          "execution_count": 4
        }
      ]
    },
    {
      "cell_type": "code",
      "source": [
        "# @title Showing plots\n",
        "import os\n",
        "import cv2\n",
        "import matplotlib.pyplot as plt\n",
        "\n",
        "# Define the folder containing YOLO detection results\n",
        "output_folder = \"/content/drive/MyDrive/runs/detect/train2(val)\"\n",
        "\n",
        "# List all image files (PNG, JPG, etc.)\n",
        "image_files = [f for f in os.listdir(output_folder) if f.endswith((\".png\"))]\n",
        "\n",
        "\n",
        "# Display images in 2 columns\n",
        "if len(image_files) > 0:\n",
        "    num_images = len(image_files)\n",
        "    num_rows = (num_images + 1) // 2  # Ensure correct number of rows\n",
        "\n",
        "    fig, axes = plt.subplots(num_rows, 2, figsize=(12, 5 * num_rows))\n",
        "\n",
        "    for i, img_file in enumerate(image_files):\n",
        "        img_path = os.path.join(output_folder, img_file)\n",
        "        img = cv2.imread(img_path)\n",
        "        img = cv2.cvtColor(img, cv2.COLOR_BGR2RGB)\n",
        "\n",
        "        ax = axes[i // 2, i % 2] if num_rows > 1 else axes[i % 2]  # Adjust indexing for single-row cases\n",
        "        ax.imshow(img)\n",
        "        ax.set_title(img_file)\n",
        "        ax.axis(\"off\")\n",
        "\n",
        "    # Hide empty subplots (if images are odd)\n",
        "    if num_images % 2 == 1:\n",
        "        axes[-1, -1].axis(\"off\")  # Hide last empty plot if odd number of images\n",
        "else:\n",
        "    print(\"No detection images found in:\", output_folder)\n"
      ],
      "metadata": {
        "colab": {
          "base_uri": "https://localhost:8080/",
          "height": 1000
        },
        "cellView": "form",
        "id": "59RA7h1LjrTu",
        "outputId": "de5bc46b-0466-40f9-dbb4-2186897c25d6"
      },
      "execution_count": null,
      "outputs": [
        {
          "output_type": "stream",
          "name": "stdout",
          "text": [
            "Detected Images:\n",
            "PR_curve.png\n",
            "F1_curve.png\n",
            "P_curve.png\n",
            "R_curve.png\n",
            "confusion_matrix_normalized.png\n",
            "confusion_matrix.png\n"
          ]
        },
        {
          "output_type": "display_data",
          "data": {
            "text/plain": [
              "<Figure size 1200x1500 with 6 Axes>"
            ],
            "image/png": "[encoded data removed]"
          },
          "metadata": {}
        }
      ]
    },
    {
      "cell_type": "code",
      "source": [
        "# @title Validation metrics\n",
        "import pandas as pd\n",
        "import matplotlib.pyplot as plt\n",
        "\n",
        "# Set path to results.csv\n",
        "results_csv_path = \"/content/drive/MyDrive/runs/detect/train/results.csv\"\n",
        "\n",
        "# Load training results\n",
        "df = pd.read_csv(results_csv_path)\n",
        "\n",
        "\n",
        "# Plot Validation Metrics (Precision, Recall, mAP)\n",
        "plt.figure(figsize=(12, 6))\n",
        "plt.plot(df[\"epoch\"], df[\"metrics/precision(B)\"], label=\"Precision\", color=\"purple\")\n",
        "plt.plot(df[\"epoch\"], df[\"metrics/recall(B)\"], label=\"Recall\", color=\"orange\")\n",
        "plt.plot(df[\"epoch\"], df[\"metrics/mAP50(B)\"], label=\"mAP50\", color=\"blue\")\n",
        "plt.plot(df[\"epoch\"], df[\"metrics/mAP50-95(B)\"], label=\"mAP50-95\", color=\"green\")\n",
        "plt.xlabel(\"Epoch\")\n",
        "plt.ylabel(\"Score\")\n",
        "plt.title(\"Validation Metrics Over Epochs\")\n",
        "plt.legend()\n",
        "plt.show()\n",
        "\n",
        "# Get the epoch where mAP50-95 was highest (best model)\n",
        "best_epoch = df[\"metrics/mAP50-95(B)\"].idxmax()\n",
        "best_metrics = df.iloc[best_epoch]\n",
        "\n",
        "print(f\"🔥 Best Model Found at Epoch: {best_metrics['epoch']}\")\n",
        "print(f\"✅ Best Precision: {best_metrics['metrics/precision(B)']:.4f}\")\n",
        "print(f\"✅ Best Recall: {best_metrics['metrics/recall(B)']:.4f}\")\n",
        "print(f\"✅ Best mAP50: {best_metrics['metrics/mAP50(B)']:.4f}\")\n",
        "print(f\"✅ Best mAP50-95: {best_metrics['metrics/mAP50-95(B)']:.4f}\")\n"
      ],
      "metadata": {
        "colab": {
          "base_uri": "https://localhost:8080/",
          "height": 651
        },
        "cellView": "form",
        "id": "_JKIraXioBiY",
        "outputId": "837c59d9-1071-4f31-c142-29c920afa633"
      },
      "execution_count": null,
      "outputs": [
        {
          "output_type": "display_data",
          "data": {
            "text/plain": [
              "<Figure size 1200x600 with 1 Axes>"
            ],
            "image/png": "[encoded data removed]"
          },
          "metadata": {}
        },
        {
          "output_type": "stream",
          "name": "stdout",
          "text": [
            "🔥 Best Model Found at Epoch: 47.0\n",
            "✅ Best Precision: 0.8113\n",
            "✅ Best Recall: 0.5799\n",
            "✅ Best mAP50: 0.7236\n",
            "✅ Best mAP50-95: 0.5285\n"
          ]
        }
      ]
    },
    {
      "cell_type": "code",
      "source": [
        "# @title This cell must be run to test the model\n",
        "!pip install gradio ultralytics opencv-python gdown\n",
        "\n",
        "!gdown --id 1wGpzAMUBPlkXjxJp3UqOdnB7_JHMBBvb\n",
        "!unzip \"/content/runs.zip\" -d \"/content/extracted_runs\""
      ],
      "metadata": {
        "id": "A6Rlrfc5sgj0",
        "colab": {
          "base_uri": "https://localhost:8080/"
        },
        "collapsed": true,
        "outputId": "6cf42ad2-6141-4cc4-85ba-21bbb5e817db"
      },
      "execution_count": 1,
      "outputs": [
        {
          "output_type": "stream",
          "name": "stdout",
          "text": [
            "Collecting gradio\n",
            "  Downloading gradio-5.15.0-py3-none-any.whl.metadata (16 kB)\n",
            "Collecting ultralytics\n",
            "  Downloading ultralytics-8.3.74-py3-none-any.whl.metadata (35 kB)\n",
            "Requirement already satisfied: opencv-python in /usr/local/lib/python3.11/dist-packages (4.11.0.86)\n",
            "Requirement already satisfied: gdown in /usr/local/lib/python3.11/dist-packages (5.2.0)\n",
            "Collecting aiofiles<24.0,>=22.0 (from gradio)\n",
            "  Downloading aiofiles-23.2.1-py3-none-any.whl.metadata (9.7 kB)\n",
            "Requirement already satisfied: anyio<5.0,>=3.0 in /usr/local/lib/python3.11/dist-packages (from gradio) (3.7.1)\n",
            "Collecting fastapi<1.0,>=0.115.2 (from gradio)\n",
            "  Downloading fastapi-0.115.8-py3-none-any.whl.metadata (27 kB)\n",
            "Collecting ffmpy (from gradio)\n",
            "  Downloading ffmpy-0.5.0-py3-none-any.whl.metadata (3.0 kB)\n",
            "Collecting gradio-client==1.7.0 (from gradio)\n",
            "  Downloading gradio_client-1.7.0-py3-none-any.whl.metadata (7.1 kB)\n",
            "Requirement already satisfied: httpx>=0.24.1 in /usr/local/lib/python3.11/dist-packages (from gradio) (0.28.1)\n",
            "Requirement already satisfied: huggingface-hub>=0.28.1 in /usr/local/lib/python3.11/dist-packages (from gradio) (0.28.1)\n",
            "Requirement already satisfied: jinja2<4.0 in /usr/local/lib/python3.11/dist-packages (from gradio) (3.1.5)\n",
            "Collecting markupsafe~=2.0 (from gradio)\n",
            "  Downloading MarkupSafe-2.1.5-cp311-cp311-manylinux_2_17_x86_64.manylinux2014_x86_64.whl.metadata (3.0 kB)\n",
            "Requirement already satisfied: numpy<3.0,>=1.0 in /usr/local/lib/python3.11/dist-packages (from gradio) (1.26.4)\n",
            "Requirement already satisfied: orjson~=3.0 in /usr/local/lib/python3.11/dist-packages (from gradio) (3.10.15)\n",
            "Requirement already satisfied: packaging in /usr/local/lib/python3.11/dist-packages (from gradio) (24.2)\n",
            "Requirement already satisfied: pandas<3.0,>=1.0 in /usr/local/lib/python3.11/dist-packages (from gradio) (2.2.2)\n",
            "Requirement already satisfied: pillow<12.0,>=8.0 in /usr/local/lib/python3.11/dist-packages (from gradio) (11.1.0)\n",
            "Requirement already satisfied: pydantic>=2.0 in /usr/local/lib/python3.11/dist-packages (from gradio) (2.10.6)\n",
            "Collecting pydub (from gradio)\n",
            "  Downloading pydub-0.25.1-py2.py3-none-any.whl.metadata (1.4 kB)\n",
            "Collecting python-multipart>=0.0.18 (from gradio)\n",
            "  Downloading python_multipart-0.0.20-py3-none-any.whl.metadata (1.8 kB)\n",
            "Requirement already satisfied: pyyaml<7.0,>=5.0 in /usr/local/lib/python3.11/dist-packages (from gradio) (6.0.2)\n",
            "Collecting ruff>=0.9.3 (from gradio)\n",
            "  Downloading ruff-0.9.6-py3-none-manylinux_2_17_x86_64.manylinux2014_x86_64.whl.metadata (25 kB)\n",
            "Collecting safehttpx<0.2.0,>=0.1.6 (from gradio)\n",
            "  Downloading safehttpx-0.1.6-py3-none-any.whl.metadata (4.2 kB)\n",
            "Collecting semantic-version~=2.0 (from gradio)\n",
            "  Downloading semantic_version-2.10.0-py2.py3-none-any.whl.metadata (9.7 kB)\n",
            "Collecting starlette<1.0,>=0.40.0 (from gradio)\n",
            "  Downloading starlette-0.45.3-py3-none-any.whl.metadata (6.3 kB)\n",
            "Collecting tomlkit<0.14.0,>=0.12.0 (from gradio)\n",
            "  Downloading tomlkit-0.13.2-py3-none-any.whl.metadata (2.7 kB)\n",
            "Requirement already satisfied: typer<1.0,>=0.12 in /usr/local/lib/python3.11/dist-packages (from gradio) (0.15.1)\n",
            "Requirement already satisfied: typing-extensions~=4.0 in /usr/local/lib/python3.11/dist-packages (from gradio) (4.12.2)\n",
            "Collecting uvicorn>=0.14.0 (from gradio)\n",
            "  Downloading uvicorn-0.34.0-py3-none-any.whl.metadata (6.5 kB)\n",
            "Requirement already satisfied: fsspec in /usr/local/lib/python3.11/dist-packages (from gradio-client==1.7.0->gradio) (2024.10.0)\n",
            "Requirement already satisfied: websockets<15.0,>=10.0 in /usr/local/lib/python3.11/dist-packages (from gradio-client==1.7.0->gradio) (14.2)\n",
            "Requirement already satisfied: matplotlib>=3.3.0 in /usr/local/lib/python3.11/dist-packages (from ultralytics) (3.10.0)\n",
            "Requirement already satisfied: requests>=2.23.0 in /usr/local/lib/python3.11/dist-packages (from ultralytics) (2.32.3)\n",
            "Requirement already satisfied: scipy>=1.4.1 in /usr/local/lib/python3.11/dist-packages (from ultralytics) (1.13.1)\n",
            "Requirement already satisfied: torch>=1.8.0 in /usr/local/lib/python3.11/dist-packages (from ultralytics) (2.5.1+cu124)\n",
            "Requirement already satisfied: torchvision>=0.9.0 in /usr/local/lib/python3.11/dist-packages (from ultralytics) (0.20.1+cu124)\n",
            "Requirement already satisfied: tqdm>=4.64.0 in /usr/local/lib/python3.11/dist-packages (from ultralytics) (4.67.1)\n",
            "Requirement already satisfied: psutil in /usr/local/lib/python3.11/dist-packages (from ultralytics) (5.9.5)\n",
            "Requirement already satisfied: py-cpuinfo in /usr/local/lib/python3.11/dist-packages (from ultralytics) (9.0.0)\n",
            "Requirement already satisfied: seaborn>=0.11.0 in /usr/local/lib/python3.11/dist-packages (from ultralytics) (0.13.2)\n",
            "Collecting ultralytics-thop>=2.0.0 (from ultralytics)\n",
            "  Downloading ultralytics_thop-2.0.14-py3-none-any.whl.metadata (9.4 kB)\n",
            "Requirement already satisfied: beautifulsoup4 in /usr/local/lib/python3.11/dist-packages (from gdown) (4.13.3)\n",
            "Requirement already satisfied: filelock in /usr/local/lib/python3.11/dist-packages (from gdown) (3.17.0)\n",
            "Requirement already satisfied: idna>=2.8 in /usr/local/lib/python3.11/dist-packages (from anyio<5.0,>=3.0->gradio) (3.10)\n",
            "Requirement already satisfied: sniffio>=1.1 in /usr/local/lib/python3.11/dist-packages (from anyio<5.0,>=3.0->gradio) (1.3.1)\n",
            "Requirement already satisfied: certifi in /usr/local/lib/python3.11/dist-packages (from httpx>=0.24.1->gradio) (2025.1.31)\n",
            "Requirement already satisfied: httpcore==1.* in /usr/local/lib/python3.11/dist-packages (from httpx>=0.24.1->gradio) (1.0.7)\n",
            "Requirement already satisfied: h11<0.15,>=0.13 in /usr/local/lib/python3.11/dist-packages (from httpcore==1.*->httpx>=0.24.1->gradio) (0.14.0)\n",
            "Requirement already satisfied: contourpy>=1.0.1 in /usr/local/lib/python3.11/dist-packages (from matplotlib>=3.3.0->ultralytics) (1.3.1)\n",
            "Requirement already satisfied: cycler>=0.10 in /usr/local/lib/python3.11/dist-packages (from matplotlib>=3.3.0->ultralytics) (0.12.1)\n",
            "Requirement already satisfied: fonttools>=4.22.0 in /usr/local/lib/python3.11/dist-packages (from matplotlib>=3.3.0->ultralytics) (4.55.8)\n",
            "Requirement already satisfied: kiwisolver>=1.3.1 in /usr/local/lib/python3.11/dist-packages (from matplotlib>=3.3.0->ultralytics) (1.4.8)\n",
            "Requirement already satisfied: pyparsing>=2.3.1 in /usr/local/lib/python3.11/dist-packages (from matplotlib>=3.3.0->ultralytics) (3.2.1)\n",
            "Requirement already satisfied: python-dateutil>=2.7 in /usr/local/lib/python3.11/dist-packages (from matplotlib>=3.3.0->ultralytics) (2.8.2)\n",
            "Requirement already satisfied: pytz>=2020.1 in /usr/local/lib/python3.11/dist-packages (from pandas<3.0,>=1.0->gradio) (2025.1)\n",
            "Requirement already satisfied: tzdata>=2022.7 in /usr/local/lib/python3.11/dist-packages (from pandas<3.0,>=1.0->gradio) (2025.1)\n",
            "Requirement already satisfied: annotated-types>=0.6.0 in /usr/local/lib/python3.11/dist-packages (from pydantic>=2.0->gradio) (0.7.0)\n",
            "Requirement already satisfied: pydantic-core==2.27.2 in /usr/local/lib/python3.11/dist-packages (from pydantic>=2.0->gradio) (2.27.2)\n",
            "Requirement already satisfied: charset-normalizer<4,>=2 in /usr/local/lib/python3.11/dist-packages (from requests>=2.23.0->ultralytics) (3.4.1)\n",
            "Requirement already satisfied: urllib3<3,>=1.21.1 in /usr/local/lib/python3.11/dist-packages (from requests>=2.23.0->ultralytics) (2.3.0)\n",
            "Requirement already satisfied: networkx in /usr/local/lib/python3.11/dist-packages (from torch>=1.8.0->ultralytics) (3.4.2)\n",
            "Collecting nvidia-cuda-nvrtc-cu12==12.4.127 (from torch>=1.8.0->ultralytics)\n",
            "  Downloading nvidia_cuda_nvrtc_cu12-12.4.127-py3-none-manylinux2014_x86_64.whl.metadata (1.5 kB)\n",
            "Collecting nvidia-cuda-runtime-cu12==12.4.127 (from torch>=1.8.0->ultralytics)\n",
            "  Downloading nvidia_cuda_runtime_cu12-12.4.127-py3-none-manylinux2014_x86_64.whl.metadata (1.5 kB)\n",
            "Collecting nvidia-cuda-cupti-cu12==12.4.127 (from torch>=1.8.0->ultralytics)\n",
            "  Downloading nvidia_cuda_cupti_cu12-12.4.127-py3-none-manylinux2014_x86_64.whl.metadata (1.6 kB)\n",
            "Collecting nvidia-cudnn-cu12==9.1.0.70 (from torch>=1.8.0->ultralytics)\n",
            "  Downloading nvidia_cudnn_cu12-9.1.0.70-py3-none-manylinux2014_x86_64.whl.metadata (1.6 kB)\n",
            "Collecting nvidia-cublas-cu12==12.4.5.8 (from torch>=1.8.0->ultralytics)\n",
            "  Downloading nvidia_cublas_cu12-12.4.5.8-py3-none-manylinux2014_x86_64.whl.metadata (1.5 kB)\n",
            "Collecting nvidia-cufft-cu12==11.2.1.3 (from torch>=1.8.0->ultralytics)\n",
            "  Downloading nvidia_cufft_cu12-11.2.1.3-py3-none-manylinux2014_x86_64.whl.metadata (1.5 kB)\n",
            "Collecting nvidia-curand-cu12==10.3.5.147 (from torch>=1.8.0->ultralytics)\n",
            "  Downloading nvidia_curand_cu12-10.3.5.147-py3-none-manylinux2014_x86_64.whl.metadata (1.5 kB)\n",
            "Collecting nvidia-cusolver-cu12==11.6.1.9 (from torch>=1.8.0->ultralytics)\n",
            "  Downloading nvidia_cusolver_cu12-11.6.1.9-py3-none-manylinux2014_x86_64.whl.metadata (1.6 kB)\n",
            "Collecting nvidia-cusparse-cu12==12.3.1.170 (from torch>=1.8.0->ultralytics)\n",
            "  Downloading nvidia_cusparse_cu12-12.3.1.170-py3-none-manylinux2014_x86_64.whl.metadata (1.6 kB)\n",
            "Requirement already satisfied: nvidia-nccl-cu12==2.21.5 in /usr/local/lib/python3.11/dist-packages (from torch>=1.8.0->ultralytics) (2.21.5)\n",
            "Requirement already satisfied: nvidia-nvtx-cu12==12.4.127 in /usr/local/lib/python3.11/dist-packages (from torch>=1.8.0->ultralytics) (12.4.127)\n",
            "Collecting nvidia-nvjitlink-cu12==12.4.127 (from torch>=1.8.0->ultralytics)\n",
            "  Downloading nvidia_nvjitlink_cu12-12.4.127-py3-none-manylinux2014_x86_64.whl.metadata (1.5 kB)\n",
            "Requirement already satisfied: triton==3.1.0 in /usr/local/lib/python3.11/dist-packages (from torch>=1.8.0->ultralytics) (3.1.0)\n",
            "Requirement already satisfied: sympy==1.13.1 in /usr/local/lib/python3.11/dist-packages (from torch>=1.8.0->ultralytics) (1.13.1)\n",
            "Requirement already satisfied: mpmath<1.4,>=1.1.0 in /usr/local/lib/python3.11/dist-packages (from sympy==1.13.1->torch>=1.8.0->ultralytics) (1.3.0)\n",
            "Requirement already satisfied: click>=8.0.0 in /usr/local/lib/python3.11/dist-packages (from typer<1.0,>=0.12->gradio) (8.1.8)\n",
            "Requirement already satisfied: shellingham>=1.3.0 in /usr/local/lib/python3.11/dist-packages (from typer<1.0,>=0.12->gradio) (1.5.4)\n",
            "Requirement already satisfied: rich>=10.11.0 in /usr/local/lib/python3.11/dist-packages (from typer<1.0,>=0.12->gradio) (13.9.4)\n",
            "Requirement already satisfied: soupsieve>1.2 in /usr/local/lib/python3.11/dist-packages (from beautifulsoup4->gdown) (2.6)\n",
            "Requirement already satisfied: PySocks!=1.5.7,>=1.5.6 in /usr/local/lib/python3.11/dist-packages (from requests[socks]->gdown) (1.7.1)\n",
            "Requirement already satisfied: six>=1.5 in /usr/local/lib/python3.11/dist-packages (from python-dateutil>=2.7->matplotlib>=3.3.0->ultralytics) (1.17.0)\n",
            "Requirement already satisfied: markdown-it-py>=2.2.0 in /usr/local/lib/python3.11/dist-packages (from rich>=10.11.0->typer<1.0,>=0.12->gradio) (3.0.0)\n",
            "Requirement already satisfied: pygments<3.0.0,>=2.13.0 in /usr/local/lib/python3.11/dist-packages (from rich>=10.11.0->typer<1.0,>=0.12->gradio) (2.18.0)\n",
            "Requirement already satisfied: mdurl~=0.1 in /usr/local/lib/python3.11/dist-packages (from markdown-it-py>=2.2.0->rich>=10.11.0->typer<1.0,>=0.12->gradio) (0.1.2)\n",
            "Downloading gradio-5.15.0-py3-none-any.whl (57.8 MB)\n",
            "\u001b[2K   \u001b[90m━━━━━━━━━━━━━━━━━━━━━━━━━━━━━━━━━━━━━━━━\u001b[0m \u001b[32m57.8/57.8 MB\u001b[0m \u001b[31m13.6 MB/s\u001b[0m eta \u001b[36m0:00:00\u001b[0m\n",
            "\u001b[?25hDownloading gradio_client-1.7.0-py3-none-any.whl (321 kB)\n",
            "\u001b[2K   \u001b[90m━━━━━━━━━━━━━━━━━━━━━━━━━━━━━━━━━━━━━━━━\u001b[0m \u001b[32m321.9/321.9 kB\u001b[0m \u001b[31m23.5 MB/s\u001b[0m eta \u001b[36m0:00:00\u001b[0m\n",
            "\u001b[?25hDownloading ultralytics-8.3.74-py3-none-any.whl (914 kB)\n",
            "\u001b[2K   \u001b[90m━━━━━━━━━━━━━━━━━━━━━━━━━━━━━━━━━━━━━━━━\u001b[0m \u001b[32m914.7/914.7 kB\u001b[0m \u001b[31m40.5 MB/s\u001b[0m eta \u001b[36m0:00:00\u001b[0m\n",
            "\u001b[?25hDownloading aiofiles-23.2.1-py3-none-any.whl (15 kB)\n",
            "Downloading fastapi-0.115.8-py3-none-any.whl (94 kB)\n",
            "\u001b[2K   \u001b[90m━━━━━━━━━━━━━━━━━━━━━━━━━━━━━━━━━━━━━━━━\u001b[0m \u001b[32m94.8/94.8 kB\u001b[0m \u001b[31m7.3 MB/s\u001b[0m eta \u001b[36m0:00:00\u001b[0m\n",
            "\u001b[?25hDownloading MarkupSafe-2.1.5-cp311-cp311-manylinux_2_17_x86_64.manylinux2014_x86_64.whl (28 kB)\n",
            "Downloading python_multipart-0.0.20-py3-none-any.whl (24 kB)\n",
            "Downloading ruff-0.9.6-py3-none-manylinux_2_17_x86_64.manylinux2014_x86_64.whl (12.5 MB)\n",
            "\u001b[2K   \u001b[90m━━━━━━━━━━━━━━━━━━━━━━━━━━━━━━━━━━━━━━━━\u001b[0m \u001b[32m12.5/12.5 MB\u001b[0m \u001b[31m82.8 MB/s\u001b[0m eta \u001b[36m0:00:00\u001b[0m\n",
            "\u001b[?25hDownloading safehttpx-0.1.6-py3-none-any.whl (8.7 kB)\n",
            "Downloading semantic_version-2.10.0-py2.py3-none-any.whl (15 kB)\n",
            "Downloading starlette-0.45.3-py3-none-any.whl (71 kB)\n",
            "\u001b[2K   \u001b[90m━━━━━━━━━━━━━━━━━━━━━━━━━━━━━━━━━━━━━━━━\u001b[0m \u001b[32m71.5/71.5 kB\u001b[0m \u001b[31m5.6 MB/s\u001b[0m eta \u001b[36m0:00:00\u001b[0m\n",
            "\u001b[?25hDownloading tomlkit-0.13.2-py3-none-any.whl (37 kB)\n",
            "Downloading nvidia_cublas_cu12-12.4.5.8-py3-none-manylinux2014_x86_64.whl (363.4 MB)\n",
            "\u001b[2K   \u001b[90m━━━━━━━━━━━━━━━━━━━━━━━━━━━━━━━━━━━━━━━━\u001b[0m \u001b[32m363.4/363.4 MB\u001b[0m \u001b[31m1.5 MB/s\u001b[0m eta \u001b[36m0:00:00\u001b[0m\n",
            "\u001b[?25hDownloading nvidia_cuda_cupti_cu12-12.4.127-py3-none-manylinux2014_x86_64.whl (13.8 MB)\n",
            "\u001b[2K   \u001b[90m━━━━━━━━━━━━━━━━━━━━━━━━━━━━━━━━━━━━━━━━\u001b[0m \u001b[32m13.8/13.8 MB\u001b[0m \u001b[31m93.7 MB/s\u001b[0m eta \u001b[36m0:00:00\u001b[0m\n",
            "\u001b[?25hDownloading nvidia_cuda_nvrtc_cu12-12.4.127-py3-none-manylinux2014_x86_64.whl (24.6 MB)\n",
            "\u001b[2K   \u001b[90m━━━━━━━━━━━━━━━━━━━━━━━━━━━━━━━━━━━━━━━━\u001b[0m \u001b[32m24.6/24.6 MB\u001b[0m \u001b[31m74.6 MB/s\u001b[0m eta \u001b[36m0:00:00\u001b[0m\n",
            "\u001b[?25hDownloading nvidia_cuda_runtime_cu12-12.4.127-py3-none-manylinux2014_x86_64.whl (883 kB)\n",
            "\u001b[2K   \u001b[90m━━━━━━━━━━━━━━━━━━━━━━━━━━━━━━━━━━━━━━━━\u001b[0m \u001b[32m883.7/883.7 kB\u001b[0m \u001b[31m49.8 MB/s\u001b[0m eta \u001b[36m0:00:00\u001b[0m\n",
            "\u001b[?25hDownloading nvidia_cudnn_cu12-9.1.0.70-py3-none-manylinux2014_x86_64.whl (664.8 MB)\n",
            "\u001b[2K   \u001b[90m━━━━━━━━━━━━━━━━━━━━━━━━━━━━━━━━━━━━━━━━\u001b[0m \u001b[32m664.8/664.8 MB\u001b[0m \u001b[31m2.0 MB/s\u001b[0m eta \u001b[36m0:00:00\u001b[0m\n",
            "\u001b[?25hDownloading nvidia_cufft_cu12-11.2.1.3-py3-none-manylinux2014_x86_64.whl (211.5 MB)\n",
            "\u001b[2K   \u001b[90m━━━━━━━━━━━━━━━━━━━━━━━━━━━━━━━━━━━━━━━━\u001b[0m \u001b[32m211.5/211.5 MB\u001b[0m \u001b[31m2.3 MB/s\u001b[0m eta \u001b[36m0:00:00\u001b[0m\n",
            "\u001b[?25hDownloading nvidia_curand_cu12-10.3.5.147-py3-none-manylinux2014_x86_64.whl (56.3 MB)\n",
            "\u001b[2K   \u001b[90m━━━━━━━━━━━━━━━━━━━━━━━━━━━━━━━━━━━━━━━━\u001b[0m \u001b[32m56.3/56.3 MB\u001b[0m \u001b[31m12.6 MB/s\u001b[0m eta \u001b[36m0:00:00\u001b[0m\n",
            "\u001b[?25hDownloading nvidia_cusolver_cu12-11.6.1.9-py3-none-manylinux2014_x86_64.whl (127.9 MB)\n",
            "\u001b[2K   \u001b[90m━━━━━━━━━━━━━━━━━━━━━━━━━━━━━━━━━━━━━━━━\u001b[0m \u001b[32m127.9/127.9 MB\u001b[0m \u001b[31m7.2 MB/s\u001b[0m eta \u001b[36m0:00:00\u001b[0m\n",
            "\u001b[?25hDownloading nvidia_cusparse_cu12-12.3.1.170-py3-none-manylinux2014_x86_64.whl (207.5 MB)\n",
            "\u001b[2K   \u001b[90m━━━━━━━━━━━━━━━━━━━━━━━━━━━━━━━━━━━━━━━━\u001b[0m \u001b[32m207.5/207.5 MB\u001b[0m \u001b[31m6.1 MB/s\u001b[0m eta \u001b[36m0:00:00\u001b[0m\n",
            "\u001b[?25hDownloading nvidia_nvjitlink_cu12-12.4.127-py3-none-manylinux2014_x86_64.whl (21.1 MB)\n",
            "\u001b[2K   \u001b[90m━━━━━━━━━━━━━━━━━━━━━━━━━━━━━━━━━━━━━━━━\u001b[0m \u001b[32m21.1/21.1 MB\u001b[0m \u001b[31m54.0 MB/s\u001b[0m eta \u001b[36m0:00:00\u001b[0m\n",
            "\u001b[?25hDownloading ultralytics_thop-2.0.14-py3-none-any.whl (26 kB)\n",
            "Downloading uvicorn-0.34.0-py3-none-any.whl (62 kB)\n",
            "\u001b[2K   \u001b[90m━━━━━━━━━━━━━━━━━━━━━━━━━━━━━━━━━━━━━━━━\u001b[0m \u001b[32m62.3/62.3 kB\u001b[0m \u001b[31m5.0 MB/s\u001b[0m eta \u001b[36m0:00:00\u001b[0m\n",
            "\u001b[?25hDownloading ffmpy-0.5.0-py3-none-any.whl (6.0 kB)\n",
            "Downloading pydub-0.25.1-py2.py3-none-any.whl (32 kB)\n",
            "Installing collected packages: pydub, uvicorn, tomlkit, semantic-version, ruff, python-multipart, nvidia-nvjitlink-cu12, nvidia-curand-cu12, nvidia-cufft-cu12, nvidia-cuda-runtime-cu12, nvidia-cuda-nvrtc-cu12, nvidia-cuda-cupti-cu12, nvidia-cublas-cu12, markupsafe, ffmpy, aiofiles, starlette, nvidia-cusparse-cu12, nvidia-cudnn-cu12, safehttpx, nvidia-cusolver-cu12, gradio-client, fastapi, gradio, ultralytics-thop, ultralytics\n",
            "  Attempting uninstall: nvidia-nvjitlink-cu12\n",
            "    Found existing installation: nvidia-nvjitlink-cu12 12.5.82\n",
            "    Uninstalling nvidia-nvjitlink-cu12-12.5.82:\n",
            "      Successfully uninstalled nvidia-nvjitlink-cu12-12.5.82\n",
            "  Attempting uninstall: nvidia-curand-cu12\n",
            "    Found existing installation: nvidia-curand-cu12 10.3.6.82\n",
            "    Uninstalling nvidia-curand-cu12-10.3.6.82:\n",
            "      Successfully uninstalled nvidia-curand-cu12-10.3.6.82\n",
            "  Attempting uninstall: nvidia-cufft-cu12\n",
            "    Found existing installation: nvidia-cufft-cu12 11.2.3.61\n",
            "    Uninstalling nvidia-cufft-cu12-11.2.3.61:\n",
            "      Successfully uninstalled nvidia-cufft-cu12-11.2.3.61\n",
            "  Attempting uninstall: nvidia-cuda-runtime-cu12\n",
            "    Found existing installation: nvidia-cuda-runtime-cu12 12.5.82\n",
            "    Uninstalling nvidia-cuda-runtime-cu12-12.5.82:\n",
            "      Successfully uninstalled nvidia-cuda-runtime-cu12-12.5.82\n",
            "  Attempting uninstall: nvidia-cuda-nvrtc-cu12\n",
            "    Found existing installation: nvidia-cuda-nvrtc-cu12 12.5.82\n",
            "    Uninstalling nvidia-cuda-nvrtc-cu12-12.5.82:\n",
            "      Successfully uninstalled nvidia-cuda-nvrtc-cu12-12.5.82\n",
            "  Attempting uninstall: nvidia-cuda-cupti-cu12\n",
            "    Found existing installation: nvidia-cuda-cupti-cu12 12.5.82\n",
            "    Uninstalling nvidia-cuda-cupti-cu12-12.5.82:\n",
            "      Successfully uninstalled nvidia-cuda-cupti-cu12-12.5.82\n",
            "  Attempting uninstall: nvidia-cublas-cu12\n",
            "    Found existing installation: nvidia-cublas-cu12 12.5.3.2\n",
            "    Uninstalling nvidia-cublas-cu12-12.5.3.2:\n",
            "      Successfully uninstalled nvidia-cublas-cu12-12.5.3.2\n",
            "  Attempting uninstall: markupsafe\n",
            "    Found existing installation: MarkupSafe 3.0.2\n",
            "    Uninstalling MarkupSafe-3.0.2:\n",
            "      Successfully uninstalled MarkupSafe-3.0.2\n",
            "  Attempting uninstall: nvidia-cusparse-cu12\n",
            "    Found existing installation: nvidia-cusparse-cu12 12.5.1.3\n",
            "    Uninstalling nvidia-cusparse-cu12-12.5.1.3:\n",
            "      Successfully uninstalled nvidia-cusparse-cu12-12.5.1.3\n",
            "  Attempting uninstall: nvidia-cudnn-cu12\n",
            "    Found existing installation: nvidia-cudnn-cu12 9.3.0.75\n",
            "    Uninstalling nvidia-cudnn-cu12-9.3.0.75:\n",
            "      Successfully uninstalled nvidia-cudnn-cu12-9.3.0.75\n",
            "  Attempting uninstall: nvidia-cusolver-cu12\n",
            "    Found existing installation: nvidia-cusolver-cu12 11.6.3.83\n",
            "    Uninstalling nvidia-cusolver-cu12-11.6.3.83:\n",
            "      Successfully uninstalled nvidia-cusolver-cu12-11.6.3.83\n",
            "Successfully installed aiofiles-23.2.1 fastapi-0.115.8 ffmpy-0.5.0 gradio-5.15.0 gradio-client-1.7.0 markupsafe-2.1.5 nvidia-cublas-cu12-12.4.5.8 nvidia-cuda-cupti-cu12-12.4.127 nvidia-cuda-nvrtc-cu12-12.4.127 nvidia-cuda-runtime-cu12-12.4.127 nvidia-cudnn-cu12-9.1.0.70 nvidia-cufft-cu12-11.2.1.3 nvidia-curand-cu12-10.3.5.147 nvidia-cusolver-cu12-11.6.1.9 nvidia-cusparse-cu12-12.3.1.170 nvidia-nvjitlink-cu12-12.4.127 pydub-0.25.1 python-multipart-0.0.20 ruff-0.9.6 safehttpx-0.1.6 semantic-version-2.10.0 starlette-0.45.3 tomlkit-0.13.2 ultralytics-8.3.74 ultralytics-thop-2.0.14 uvicorn-0.34.0\n",
            "/usr/local/lib/python3.11/dist-packages/gdown/__main__.py:140: FutureWarning: Option `--id` was deprecated in version 4.3.1 and will be removed in 5.0. You don't need to pass it anymore to use a file ID.\n",
            "  warnings.warn(\n",
            "Downloading...\n",
            "From (original): https://drive.google.com/uc?id=1wGpzAMUBPlkXjxJp3UqOdnB7_JHMBBvb\n",
            "From (redirected): https://drive.google.com/uc?id=1wGpzAMUBPlkXjxJp3UqOdnB7_JHMBBvb&confirm=t&uuid=a4f19fe4-1fff-4c22-bb67-86187771fc70\n",
            "To: /content/runs.zip\n",
            "100% 253M/253M [00:07<00:00, 36.1MB/s]\n",
            "Archive:  /content/runs.zip\n",
            "   creating: /content/extracted_runs/content/drive/MyDrive/runs/\n",
            "   creating: /content/extracted_runs/content/drive/MyDrive/runs/detect/\n",
            "   creating: /content/extracted_runs/content/drive/MyDrive/runs/detect/train3(test)/\n",
            "  inflating: /content/extracted_runs/content/drive/MyDrive/runs/detect/train3(test)/Screenshot-539-_png_jpg.rf.df89ba2af2a9949700b5648637e8f920.jpg  \n",
            "  inflating: /content/extracted_runs/content/drive/MyDrive/runs/detect/train3(test)/4751219743046452701-697763dee4b0edc89fbcd1f664abb06d-22051709_jpg.rf.9372a113ab31c821ba2c5d52be3178aa.jpg  \n",
            "  inflating: /content/extracted_runs/content/drive/MyDrive/runs/detect/train3(test)/Screenshot-494-_png_jpg.rf.cba235ba5e75c329d538ffe34347fa33.jpg  \n",
            "  inflating: /content/extracted_runs/content/drive/MyDrive/runs/detect/train3(test)/43_jpg.rf.31e5f97339657877a38203871c1a685c.jpg  \n",
            "  inflating: /content/extracted_runs/content/drive/MyDrive/runs/detect/train3(test)/E0B8ABE0B8A1E0B8A7E0B881E0B881E0B8B1E0B899E0B899E0B987E0B8ADE0B884wr155r-1_jpg.rf.859d26d0443ce5f013640479f6a57d39.jpg  \n",
            "  inflating: /content/extracted_runs/content/drive/MyDrive/runs/detect/train3(test)/images307_jpg.rf.95d90b645940ff20121f972ba1ac9f17.jpg  \n",
            "  inflating: /content/extracted_runs/content/drive/MyDrive/runs/detect/train3(test)/Screenshot-246-_png_jpg.rf.b92df27c9ae01d26a73e37d87d8ee0c9.jpg  \n",
            "  inflating: /content/extracted_runs/content/drive/MyDrive/runs/detect/train3(test)/4751219743046452701-669aa53766eb9b0b117d1a1bd9be52d1-22051709_jpg.rf.66f436fad79092ba71719f6785e671ed.jpg  \n",
            "  inflating: /content/extracted_runs/content/drive/MyDrive/runs/detect/train3(test)/images123_jpg.rf.d0824bb502389072e504b8cefd7f1d90.jpg  \n",
            "  inflating: /content/extracted_runs/content/drive/MyDrive/runs/detect/train3(test)/Screenshot-416-_png_jpg.rf.512c2991fc7c830c8328143acd15ac89.jpg  \n",
            "  inflating: /content/extracted_runs/content/drive/MyDrive/runs/detect/train3(test)/Screenshot-311-_png_jpg.rf.0814f9351be807bfbe121080df43abd1.jpg  \n",
            "  inflating: /content/extracted_runs/content/drive/MyDrive/runs/detect/train3(test)/Screenshot-411-_png_jpg.rf.dd74be5ebce0324a487fed415fc67d13.jpg  \n",
            "  inflating: /content/extracted_runs/content/drive/MyDrive/runs/detect/train3(test)/4751194990015458395-488368a7bb92cd64260afc2ba8ca76ab-22051708_jpg.rf.4802c068591ec512cd61bf2490ded6d4.jpg  \n",
            "  inflating: /content/extracted_runs/content/drive/MyDrive/runs/detect/train3(test)/Screenshot-265-_png_jpg.rf.5202b4ae85a96a7a1d81bce45862a5cf.jpg  \n",
            "  inflating: /content/extracted_runs/content/drive/MyDrive/runs/detect/train3(test)/images114_jpg.rf.0019addc86359b05426d7e48ac9af454.jpg  \n",
            "  inflating: /content/extracted_runs/content/drive/MyDrive/runs/detect/train3(test)/Indian-driver-wearing-helmet_148_jpg.rf.3387659f52d726a06ee1e1064f6f4d29.jpg  \n",
            "  inflating: /content/extracted_runs/content/drive/MyDrive/runs/detect/train3(test)/images217_jpg.rf.c08b9daab620470147499c47057dac38.jpg  \n",
            "  inflating: /content/extracted_runs/content/drive/MyDrive/runs/detect/train3(test)/4751219743046452701-258c8970febb1f6059f4e86e7e49e28b-22051709_jpg.rf.a7493e0b8053f66d2cdc9cc7ed168b92.jpg  \n",
            "  inflating: /content/extracted_runs/content/drive/MyDrive/runs/detect/train3(test)/Screenshot-320-_png_jpg.rf.0c130eeeac4e385872241afc6dbff63b.jpg  \n",
            "  inflating: /content/extracted_runs/content/drive/MyDrive/runs/detect/train3(test)/image11_jpeg_jpg.rf.55d0f16363aaf0a786ead6a0d696a6a3.jpg  \n",
            "  inflating: /content/extracted_runs/content/drive/MyDrive/runs/detect/train3(test)/4751219743046452701-03e70901aaac079373d3f7c0fcd48f27-22051709_jpg.rf.4b1c409ec184abf6b7529a92bcc516dd.jpg  \n",
            "  inflating: /content/extracted_runs/content/drive/MyDrive/runs/detect/train3(test)/Screenshot-492-_png_jpg.rf.6e701141d38bd268ed6547f33d93af62.jpg  \n",
            "  inflating: /content/extracted_runs/content/drive/MyDrive/runs/detect/train3(test)/4751194990015458395-4e7321ffd53816b338bc2358a803e16e-22051708_jpg.rf.756e1a1b865642f02c4b13880637a64d.jpg  \n",
            "  inflating: /content/extracted_runs/content/drive/MyDrive/runs/detect/train3(test)/4751219743046452701-8c26756a13cda33d675d42a690edb6e7-22051709_jpg.rf.4b9a49d6bd32e0d05e02cce8cfbd37ec.jpg  \n",
            "  inflating: /content/extracted_runs/content/drive/MyDrive/runs/detect/train3(test)/images154_jpg.rf.5129b8f24a0bcca88be8282e0bd8d106.jpg  \n",
            "  inflating: /content/extracted_runs/content/drive/MyDrive/runs/detect/train3(test)/4751219743046452701-9158696c76d0a956b23c032e948b080d-22051709_jpg.rf.d01e43ecb3615c937822b11d7a5032e1.jpg  \n",
            "  inflating: /content/extracted_runs/content/drive/MyDrive/runs/detect/train3(test)/4751219743046452701-39727b6a821027596166d452ecb9c7fe-22051709_jpg.rf.eb19986e440cc1658531177072e7c65c.jpg  \n",
            "  inflating: /content/extracted_runs/content/drive/MyDrive/runs/detect/train3(test)/4751219743046452701-4ed260d6db91526cdd5a6e1396835f87-22051709_jpg.rf.2029c6f7c116308df1be4e56a0120455.jpg  \n",
            "  inflating: /content/extracted_runs/content/drive/MyDrive/runs/detect/train3(test)/Screenshot-198-_png_jpg.rf.de19f7df0c55b498fa081ea4ee125655.jpg  \n",
            "  inflating: /content/extracted_runs/content/drive/MyDrive/runs/detect/train3(test)/image24_jpeg_jpg.rf.89db2f75b473be4815e6918f30dbfb4d.jpg  \n",
            "  inflating: /content/extracted_runs/content/drive/MyDrive/runs/detect/train3(test)/Screenshot-384-_png_jpg.rf.cf5106acbd22be17fbee95519b27d519.jpg  \n",
            "  inflating: /content/extracted_runs/content/drive/MyDrive/runs/detect/train3(test)/Screenshot-517-_png_jpg.rf.8a88aaa33e293468b305f34871e28e39.jpg  \n",
            "  inflating: /content/extracted_runs/content/drive/MyDrive/runs/detect/train3(test)/images132_jpg.rf.2bacd1cfea084e6c848b0c1ca0d2f01a.jpg  \n",
            "  inflating: /content/extracted_runs/content/drive/MyDrive/runs/detect/train3(test)/Screenshot-374-_png_jpg.rf.a9776366660c0119a0c90c5da188ca7a.jpg  \n",
            "  inflating: /content/extracted_runs/content/drive/MyDrive/runs/detect/train3(test)/Screenshot-219-_png_jpg.rf.459a63da641de20b15f8204468d29412.jpg  \n",
            "  inflating: /content/extracted_runs/content/drive/MyDrive/runs/detect/train3(test)/4751194990015458395-f8ac871010d2f39612071d318b3c2d56-22051708_jpg.rf.b77ab20e2de8f2233a5edc714a017911.jpg  \n",
            "  inflating: /content/extracted_runs/content/drive/MyDrive/runs/detect/train3(test)/Screenshot-189-_png_jpg.rf.79a0d0b26a0a247735f78cf7ca608db3.jpg  \n",
            "  inflating: /content/extracted_runs/content/drive/MyDrive/runs/detect/train3(test)/61f5f54884bab8c225da137a_8_png_jpg.rf.c90fe33b99a2efbaf8ab46582ff3d55c.jpg  \n",
            "  inflating: /content/extracted_runs/content/drive/MyDrive/runs/detect/train3(test)/images195_jpg.rf.1737b574060ddcc6894823d5641c1f35.jpg  \n",
            "  inflating: /content/extracted_runs/content/drive/MyDrive/runs/detect/train3(test)/BikesHelmets416_97_11zon_jpg.rf.8c4086299d180504ffe80bfa94782086.jpg  \n",
            "  inflating: /content/extracted_runs/content/drive/MyDrive/runs/detect/train3(test)/image3_jpeg_jpg.rf.e29329a4ec4866a0429d058aef8924a8.jpg  \n",
            "  inflating: /content/extracted_runs/content/drive/MyDrive/runs/detect/train3(test)/Screenshot-238-_png_jpg.rf.75a3055a9f987f11484bf896723640ab.jpg  \n",
            "  inflating: /content/extracted_runs/content/drive/MyDrive/runs/detect/train3(test)/images192_jpg.rf.48225cda706a697c8a5d0d1e7d146dbe.jpg  \n",
            "  inflating: /content/extracted_runs/content/drive/MyDrive/runs/detect/train3(test)/Indian-driver-wearing-helmet_79_jpg.rf.32881e7ffc6b278bf2c4e733f1254e21.jpg  \n",
            "  inflating: /content/extracted_runs/content/drive/MyDrive/runs/detect/train3(test)/Screenshot-367-_png_jpg.rf.6a796f29422c98123e14449c7ec75350.jpg  \n",
            "  inflating: /content/extracted_runs/content/drive/MyDrive/runs/detect/train3(test)/Indian-driver-wearing-helmet_62_jpg.rf.be3dd8d574619e761e8da4c8ba086cd6.jpg  \n",
            "  inflating: /content/extracted_runs/content/drive/MyDrive/runs/detect/train3(test)/Screenshot-241-_png_jpg.rf.27c9aae43dba14c25bc9b4484b7ab2ec.jpg  \n",
            "  inflating: /content/extracted_runs/content/drive/MyDrive/runs/detect/train3(test)/61f605a265f70244531d9fe3_7_png_jpg.rf.568ecdf0b6d4a2184c98ce268f30562f.jpg  \n",
            "  inflating: /content/extracted_runs/content/drive/MyDrive/runs/detect/train3(test)/Screenshot-301-_png_jpg.rf.3422a9f14a2d1874bfd6e5832151fff7.jpg  \n",
            "  inflating: /content/extracted_runs/content/drive/MyDrive/runs/detect/train3(test)/Indian-driver-wearing-helmet_112_jpg.rf.456f0410aed0794b405b654d843880a1.jpg  \n",
            "  inflating: /content/extracted_runs/content/drive/MyDrive/runs/detect/train3(test)/4751194990015458395-97a20e7804e32ab0b68d6501b5bca502-22051708_jpg.rf.9aab12c54f2b2cd068cbfe91efc5e1c6.jpg  \n",
            "  inflating: /content/extracted_runs/content/drive/MyDrive/runs/detect/train3(test)/images3_jpg.rf.9c010dc2f904957457402d12b6ab88dc.jpg  \n",
            "  inflating: /content/extracted_runs/content/drive/MyDrive/runs/detect/train3(test)/images257_jpg.rf.25c59be24b7117b192e5f27f33486b8a.jpg  \n",
            "  inflating: /content/extracted_runs/content/drive/MyDrive/runs/detect/train3(test)/4751219743046452701-192f26ccaacd869b196329a63c61a4d5-22051709_jpg.rf.99fc59d5acd44ea956e87b2a97fdd021.jpg  \n",
            "  inflating: /content/extracted_runs/content/drive/MyDrive/runs/detect/train3(test)/Screenshot-436-_png_jpg.rf.2441c2208f97b77a6ce38f137e0cb0ac.jpg  \n",
            "  inflating: /content/extracted_runs/content/drive/MyDrive/runs/detect/train3(test)/Screenshot-186-_png_jpg.rf.5f7559aef225c89f168bff1eefee853a.jpg  \n",
            "  inflating: /content/extracted_runs/content/drive/MyDrive/runs/detect/train3(test)/Screenshot-306-_png_jpg.rf.31733d946f16fb9622323c0a626a821d.jpg  \n",
            "  inflating: /content/extracted_runs/content/drive/MyDrive/runs/detect/train3(test)/Screenshot-456-_png_jpg.rf.7d9d3ccb4c57af9b9da2634a44e9c783.jpg  \n",
            "  inflating: /content/extracted_runs/content/drive/MyDrive/runs/detect/train3(test)/Screenshot-257-_png_jpg.rf.f19683ecdc2b18b78a03449cbb2f6022.jpg  \n",
            "  inflating: /content/extracted_runs/content/drive/MyDrive/runs/detect/train3(test)/Screenshot-399-_png_jpg.rf.2c6429e3c8cb5a12ae1418bb71a1ec44.jpg  \n",
            "  inflating: /content/extracted_runs/content/drive/MyDrive/runs/detect/train3(test)/Screenshot-233-_png_jpg.rf.4026d7645f94c77f2b1803b0eb70efa3.jpg  \n",
            "  inflating: /content/extracted_runs/content/drive/MyDrive/runs/detect/train3(test)/Screenshot-485-_png_jpg.rf.3e756a1bb8bc4dd2db8c1ca56dbc1844.jpg  \n",
            "  inflating: /content/extracted_runs/content/drive/MyDrive/runs/detect/train3(test)/Screenshot-525-_png_jpg.rf.b8f1992382bed5b62e436477abaad0c6.jpg  \n",
            "  inflating: /content/extracted_runs/content/drive/MyDrive/runs/detect/train3(test)/images253_jpg.rf.5d47f5ad787fdeeadbdac4218681e47f.jpg  \n",
            "  inflating: /content/extracted_runs/content/drive/MyDrive/runs/detect/train3(test)/Screenshot-302-_png_jpg.rf.c0a647abc45d63907a5d794a18a5757d.jpg  \n",
            "  inflating: /content/extracted_runs/content/drive/MyDrive/runs/detect/train3(test)/Screenshot-489-_png_jpg.rf.a7f9838532c681fef0d7317c95400f9c.jpg  \n",
            "  inflating: /content/extracted_runs/content/drive/MyDrive/runs/detect/train3(test)/Screenshot-364-_png_jpg.rf.029ae56e095afd43637c5664c611ba31.jpg  \n",
            "  inflating: /content/extracted_runs/content/drive/MyDrive/runs/detect/train3(test)/dla3tv_jpg.rf.f03cb52a431f77f8d6f700576738c104.jpg  \n",
            "  inflating: /content/extracted_runs/content/drive/MyDrive/runs/detect/train3(test)/Screenshot-259-_png_jpg.rf.d769b829b2aa3dcc8d46040948b8037e.jpg  \n",
            "  inflating: /content/extracted_runs/content/drive/MyDrive/runs/detect/train3(test)/images293_jpg.rf.090e5cc95ad79d6a9203d5b6b0161343.jpg  \n",
            "  inflating: /content/extracted_runs/content/drive/MyDrive/runs/detect/train3(test)/Screenshot-220-_png_jpg.rf.41036c4c9fb3d0b06fbadb27aec4b31a.jpg  \n",
            "  inflating: /content/extracted_runs/content/drive/MyDrive/runs/detect/train3(test)/Screenshot-381-_png_jpg.rf.7b97b0e0553afe65b414259cce6253ea.jpg  \n",
            "  inflating: /content/extracted_runs/content/drive/MyDrive/runs/detect/train3(test)/db74s9_jpg.rf.463902a7106d80339624284ab8890a06.jpg  \n",
            "  inflating: /content/extracted_runs/content/drive/MyDrive/runs/detect/train3(test)/images245_jpg.rf.d5c7778c9fbcd489ad27e47d868d1024.jpg  \n",
            "  inflating: /content/extracted_runs/content/drive/MyDrive/runs/detect/train3(test)/images235_jpg.rf.bd5f60c0ff29a8d646920e732a191ee2.jpg  \n",
            "  inflating: /content/extracted_runs/content/drive/MyDrive/runs/detect/train3(test)/Screenshot-300-_png_jpg.rf.081bc871ab6d8ea02887768cdc3748b5.jpg  \n",
            "  inflating: /content/extracted_runs/content/drive/MyDrive/runs/detect/train3(test)/Screenshot-253-_png_jpg.rf.e0ca5e425f222e45d8c93236dab9e25c.jpg  \n",
            "  inflating: /content/extracted_runs/content/drive/MyDrive/runs/detect/train3(test)/Screenshot-493-_png_jpg.rf.bfbbaaeca4e8f94b75583cc4382e76df.jpg  \n",
            "  inflating: /content/extracted_runs/content/drive/MyDrive/runs/detect/train3(test)/Screenshot-491-_png_jpg.rf.63623f7a732ece956c14122f72bd1a91.jpg  \n",
            "  inflating: /content/extracted_runs/content/drive/MyDrive/runs/detect/train3(test)/images231_jpg.rf.6bf579bf66c53bfd25fff3a987e0908b.jpg  \n",
            "  inflating: /content/extracted_runs/content/drive/MyDrive/runs/detect/train3(test)/84E0B8A3E0B8B6E0B988E0B887E0B983E0B89A_-Index-E0B8AAE0B8B5E0B882E0B8B2E0B8A7_jpg.rf.3bf60993a47f2ad1df0fad519a2cf423.jpg  \n",
            "  inflating: /content/extracted_runs/content/drive/MyDrive/runs/detect/train3(test)/Screenshot-287-_png_jpg.rf.f633d1070dc98553969e0379c37fa1d4.jpg  \n",
            "  inflating: /content/extracted_runs/content/drive/MyDrive/runs/detect/train3(test)/Screenshot-363-_png_jpg.rf.c471087154b20bc7bc8faf9231257acd.jpg  \n",
            "  inflating: /content/extracted_runs/content/drive/MyDrive/runs/detect/train3(test)/4751194990015458395-482b6e293083dc4c8f94f5627aaf52fa-22051707_jpg.rf.39dcccc93a1daef7207afa46f82d05d4.jpg  \n",
            "   creating: /content/extracted_runs/content/drive/MyDrive/runs/detect/train/\n",
            "  inflating: /content/extracted_runs/content/drive/MyDrive/runs/detect/train/confusion_matrix_normalized.png  \n",
            "  inflating: /content/extracted_runs/content/drive/MyDrive/runs/detect/train/labels_correlogram.jpg  \n",
            "  inflating: /content/extracted_runs/content/drive/MyDrive/runs/detect/train/F1_curve.png  \n",
            "  inflating: /content/extracted_runs/content/drive/MyDrive/runs/detect/train/P_curve.png  \n",
            "  inflating: /content/extracted_runs/content/drive/MyDrive/runs/detect/train/PR_curve.png  \n",
            "  inflating: /content/extracted_runs/content/drive/MyDrive/runs/detect/train/args.yaml  \n",
            "   creating: /content/extracted_runs/content/drive/MyDrive/runs/detect/train/weights/\n",
            "  inflating: /content/extracted_runs/content/drive/MyDrive/runs/detect/train/weights/best.pt  \n",
            "  inflating: /content/extracted_runs/content/drive/MyDrive/runs/detect/train/weights/last.pt  \n",
            "  inflating: /content/extracted_runs/content/drive/MyDrive/runs/detect/train/weights/best.engine  \n",
            "  inflating: /content/extracted_runs/content/drive/MyDrive/runs/detect/train/weights/best.onnx  \n",
            "  inflating: /content/extracted_runs/content/drive/MyDrive/runs/detect/train/val_batch1_pred.jpg  \n",
            "  inflating: /content/extracted_runs/content/drive/MyDrive/runs/detect/train/R_curve.png  \n",
            "  inflating: /content/extracted_runs/content/drive/MyDrive/runs/detect/train/train_batch5921.jpg  \n",
            "  inflating: /content/extracted_runs/content/drive/MyDrive/runs/detect/train/train_batch0.jpg  \n",
            "  inflating: /content/extracted_runs/content/drive/MyDrive/runs/detect/train/results.csv  \n",
            "  inflating: /content/extracted_runs/content/drive/MyDrive/runs/detect/train/val_batch2_pred.jpg  \n",
            "  inflating: /content/extracted_runs/content/drive/MyDrive/runs/detect/train/val_batch0_pred.jpg  \n",
            "  inflating: /content/extracted_runs/content/drive/MyDrive/runs/detect/train/val_batch1_labels.jpg  \n",
            "  inflating: /content/extracted_runs/content/drive/MyDrive/runs/detect/train/confusion_matrix.png  \n",
            "  inflating: /content/extracted_runs/content/drive/MyDrive/runs/detect/train/train_batch2.jpg  \n",
            "  inflating: /content/extracted_runs/content/drive/MyDrive/runs/detect/train/val_batch0_labels.jpg  \n",
            "  inflating: /content/extracted_runs/content/drive/MyDrive/runs/detect/train/train_batch1.jpg  \n",
            "  inflating: /content/extracted_runs/content/drive/MyDrive/runs/detect/train/events.out.tfevents.1739037077.e6cdae49eaf0.891.0  \n",
            "  inflating: /content/extracted_runs/content/drive/MyDrive/runs/detect/train/train_batch5922.jpg  \n",
            "  inflating: /content/extracted_runs/content/drive/MyDrive/runs/detect/train/labels.jpg  \n",
            "  inflating: /content/extracted_runs/content/drive/MyDrive/runs/detect/train/results.png  \n",
            "  inflating: /content/extracted_runs/content/drive/MyDrive/runs/detect/train/train_batch5920.jpg  \n",
            "  inflating: /content/extracted_runs/content/drive/MyDrive/runs/detect/train/val_batch2_labels.jpg  \n",
            "   creating: /content/extracted_runs/content/drive/MyDrive/runs/detect/train2(val)/\n",
            "  inflating: /content/extracted_runs/content/drive/MyDrive/runs/detect/train2(val)/val_batch1_pred.jpg  \n",
            "  inflating: /content/extracted_runs/content/drive/MyDrive/runs/detect/train2(val)/confusion_matrix_normalized.png  \n",
            "  inflating: /content/extracted_runs/content/drive/MyDrive/runs/detect/train2(val)/val_batch1_labels.jpg  \n",
            "  inflating: /content/extracted_runs/content/drive/MyDrive/runs/detect/train2(val)/confusion_matrix.png  \n",
            "  inflating: /content/extracted_runs/content/drive/MyDrive/runs/detect/train2(val)/R_curve.png  \n",
            "  inflating: /content/extracted_runs/content/drive/MyDrive/runs/detect/train2(val)/P_curve.png  \n",
            "  inflating: /content/extracted_runs/content/drive/MyDrive/runs/detect/train2(val)/val_batch2_labels.jpg  \n",
            "  inflating: /content/extracted_runs/content/drive/MyDrive/runs/detect/train2(val)/val_batch0_pred.jpg  \n",
            "  inflating: /content/extracted_runs/content/drive/MyDrive/runs/detect/train2(val)/val_batch2_pred.jpg  \n",
            "  inflating: /content/extracted_runs/content/drive/MyDrive/runs/detect/train2(val)/F1_curve.png  \n",
            "  inflating: /content/extracted_runs/content/drive/MyDrive/runs/detect/train2(val)/PR_curve.png  \n",
            "  inflating: /content/extracted_runs/content/drive/MyDrive/runs/detect/train2(val)/val_batch0_labels.jpg  \n",
            "  inflating: /content/extracted_runs/content/drive/MyDrive/runs/data.yaml  \n"
          ]
        }
      ]
    },
    {
      "cell_type": "code",
      "source": [
        "# @title Load the trained model and perform Helmet Detection (Requires execution for testing)\n",
        "\n",
        "import gradio as gr\n",
        "import cv2\n",
        "import os\n",
        "from ultralytics import YOLO\n",
        "\n",
        "best_model_path = \"/content/extracted_runs/content/drive/MyDrive/runs/detect/train/weights/best.pt\"\n",
        "\n",
        "# Load the trained YOLOv11 model\n",
        "model = YOLO(best_model_path)\n",
        "\n",
        "# Function to process an image\n",
        "def detect_helmet_image(image_path):\n",
        "    results = model.predict(source=image_path, save=True)\n",
        "    detected_image_path = results[0].save_dir + \"/\" + os.path.basename(image_path)\n",
        "    return detected_image_path\n",
        "\n",
        "# Main UI function\n",
        "def process_file(file, file_type):\n",
        "    if file is None:\n",
        "        return \"Please upload a file.\"\n",
        "\n",
        "    if file_type == \"Image\":\n",
        "        return detect_helmet_image(file)\n",
        "   # elif file_type == \"Video\":\n",
        "   #     return detect_helmet_video(file)\n",
        "\n",
        "# Gradio Interface\n",
        "with gr.Blocks() as demo:\n",
        "    gr.Markdown(\"# 🚀 Helmet Detection with YOLOv9m\")\n",
        "    gr.Markdown(\"**Choose to upload an Image for helmet detection**\")\n",
        "\n",
        "    file_type = gr.Radio([\"Image\"], label=\"File Type\", value=\"Image\")\n",
        "    file_input = gr.File(label=\"Upload Image\")\n",
        "    output = gr.Image(label=\"Detected Image\")  # Default output for images\n",
        "\n",
        "    def update_output(file, file_type):\n",
        "        result_path = process_file(file.name, file_type)\n",
        "        if file_type == \"Image\":\n",
        "            return result_path  # Display the processed image\n",
        "\n",
        "    submit_button = gr.Button(\"Run Detection\")\n",
        "    submit_button.click(update_output, inputs=[file_input, file_type], outputs=output)\n",
        "\n",
        "# Launch the UI\n",
        "demo.launch()\n"
      ],
      "metadata": {
        "colab": {
          "base_uri": "https://localhost:8080/",
          "height": 645
        },
        "id": "HvWLXrdzuoi-",
        "outputId": "4eda7954-9dbf-4bcb-e93e-b7a96d31ed36"
      },
      "execution_count": 18,
      "outputs": [
        {
          "output_type": "stream",
          "name": "stdout",
          "text": [
            "Running Gradio in a Colab notebook requires sharing enabled. Automatically setting `share=True` (you can turn this off by setting `share=False` in `launch()` explicitly).\n",
            "\n",
            "Colab notebook detected. To show errors in colab notebook, set debug=True in launch()\n",
            "* Running on public URL: https://385d90e4c959eeeed4.gradio.live\n",
            "\n",
            "This share link expires in 72 hours. For free permanent hosting and GPU upgrades, run `gradio deploy` from the terminal in the working directory to deploy to Hugging Face Spaces (https://huggingface.co/spaces)\n"
          ]
        },
        {
          "output_type": "display_data",
          "data": {
            "text/plain": [
              "<IPython.core.display.HTML object>"
            ],
            "text/html": [
              "<div><iframe src=\"https://385d90e4c959eeeed4.gradio.live\" width=\"100%\" height=\"500\" allow=\"autoplay; camera; microphone; clipboard-read; clipboard-write;\" frameborder=\"0\" allowfullscreen></iframe></div>"
            ]
          },
          "metadata": {}
        },
        {
          "output_type": "execute_result",
          "data": {
            "text/plain": []
          },
          "metadata": {},
          "execution_count": 18
        }
      ]
    },
    {
      "cell_type": "code",
      "source": [
        "# @title Helmet Detection on Video\n",
        "import cv2\n",
        "import os\n",
        "import shutil\n",
        "from ultralytics import YOLO\n",
        "\n",
        "# Define the path to your trained YOLO model\n",
        "best_model_path = \"/content/extracted_runs/content/drive/MyDrive/runs/detect/train/weights/best.pt\"  # Update with your actual model path\n",
        "\n",
        "# Load the trained YOLO model\n",
        "model = YOLO(best_model_path)\n",
        "\n",
        "# Function to process a video\n",
        "def detect_helmet_video(video_path, output_path=\"/content/detected_output.mp4\"):\n",
        "    results = model.predict(source=video_path, save=True)\n",
        "\n",
        "    # Get YOLO's output directory where processed video is saved\n",
        "    detected_dir = results[0].save_dir\n",
        "    detected_video = [f for f in os.listdir(detected_dir) if f.endswith(\".avi\")]\n",
        "\n",
        "    if detected_video:\n",
        "        detected_video_path = os.path.join(detected_dir, detected_video[0])\n",
        "\n",
        "        # Define final output path in Colab directory\n",
        "        final_avi_path = \"/content/detected_output.avi\"\n",
        "        shutil.move(detected_video_path, final_avi_path)\n",
        "\n",
        "        print(f\"Processed video saved at: {final_avi_path}\")\n",
        "\n",
        "        # Convert AVI to MP4\n",
        "        final_mp4_path = \"/content/detected_output.mp4\"\n",
        "        convert_avi_to_mp4(final_avi_path, final_mp4_path)\n",
        "\n",
        "        print(f\"Converted video saved at: {final_mp4_path}\")\n",
        "\n",
        "# Function to Convert AVI to MP4 using OpenCV\n",
        "def convert_avi_to_mp4(input_path, output_path):\n",
        "    cap = cv2.VideoCapture(input_path)\n",
        "    fourcc = cv2.VideoWriter_fourcc(*'mp4v')  # MP4 codec\n",
        "    fps = int(cap.get(cv2.CAP_PROP_FPS))\n",
        "    width = int(cap.get(cv2.CAP_PROP_FRAME_WIDTH))\n",
        "    height = int(cap.get(cv2.CAP_PROP_FRAME_HEIGHT))\n",
        "\n",
        "    out = cv2.VideoWriter(output_path, fourcc, fps, (width, height))\n",
        "\n",
        "    while cap.isOpened():\n",
        "        ret, frame = cap.read()\n",
        "        if not ret:\n",
        "            break\n",
        "        out.write(frame)\n",
        "\n",
        "    cap.release()\n",
        "    out.release()\n",
        "    print(f\"Converted AVI to MP4: {output_path}\")\n",
        "\n",
        "# Example Usage\n",
        "video_file = \"/content/Main HelmetMotorcycle.mp4\"  # Update with your video file path\n",
        "detect_helmet_video(video_file)\n"
      ],
      "metadata": {
        "colab": {
          "base_uri": "https://localhost:8080/"
        },
        "collapsed": true,
        "id": "5pai9l6SG5XQ",
        "outputId": "0d40bd9b-d8ec-4de9-ff26-497c076e9792"
      },
      "execution_count": 4,
      "outputs": [
        {
          "output_type": "stream",
          "name": "stdout",
          "text": [
            "\n",
            "\n",
            "WARNING ⚠️ inference results will accumulate in RAM unless `stream=True` is passed, causing potential out-of-memory\n",
            "errors for large sources or long-running streams and videos. See https://docs.ultralytics.com/modes/predict/ for help.\n",
            "\n",
            "Example:\n",
            "    results = model(source=..., stream=True)  # generator of Results objects\n",
            "    for r in results:\n",
            "        boxes = r.boxes  # Boxes object for bbox outputs\n",
            "        masks = r.masks  # Masks object for segment masks outputs\n",
            "        probs = r.probs  # Class probabilities for classification outputs\n",
            "\n",
            "video 1/1 (frame 1/173) /content/Main HelmetMotorcycle.mp4: 640x640 1 with helmet, 1591.7ms\n",
            "video 1/1 (frame 2/173) /content/Main HelmetMotorcycle.mp4: 640x640 1 with helmet, 1594.7ms\n",
            "video 1/1 (frame 3/173) /content/Main HelmetMotorcycle.mp4: 640x640 1 with helmet, 1607.0ms\n",
            "video 1/1 (frame 4/173) /content/Main HelmetMotorcycle.mp4: 640x640 1 with helmet, 1582.8ms\n",
            "video 1/1 (frame 5/173) /content/Main HelmetMotorcycle.mp4: 640x640 1 with helmet, 2191.3ms\n",
            "video 1/1 (frame 6/173) /content/Main HelmetMotorcycle.mp4: 640x640 1 with helmet, 2466.7ms\n",
            "video 1/1 (frame 7/173) /content/Main HelmetMotorcycle.mp4: 640x640 1 with helmet, 1601.8ms\n",
            "video 1/1 (frame 8/173) /content/Main HelmetMotorcycle.mp4: 640x640 1 with helmet, 1592.4ms\n",
            "video 1/1 (frame 9/173) /content/Main HelmetMotorcycle.mp4: 640x640 1 with helmet, 1597.8ms\n",
            "video 1/1 (frame 10/173) /content/Main HelmetMotorcycle.mp4: 640x640 1 with helmet, 1624.5ms\n",
            "video 1/1 (frame 11/173) /content/Main HelmetMotorcycle.mp4: 640x640 1 with helmet, 1624.1ms\n",
            "video 1/1 (frame 12/173) /content/Main HelmetMotorcycle.mp4: 640x640 1 with helmet, 1597.1ms\n",
            "video 1/1 (frame 13/173) /content/Main HelmetMotorcycle.mp4: 640x640 1 with helmet, 2425.6ms\n",
            "video 1/1 (frame 14/173) /content/Main HelmetMotorcycle.mp4: 640x640 1 with helmet, 2124.9ms\n",
            "video 1/1 (frame 15/173) /content/Main HelmetMotorcycle.mp4: 640x640 1 with helmet, 1601.0ms\n",
            "video 1/1 (frame 16/173) /content/Main HelmetMotorcycle.mp4: 640x640 1 with helmet, 1581.0ms\n",
            "video 1/1 (frame 17/173) /content/Main HelmetMotorcycle.mp4: 640x640 1 with helmet, 1586.7ms\n",
            "video 1/1 (frame 18/173) /content/Main HelmetMotorcycle.mp4: 640x640 1 with helmet, 1579.7ms\n",
            "video 1/1 (frame 19/173) /content/Main HelmetMotorcycle.mp4: 640x640 1 with helmet, 1594.1ms\n",
            "video 1/1 (frame 20/173) /content/Main HelmetMotorcycle.mp4: 640x640 1 with helmet, 1789.1ms\n",
            "video 1/1 (frame 21/173) /content/Main HelmetMotorcycle.mp4: 640x640 1 with helmet, 2493.5ms\n",
            "video 1/1 (frame 22/173) /content/Main HelmetMotorcycle.mp4: 640x640 1 with helmet, 1877.2ms\n",
            "video 1/1 (frame 23/173) /content/Main HelmetMotorcycle.mp4: 640x640 1 with helmet, 1585.8ms\n",
            "video 1/1 (frame 24/173) /content/Main HelmetMotorcycle.mp4: 640x640 1 with helmet, 1607.0ms\n",
            "video 1/1 (frame 25/173) /content/Main HelmetMotorcycle.mp4: 640x640 1 with helmet, 1595.9ms\n",
            "video 1/1 (frame 26/173) /content/Main HelmetMotorcycle.mp4: 640x640 1 with helmet, 1 without helmet, 1594.6ms\n",
            "video 1/1 (frame 27/173) /content/Main HelmetMotorcycle.mp4: 640x640 1 with helmet, 1 without helmet, 1574.0ms\n",
            "video 1/1 (frame 28/173) /content/Main HelmetMotorcycle.mp4: 640x640 1 with helmet, 1 without helmet, 1978.5ms\n",
            "video 1/1 (frame 29/173) /content/Main HelmetMotorcycle.mp4: 640x640 1 with helmet, 1 without helmet, 2498.3ms\n",
            "video 1/1 (frame 30/173) /content/Main HelmetMotorcycle.mp4: 640x640 1 with helmet, 1 without helmet, 1647.1ms\n",
            "video 1/1 (frame 31/173) /content/Main HelmetMotorcycle.mp4: 640x640 1 with helmet, 1 without helmet, 1586.5ms\n",
            "video 1/1 (frame 32/173) /content/Main HelmetMotorcycle.mp4: 640x640 1 with helmet, 1 without helmet, 1593.9ms\n",
            "video 1/1 (frame 33/173) /content/Main HelmetMotorcycle.mp4: 640x640 1 with helmet, 1 without helmet, 1604.4ms\n",
            "video 1/1 (frame 34/173) /content/Main HelmetMotorcycle.mp4: 640x640 1 with helmet, 1 without helmet, 2410.1ms\n",
            "video 1/1 (frame 35/173) /content/Main HelmetMotorcycle.mp4: 640x640 1 with helmet, 2628.6ms\n",
            "video 1/1 (frame 36/173) /content/Main HelmetMotorcycle.mp4: 640x640 1 with helmet, 1 without helmet, 2469.6ms\n",
            "video 1/1 (frame 37/173) /content/Main HelmetMotorcycle.mp4: 640x640 1 with helmet, 1 without helmet, 1687.9ms\n",
            "video 1/1 (frame 38/173) /content/Main HelmetMotorcycle.mp4: 640x640 1 with helmet, 1 without helmet, 1570.7ms\n",
            "video 1/1 (frame 39/173) /content/Main HelmetMotorcycle.mp4: 640x640 1 rider, 1 with helmet, 1537.3ms\n",
            "video 1/1 (frame 40/173) /content/Main HelmetMotorcycle.mp4: 640x640 1 rider, 1 with helmet, 1587.5ms\n",
            "video 1/1 (frame 41/173) /content/Main HelmetMotorcycle.mp4: 640x640 1 with helmet, 1564.4ms\n",
            "video 1/1 (frame 42/173) /content/Main HelmetMotorcycle.mp4: 640x640 1 with helmet, 1561.8ms\n",
            "video 1/1 (frame 43/173) /content/Main HelmetMotorcycle.mp4: 640x640 1 rider, 1 with helmet, 2100.8ms\n",
            "video 1/1 (frame 44/173) /content/Main HelmetMotorcycle.mp4: 640x640 1 rider, 1 with helmet, 2440.4ms\n",
            "video 1/1 (frame 45/173) /content/Main HelmetMotorcycle.mp4: 640x640 1 rider, 1 with helmet, 1544.2ms\n",
            "video 1/1 (frame 46/173) /content/Main HelmetMotorcycle.mp4: 640x640 1 rider, 1 with helmet, 1 without helmet, 1572.5ms\n",
            "video 1/1 (frame 47/173) /content/Main HelmetMotorcycle.mp4: 640x640 1 rider, 1 with helmet, 1 without helmet, 1545.9ms\n",
            "video 1/1 (frame 48/173) /content/Main HelmetMotorcycle.mp4: 640x640 1 rider, 1 with helmet, 1 without helmet, 1557.7ms\n",
            "video 1/1 (frame 49/173) /content/Main HelmetMotorcycle.mp4: 640x640 1 with helmet, 1584.8ms\n",
            "video 1/1 (frame 50/173) /content/Main HelmetMotorcycle.mp4: 640x640 (no detections), 1550.1ms\n",
            "video 1/1 (frame 51/173) /content/Main HelmetMotorcycle.mp4: 640x640 1 rider, 1 with helmet, 2213.5ms\n",
            "video 1/1 (frame 52/173) /content/Main HelmetMotorcycle.mp4: 640x640 1 rider, 1 with helmet, 2286.2ms\n",
            "video 1/1 (frame 53/173) /content/Main HelmetMotorcycle.mp4: 640x640 1 with helmet, 1582.6ms\n",
            "video 1/1 (frame 54/173) /content/Main HelmetMotorcycle.mp4: 640x640 1 with helmet, 1552.3ms\n",
            "video 1/1 (frame 55/173) /content/Main HelmetMotorcycle.mp4: 640x640 1 with helmet, 1573.2ms\n",
            "video 1/1 (frame 56/173) /content/Main HelmetMotorcycle.mp4: 640x640 1 with helmet, 1587.2ms\n",
            "video 1/1 (frame 57/173) /content/Main HelmetMotorcycle.mp4: 640x640 1 rider, 1 with helmet, 1 without helmet, 1582.0ms\n",
            "video 1/1 (frame 58/173) /content/Main HelmetMotorcycle.mp4: 640x640 1 rider, 1 with helmet, 1587.0ms\n",
            "video 1/1 (frame 59/173) /content/Main HelmetMotorcycle.mp4: 640x640 1 rider, 1 with helmet, 1 without helmet, 2424.6ms\n",
            "video 1/1 (frame 60/173) /content/Main HelmetMotorcycle.mp4: 640x640 1 rider, 1 with helmet, 2104.1ms\n",
            "video 1/1 (frame 61/173) /content/Main HelmetMotorcycle.mp4: 640x640 1 with helmet, 1579.7ms\n",
            "video 1/1 (frame 62/173) /content/Main HelmetMotorcycle.mp4: 640x640 1 rider, 1 with helmet, 1 without helmet, 1565.4ms\n",
            "video 1/1 (frame 63/173) /content/Main HelmetMotorcycle.mp4: 640x640 1 rider, 1 with helmet, 1571.4ms\n",
            "video 1/1 (frame 64/173) /content/Main HelmetMotorcycle.mp4: 640x640 1 with helmet, 1521.1ms\n",
            "video 1/1 (frame 65/173) /content/Main HelmetMotorcycle.mp4: 640x640 1 rider, 1 with helmet, 1507.8ms\n",
            "video 1/1 (frame 66/173) /content/Main HelmetMotorcycle.mp4: 640x640 1 rider, 1 with helmet, 1607.7ms\n",
            "video 1/1 (frame 67/173) /content/Main HelmetMotorcycle.mp4: 640x640 1 rider, 1 with helmet, 2459.8ms\n",
            "video 1/1 (frame 68/173) /content/Main HelmetMotorcycle.mp4: 640x640 1 rider, 1 with helmet, 1966.2ms\n",
            "video 1/1 (frame 69/173) /content/Main HelmetMotorcycle.mp4: 640x640 1 with helmet, 1606.0ms\n",
            "video 1/1 (frame 70/173) /content/Main HelmetMotorcycle.mp4: 640x640 1 rider, 1 with helmet, 1576.4ms\n",
            "video 1/1 (frame 71/173) /content/Main HelmetMotorcycle.mp4: 640x640 (no detections), 1565.9ms\n",
            "video 1/1 (frame 72/173) /content/Main HelmetMotorcycle.mp4: 640x640 1 rider, 1 with helmet, 1555.0ms\n",
            "video 1/1 (frame 73/173) /content/Main HelmetMotorcycle.mp4: 640x640 1 with helmet, 1543.4ms\n",
            "video 1/1 (frame 74/173) /content/Main HelmetMotorcycle.mp4: 640x640 (no detections), 1836.2ms\n",
            "video 1/1 (frame 75/173) /content/Main HelmetMotorcycle.mp4: 640x640 1 with helmet, 2490.1ms\n",
            "video 1/1 (frame 76/173) /content/Main HelmetMotorcycle.mp4: 640x640 1 with helmet, 1781.9ms\n",
            "video 1/1 (frame 77/173) /content/Main HelmetMotorcycle.mp4: 640x640 1 with helmet, 1605.5ms\n",
            "video 1/1 (frame 78/173) /content/Main HelmetMotorcycle.mp4: 640x640 1 with helmet, 1573.0ms\n",
            "video 1/1 (frame 79/173) /content/Main HelmetMotorcycle.mp4: 640x640 1 with helmet, 1580.9ms\n",
            "video 1/1 (frame 80/173) /content/Main HelmetMotorcycle.mp4: 640x640 1 with helmet, 1583.6ms\n",
            "video 1/1 (frame 81/173) /content/Main HelmetMotorcycle.mp4: 640x640 1 rider, 1 with helmet, 1600.7ms\n",
            "video 1/1 (frame 82/173) /content/Main HelmetMotorcycle.mp4: 640x640 1 with helmet, 2075.9ms\n",
            "video 1/1 (frame 83/173) /content/Main HelmetMotorcycle.mp4: 640x640 1 rider, 1 with helmet, 2448.8ms\n",
            "video 1/1 (frame 84/173) /content/Main HelmetMotorcycle.mp4: 640x640 1 rider, 1 with helmet, 1562.4ms\n",
            "video 1/1 (frame 85/173) /content/Main HelmetMotorcycle.mp4: 640x640 1 rider, 1 with helmet, 1509.6ms\n",
            "video 1/1 (frame 86/173) /content/Main HelmetMotorcycle.mp4: 640x640 1 rider, 1 with helmet, 1557.9ms\n",
            "video 1/1 (frame 87/173) /content/Main HelmetMotorcycle.mp4: 640x640 1 rider, 1 with helmet, 1590.4ms\n",
            "video 1/1 (frame 88/173) /content/Main HelmetMotorcycle.mp4: 640x640 1 rider, 1 with helmet, 1534.8ms\n",
            "video 1/1 (frame 89/173) /content/Main HelmetMotorcycle.mp4: 640x640 1 rider, 1 with helmet, 1570.0ms\n",
            "video 1/1 (frame 90/173) /content/Main HelmetMotorcycle.mp4: 640x640 1 rider, 1 with helmet, 2171.7ms\n",
            "video 1/1 (frame 91/173) /content/Main HelmetMotorcycle.mp4: 640x640 1 rider, 1 with helmet, 2291.3ms\n",
            "video 1/1 (frame 92/173) /content/Main HelmetMotorcycle.mp4: 640x640 1 rider, 1 with helmet, 1565.6ms\n",
            "video 1/1 (frame 93/173) /content/Main HelmetMotorcycle.mp4: 640x640 1 rider, 1 with helmet, 1530.9ms\n",
            "video 1/1 (frame 94/173) /content/Main HelmetMotorcycle.mp4: 640x640 1 rider, 1 with helmet, 1600.0ms\n",
            "video 1/1 (frame 95/173) /content/Main HelmetMotorcycle.mp4: 640x640 1 rider, 1 with helmet, 1571.6ms\n",
            "video 1/1 (frame 96/173) /content/Main HelmetMotorcycle.mp4: 640x640 1 rider, 1 with helmet, 1566.6ms\n",
            "video 1/1 (frame 97/173) /content/Main HelmetMotorcycle.mp4: 640x640 1 rider, 1 with helmet, 1559.2ms\n",
            "video 1/1 (frame 98/173) /content/Main HelmetMotorcycle.mp4: 640x640 1 rider, 1 with helmet, 2389.5ms\n",
            "video 1/1 (frame 99/173) /content/Main HelmetMotorcycle.mp4: 640x640 1 rider, 1 with helmet, 2134.0ms\n",
            "video 1/1 (frame 100/173) /content/Main HelmetMotorcycle.mp4: 640x640 1 rider, 1 with helmet, 1582.4ms\n",
            "video 1/1 (frame 101/173) /content/Main HelmetMotorcycle.mp4: 640x640 1 rider, 1 with helmet, 1572.5ms\n",
            "video 1/1 (frame 102/173) /content/Main HelmetMotorcycle.mp4: 640x640 1 rider, 1 with helmet, 1594.5ms\n",
            "video 1/1 (frame 103/173) /content/Main HelmetMotorcycle.mp4: 640x640 1 rider, 1 with helmet, 1569.9ms\n",
            "video 1/1 (frame 104/173) /content/Main HelmetMotorcycle.mp4: 640x640 1 rider, 1 with helmet, 1602.2ms\n",
            "video 1/1 (frame 105/173) /content/Main HelmetMotorcycle.mp4: 640x640 1 rider, 1 with helmet, 1662.8ms\n",
            "video 1/1 (frame 106/173) /content/Main HelmetMotorcycle.mp4: 640x640 1 rider, 1 with helmet, 2474.1ms\n",
            "video 1/1 (frame 107/173) /content/Main HelmetMotorcycle.mp4: 640x640 1 rider, 1 with helmet, 1908.0ms\n",
            "video 1/1 (frame 108/173) /content/Main HelmetMotorcycle.mp4: 640x640 1 rider, 1 with helmet, 1581.2ms\n",
            "video 1/1 (frame 109/173) /content/Main HelmetMotorcycle.mp4: 640x640 1 rider, 1 with helmet, 1598.9ms\n",
            "video 1/1 (frame 110/173) /content/Main HelmetMotorcycle.mp4: 640x640 1 rider, 1 with helmet, 1560.1ms\n",
            "video 1/1 (frame 111/173) /content/Main HelmetMotorcycle.mp4: 640x640 1 rider, 1 with helmet, 1536.7ms\n",
            "video 1/1 (frame 112/173) /content/Main HelmetMotorcycle.mp4: 640x640 1 rider, 1 with helmet, 1566.0ms\n",
            "video 1/1 (frame 113/173) /content/Main HelmetMotorcycle.mp4: 640x640 1 rider, 1 with helmet, 1820.0ms\n",
            "video 1/1 (frame 114/173) /content/Main HelmetMotorcycle.mp4: 640x640 1 rider, 1 with helmet, 2498.3ms\n",
            "video 1/1 (frame 115/173) /content/Main HelmetMotorcycle.mp4: 640x640 1 rider, 1 with helmet, 1746.1ms\n",
            "video 1/1 (frame 116/173) /content/Main HelmetMotorcycle.mp4: 640x640 1 rider, 1 with helmet, 1582.8ms\n",
            "video 1/1 (frame 117/173) /content/Main HelmetMotorcycle.mp4: 640x640 1 rider, 1 with helmet, 1575.4ms\n",
            "video 1/1 (frame 118/173) /content/Main HelmetMotorcycle.mp4: 640x640 1 rider, 1 with helmet, 1550.4ms\n",
            "video 1/1 (frame 119/173) /content/Main HelmetMotorcycle.mp4: 640x640 1 rider, 1 with helmet, 1563.5ms\n",
            "video 1/1 (frame 120/173) /content/Main HelmetMotorcycle.mp4: 640x640 1 rider, 1 with helmet, 1533.8ms\n",
            "video 1/1 (frame 121/173) /content/Main HelmetMotorcycle.mp4: 640x640 1 rider, 1 with helmet, 1999.8ms\n",
            "video 1/1 (frame 122/173) /content/Main HelmetMotorcycle.mp4: 640x640 1 rider, 1 with helmet, 2496.3ms\n",
            "video 1/1 (frame 123/173) /content/Main HelmetMotorcycle.mp4: 640x640 1 with helmet, 1588.1ms\n",
            "video 1/1 (frame 124/173) /content/Main HelmetMotorcycle.mp4: 640x640 1 rider, 1 with helmet, 1 without helmet, 1577.6ms\n",
            "video 1/1 (frame 125/173) /content/Main HelmetMotorcycle.mp4: 640x640 1 rider, 1 with helmet, 1 without helmet, 1552.0ms\n",
            "video 1/1 (frame 126/173) /content/Main HelmetMotorcycle.mp4: 640x640 1 rider, 1 with helmet, 1 without helmet, 1569.0ms\n",
            "video 1/1 (frame 127/173) /content/Main HelmetMotorcycle.mp4: 640x640 1 rider, 1 with helmet, 1 without helmet, 1567.3ms\n",
            "video 1/1 (frame 128/173) /content/Main HelmetMotorcycle.mp4: 640x640 1 rider, 1 with helmet, 1 without helmet, 1595.1ms\n",
            "video 1/1 (frame 129/173) /content/Main HelmetMotorcycle.mp4: 640x640 1 rider, 1 with helmet, 2341.7ms\n",
            "video 1/1 (frame 130/173) /content/Main HelmetMotorcycle.mp4: 640x640 1 rider, 1 with helmet, 2630.3ms\n",
            "video 1/1 (frame 131/173) /content/Main HelmetMotorcycle.mp4: 640x640 1 rider, 1 with helmet, 1 without helmet, 2729.8ms\n",
            "video 1/1 (frame 132/173) /content/Main HelmetMotorcycle.mp4: 640x640 1 rider, 1 with helmet, 1586.2ms\n",
            "video 1/1 (frame 133/173) /content/Main HelmetMotorcycle.mp4: 640x640 1 rider, 1 with helmet, 1 without helmet, 1590.1ms\n",
            "video 1/1 (frame 134/173) /content/Main HelmetMotorcycle.mp4: 640x640 1 rider, 1 with helmet, 1 without helmet, 1559.5ms\n",
            "video 1/1 (frame 135/173) /content/Main HelmetMotorcycle.mp4: 640x640 1 rider, 1 with helmet, 1 without helmet, 1595.4ms\n",
            "video 1/1 (frame 136/173) /content/Main HelmetMotorcycle.mp4: 640x640 1 rider, 1 with helmet, 1 without helmet, 1572.5ms\n",
            "video 1/1 (frame 137/173) /content/Main HelmetMotorcycle.mp4: 640x640 1 rider, 1 with helmet, 1 without helmet, 1865.7ms\n",
            "video 1/1 (frame 138/173) /content/Main HelmetMotorcycle.mp4: 640x640 1 rider, 1 with helmet, 1 without helmet, 2449.7ms\n",
            "video 1/1 (frame 139/173) /content/Main HelmetMotorcycle.mp4: 640x640 1 rider, 1 without helmet, 1787.2ms\n",
            "video 1/1 (frame 140/173) /content/Main HelmetMotorcycle.mp4: 640x640 1 rider, 1 with helmet, 1 without helmet, 1578.8ms\n",
            "video 1/1 (frame 141/173) /content/Main HelmetMotorcycle.mp4: 640x640 1 rider, 1 with helmet, 1 without helmet, 1536.9ms\n",
            "video 1/1 (frame 142/173) /content/Main HelmetMotorcycle.mp4: 640x640 1 rider, 1 with helmet, 1592.1ms\n",
            "video 1/1 (frame 143/173) /content/Main HelmetMotorcycle.mp4: 640x640 1 rider, 1 with helmet, 1 without helmet, 1578.2ms\n",
            "video 1/1 (frame 144/173) /content/Main HelmetMotorcycle.mp4: 640x640 1 rider, 1 with helmet, 1 without helmet, 1595.7ms\n",
            "video 1/1 (frame 145/173) /content/Main HelmetMotorcycle.mp4: 640x640 1 rider, 1 with helmet, 1983.6ms\n",
            "video 1/1 (frame 146/173) /content/Main HelmetMotorcycle.mp4: 640x640 1 rider, 1 with helmet, 1 without helmet, 2448.2ms\n",
            "video 1/1 (frame 147/173) /content/Main HelmetMotorcycle.mp4: 640x640 1 rider, 1 without helmet, 1713.5ms\n",
            "video 1/1 (frame 148/173) /content/Main HelmetMotorcycle.mp4: 640x640 1 rider, 1 with helmet, 1 without helmet, 1580.0ms\n",
            "video 1/1 (frame 149/173) /content/Main HelmetMotorcycle.mp4: 640x640 1 rider, 1 with helmet, 1536.3ms\n",
            "video 1/1 (frame 150/173) /content/Main HelmetMotorcycle.mp4: 640x640 1 rider, 1 with helmet, 1 without helmet, 1561.0ms\n",
            "video 1/1 (frame 151/173) /content/Main HelmetMotorcycle.mp4: 640x640 1 rider, 1 without helmet, 1558.3ms\n",
            "video 1/1 (frame 152/173) /content/Main HelmetMotorcycle.mp4: 640x640 1 rider, 1 with helmet, 1572.9ms\n",
            "video 1/1 (frame 153/173) /content/Main HelmetMotorcycle.mp4: 640x640 1 rider, 1 with helmet, 2069.9ms\n",
            "video 1/1 (frame 154/173) /content/Main HelmetMotorcycle.mp4: 640x640 1 rider, 1 with helmet, 2433.0ms\n",
            "video 1/1 (frame 155/173) /content/Main HelmetMotorcycle.mp4: 640x640 1 rider, 1 with helmet, 1635.6ms\n",
            "video 1/1 (frame 156/173) /content/Main HelmetMotorcycle.mp4: 640x640 1 rider, 1 with helmet, 1 without helmet, 1541.3ms\n",
            "video 1/1 (frame 157/173) /content/Main HelmetMotorcycle.mp4: 640x640 1 rider, 1 with helmet, 1520.2ms\n",
            "video 1/1 (frame 158/173) /content/Main HelmetMotorcycle.mp4: 640x640 1 rider, 1 with helmet, 1591.4ms\n",
            "video 1/1 (frame 159/173) /content/Main HelmetMotorcycle.mp4: 640x640 1 rider, 1 without helmet, 1545.7ms\n",
            "video 1/1 (frame 160/173) /content/Main HelmetMotorcycle.mp4: 640x640 1 rider, 1 with helmet, 1 without helmet, 1565.3ms\n",
            "video 1/1 (frame 161/173) /content/Main HelmetMotorcycle.mp4: 640x640 1 rider, 1 with helmet, 1 without helmet, 2030.3ms\n",
            "video 1/1 (frame 162/173) /content/Main HelmetMotorcycle.mp4: 640x640 1 rider, 1 without helmet, 2445.8ms\n",
            "video 1/1 (frame 163/173) /content/Main HelmetMotorcycle.mp4: 640x640 1 rider, 1 without helmet, 1576.3ms\n",
            "video 1/1 (frame 164/173) /content/Main HelmetMotorcycle.mp4: 640x640 1 rider, 1 without helmet, 1577.7ms\n",
            "video 1/1 (frame 165/173) /content/Main HelmetMotorcycle.mp4: 640x640 1 rider, 1 with helmet, 1 without helmet, 1555.8ms\n",
            "video 1/1 (frame 166/173) /content/Main HelmetMotorcycle.mp4: 640x640 1 rider, 1 with helmet, 1 without helmet, 1545.9ms\n",
            "video 1/1 (frame 167/173) /content/Main HelmetMotorcycle.mp4: 640x640 1 rider, 1 with helmet, 1 without helmet, 1552.6ms\n",
            "video 1/1 (frame 168/173) /content/Main HelmetMotorcycle.mp4: 640x640 1 rider, 1 with helmet, 1574.9ms\n",
            "video 1/1 (frame 169/173) /content/Main HelmetMotorcycle.mp4: 640x640 1 rider, 1 with helmet, 1 without helmet, 2161.9ms\n",
            "video 1/1 (frame 170/173) /content/Main HelmetMotorcycle.mp4: 640x640 1 rider, 1 with helmet, 1 without helmet, 2460.3ms\n",
            "video 1/1 (frame 171/173) /content/Main HelmetMotorcycle.mp4: 640x640 1 rider, 1 with helmet, 1 without helmet, 1557.2ms\n",
            "video 1/1 (frame 172/173) /content/Main HelmetMotorcycle.mp4: 640x640 (no detections), 1531.7ms\n",
            "video 1/1 (frame 173/173) /content/Main HelmetMotorcycle.mp4: 640x640 (no detections), 1557.3ms\n",
            "Speed: 4.6ms preprocess, 1767.1ms inference, 1.2ms postprocess per image at shape (1, 3, 640, 640)\n",
            "Results saved to \u001b[1mruns/detect/predict3\u001b[0m\n",
            "Processed video saved at: /content/detected_output.avi\n",
            "Converted AVI to MP4: /content/detected_output.mp4\n",
            "Converted video saved at: /content/detected_output.mp4\n"
          ]
        }
      ]
    }
  ]
}